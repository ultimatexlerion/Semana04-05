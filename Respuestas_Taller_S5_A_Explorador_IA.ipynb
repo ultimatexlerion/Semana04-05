{
  "cells": [
    {
      "cell_type": "markdown",
      "metadata": {
        "id": "view-in-github",
        "colab_type": "text"
      },
      "source": [
        "<a href=\"https://colab.research.google.com/github/ultimatexlerion/Semana04-05/blob/main/Respuestas_Taller_S5_A_Explorador_IA.ipynb\" target=\"_parent\"><img src=\"https://colab.research.google.com/assets/colab-badge.svg\" alt=\"Open In Colab\"/></a>"
      ]
    },
    {
      "cell_type": "code",
      "source": [
        "#Funciones\n",
        "def suma(a,b):\n",
        "  return a+b\n"
      ],
      "metadata": {
        "id": "NIpY9p9EkJdF"
      },
      "id": "NIpY9p9EkJdF",
      "execution_count": null,
      "outputs": []
    },
    {
      "cell_type": "code",
      "source": [
        "a=suma(2,3)\n",
        "print(a)\n",
        "b=suma(4,5)\n",
        "print(b)\n",
        "c=suma(a,b)\n",
        "print(c)"
      ],
      "metadata": {
        "colab": {
          "base_uri": "https://localhost:8080/"
        },
        "id": "GuJNhxAVkZAo",
        "outputId": "c1443e55-c680-48c8-bfff-b3207fd94ccc"
      },
      "id": "GuJNhxAVkZAo",
      "execution_count": null,
      "outputs": [
        {
          "output_type": "stream",
          "name": "stdout",
          "text": [
            "5\n",
            "9\n",
            "14\n"
          ]
        }
      ]
    },
    {
      "cell_type": "code",
      "source": [
        "# Crear la secuencia original\n",
        "tupla_original = ('1c', '2c', '3c', '5c', '6c', '7c', '1p', '2p', '3p', '1t', '2t', '3t')\n",
        "\n",
        "# Crear un objeto slice para obtener los primeros 4 elementos\n",
        "mi_slice = slice(0, 4)\n",
        "\n",
        "# Aplicar el slice a la tupla\n",
        "subtupla = tupla_original[mi_slice]\n",
        "print(subtupla)"
      ],
      "metadata": {
        "colab": {
          "base_uri": "https://localhost:8080/"
        },
        "id": "emETmk84mLlj",
        "outputId": "ee759e0c-8c0b-4add-a65b-47b2c93abdd0"
      },
      "id": "emETmk84mLlj",
      "execution_count": null,
      "outputs": [
        {
          "output_type": "stream",
          "name": "stdout",
          "text": [
            "('1c', '2c', '3c', '5c')\n"
          ]
        }
      ]
    },
    {
      "cell_type": "code",
      "source": [
        "import math"
      ],
      "metadata": {
        "id": "HvACvNuLSwBl"
      },
      "id": "HvACvNuLSwBl",
      "execution_count": null,
      "outputs": []
    },
    {
      "cell_type": "code",
      "source": [
        "precio1=10\n",
        "precio2=30\n",
        "\n",
        "preciototal=math.factorial(10)\n",
        "print(preciototal)\n",
        "valorpi=math.pi\n",
        "print(valorpi)\n",
        "print(math.sin(180))"
      ],
      "metadata": {
        "colab": {
          "base_uri": "https://localhost:8080/"
        },
        "id": "yUFNIra5SyjD",
        "outputId": "d6ed057f-029e-411b-deb0-4b35b3524928"
      },
      "id": "yUFNIra5SyjD",
      "execution_count": null,
      "outputs": [
        {
          "output_type": "stream",
          "name": "stdout",
          "text": [
            "3628800\n",
            "3.141592653589793\n",
            "-0.8011526357338304\n"
          ]
        }
      ]
    },
    {
      "cell_type": "code",
      "source": [
        "a=[1,2,3,4,5]\n",
        "b=[6,7,8,9,10]\n",
        "a.insert(3,\"texto\")\n",
        "print(a)\n"
      ],
      "metadata": {
        "colab": {
          "base_uri": "https://localhost:8080/"
        },
        "id": "Cx2EKvJugXMB",
        "outputId": "0472e846-0388-40dd-9455-5f7939435bcf"
      },
      "id": "Cx2EKvJugXMB",
      "execution_count": null,
      "outputs": [
        {
          "output_type": "stream",
          "name": "stdout",
          "text": [
            "[1, 2, 3, 'texto', 4, 5]\n"
          ]
        }
      ]
    },
    {
      "cell_type": "markdown",
      "id": "d1a16963-6e72-4bf2-8445-47f8c4950de0",
      "metadata": {
        "id": "d1a16963-6e72-4bf2-8445-47f8c4950de0"
      },
      "source": [
        "#Listas y Tuplas"
      ]
    },
    {
      "cell_type": "markdown",
      "id": "6f9ec23e-0185-492f-bc67-b8a4bb2d4ef0",
      "metadata": {
        "id": "6f9ec23e-0185-492f-bc67-b8a4bb2d4ef0"
      },
      "source": [
        "## Listas"
      ]
    },
    {
      "cell_type": "markdown",
      "id": "6fadf4a8-0173-4be4-8fa8-5a28260a55be",
      "metadata": {
        "id": "6fadf4a8-0173-4be4-8fa8-5a28260a55be"
      },
      "source": [
        "Una lista generalmente tiene datos homogeneos\n",
        "\n",
        "\n"
      ]
    },
    {
      "cell_type": "markdown",
      "source": [
        "En este ejemplo, todos los elementos de la lista numeros son números enteros. Una lista con datos homogéneos significa que todos los elementos de la lista son del mismo tipo de datos, en este caso, enteros. Esto es una característica común de las listas en Python, pero no es una restricción absoluta, ya que Python también permite listas que contienen diferentes tipos de datos. Sin embargo, es más común y recomendable que una lista contenga datos del mismo tipo para facilitar su manipulación y procesamiento."
      ],
      "metadata": {
        "id": "rLRlp4SxvTJA"
      },
      "id": "rLRlp4SxvTJA"
    },
    {
      "cell_type": "code",
      "execution_count": null,
      "id": "ee8b43ec-dc1e-4ab0-ad07-cc689c1aab5f",
      "metadata": {
        "id": "ee8b43ec-dc1e-4ab0-ad07-cc689c1aab5f"
      },
      "outputs": [],
      "source": [
        "numeros = [1, 2, 3, 4, 5]"
      ]
    },
    {
      "cell_type": "code",
      "source": [
        "Lista = ['Python','es']\n",
        "'-'.join(Lista)"
      ],
      "metadata": {
        "colab": {
          "base_uri": "https://localhost:8080/",
          "height": 36
        },
        "id": "G1ek1Mq1Gdux",
        "outputId": "4ee78bbd-8bbd-4f72-8c45-f8ddb24d7eea"
      },
      "id": "G1ek1Mq1Gdux",
      "execution_count": null,
      "outputs": [
        {
          "output_type": "execute_result",
          "data": {
            "text/plain": [
              "'Python-es'"
            ],
            "application/vnd.google.colaboratory.intrinsic+json": {
              "type": "string"
            }
          },
          "metadata": {},
          "execution_count": 4
        }
      ]
    },
    {
      "cell_type": "markdown",
      "id": "228872fa-2eb0-4eff-8f6a-eb7c80ec4be4",
      "metadata": {
        "id": "228872fa-2eb0-4eff-8f6a-eb7c80ec4be4"
      },
      "source": [
        "Tambien puede tener datos heterogeneos, como texto y numeros"
      ]
    },
    {
      "cell_type": "markdown",
      "source": [
        "En esta lista, tenemos una combinación de cadenas de texto (\"Hola\" y \"Mundo\"), un número entero (42) y un número decimal (3.14). Python permite esta flexibilidad en las listas, lo que significa que puedes almacenar una variedad de tipos de datos en una sola lista según tus necesidades. Sin embargo, es importante recordar que, aunque Python permite esta flexibilidad, es posible que desees mantener la coherencia en el tipo de datos de tus listas dependiendo de cómo planeas utilizarlas en tu programa."
      ],
      "metadata": {
        "id": "-oHt2PM8vZmD"
      },
      "id": "-oHt2PM8vZmD"
    },
    {
      "cell_type": "code",
      "execution_count": null,
      "id": "bc1858c1-4645-4ef3-a58c-9caa9b434a73",
      "metadata": {
        "id": "bc1858c1-4645-4ef3-a58c-9caa9b434a73"
      },
      "outputs": [],
      "source": [
        "datos = [\"Hola\", 42, \"Mundo\", 3.14]\n"
      ]
    },
    {
      "cell_type": "markdown",
      "id": "40204270-3b76-4327-9388-eff4bf61efd7",
      "metadata": {
        "id": "40204270-3b76-4327-9388-eff4bf61efd7"
      },
      "source": [
        "El primer elemento siempre es indice 0, y de ahi vas contando"
      ]
    },
    {
      "cell_type": "code",
      "execution_count": null,
      "id": "d8cba557-3e4a-4533-a84b-240686eb0924",
      "metadata": {
        "id": "d8cba557-3e4a-4533-a84b-240686eb0924"
      },
      "outputs": [],
      "source": [
        "lista = [\"a\", \"b\", \"c\", \"d\", \"e\"]\n",
        "\n",
        "# Accediendo al primer elemento (índice 0)\n",
        "primer_elemento = lista[0]\n",
        "print(\"Primer elemento:\", primer_elemento)\n",
        "\n",
        "# Accediendo al segundo elemento (índice 1)\n",
        "segundo_elemento = lista[1]\n",
        "print(\"Segundo elemento:\", segundo_elemento)\n",
        "\n",
        "# Accediendo al tercer elemento (índice 2)\n",
        "tercer_elemento = lista[2]\n",
        "print(\"Tercer elemento:\", tercer_elemento)\n",
        "\n",
        "# Accediendo al cuarto elemento (índice 3)\n",
        "cuarto_elemento = lista[3]\n",
        "print(\"Cuarto elemento:\", cuarto_elemento)\n",
        "\n",
        "# Accediendo al quinto elemento (índice 4)\n",
        "quinto_elemento = lista[4]\n",
        "print(\"Quinto elemento:\", quinto_elemento)\n"
      ]
    },
    {
      "cell_type": "markdown",
      "id": "a2d96f9a-877b-4e2c-8d3b-acde754d8bca",
      "metadata": {
        "id": "a2d96f9a-877b-4e2c-8d3b-acde754d8bca"
      },
      "source": [
        "Usa len para conocer el numero de elementos en nuestra lista"
      ]
    },
    {
      "cell_type": "code",
      "execution_count": null,
      "id": "c71f62dc-61e3-4c41-aa3a-69766ac5d274",
      "metadata": {
        "id": "c71f62dc-61e3-4c41-aa3a-69766ac5d274"
      },
      "outputs": [],
      "source": [
        "lista = [\"a\", \"b\", \"c\", \"d\", \"e\"]\n",
        "\n",
        "# Usamos la función len() para obtener el número de elementos en la lista\n",
        "numero_de_elementos = len(lista)\n",
        "print(\"Número de elementos en la lista:\", numero_de_elementos)\n"
      ]
    },
    {
      "cell_type": "markdown",
      "id": "acee545a-8948-47b1-a317-fac6b0fdd123",
      "metadata": {
        "id": "acee545a-8948-47b1-a317-fac6b0fdd123"
      },
      "source": [
        "Los indices siempre deben de ser enteros - y también se vale que sean expresiones"
      ]
    },
    {
      "cell_type": "code",
      "execution_count": null,
      "id": "9db1fa63-ead8-458c-9479-801bd92cbbf9",
      "metadata": {
        "id": "9db1fa63-ead8-458c-9479-801bd92cbbf9"
      },
      "outputs": [],
      "source": [
        "# Definimos una lista\n",
        "lista = [\"a\", \"b\", \"c\", \"d\", \"e\"]\n",
        "\n",
        "# Usamos una expresión para calcular el índice\n",
        "indice = 2 + 1\n",
        "\n",
        "# Accedemos al elemento usando el índice calculado dinámicamente\n",
        "elemento = lista[indice]\n",
        "\n",
        "# Imprimimos el elemento\n",
        "print(\"Elemento en el índice\", indice, \":\", elemento)\n"
      ]
    },
    {
      "cell_type": "markdown",
      "id": "a72c8a51-e531-4f87-9602-99fa2d433e24",
      "metadata": {
        "id": "a72c8a51-e531-4f87-9602-99fa2d433e24"
      },
      "source": [
        "Puedes cambiar elementos en particular"
      ]
    },
    {
      "cell_type": "code",
      "execution_count": null,
      "id": "61ac17b8-eaa1-4fac-9f0c-196f616e4b6a",
      "metadata": {
        "id": "61ac17b8-eaa1-4fac-9f0c-196f616e4b6a"
      },
      "outputs": [],
      "source": [
        "# Definimos una lista\n",
        "lista = [\"a\", \"b\", \"c\", \"d\", \"e\"]\n",
        "\n",
        "# Cambiamos el elemento en el índice 2 (tercer elemento) por \"x\"\n",
        "lista[2] = \"x\"\n",
        "\n",
        "# Imprimimos la lista actualizada\n",
        "print(\"Lista después de cambiar el elemento en el índice 2:\", lista)\n"
      ]
    },
    {
      "cell_type": "markdown",
      "id": "45284c87-094b-421e-8f69-576bcd813c2f",
      "metadata": {
        "id": "45284c87-094b-421e-8f69-576bcd813c2f"
      },
      "source": [
        "¿Que pasa si llamamos un indice fuera de la lista?"
      ]
    },
    {
      "cell_type": "code",
      "execution_count": null,
      "id": "ff5315d3-c051-451e-a9a2-58970f14ff2d",
      "metadata": {
        "id": "ff5315d3-c051-451e-a9a2-58970f14ff2d"
      },
      "outputs": [],
      "source": [
        "#Acá va el ejemplo"
      ]
    },
    {
      "cell_type": "markdown",
      "id": "fea227c1-ae86-4712-befa-af7107de75d3",
      "metadata": {
        "id": "fea227c1-ae86-4712-befa-af7107de75d3"
      },
      "source": [
        "Cada elemento puede usarse como una variable"
      ]
    },
    {
      "cell_type": "code",
      "execution_count": null,
      "id": "6ffb823c-ab3d-4319-ae31-f7bebcbbeb30",
      "metadata": {
        "id": "6ffb823c-ab3d-4319-ae31-f7bebcbbeb30"
      },
      "outputs": [],
      "source": [
        "# Definimos una lista con tres elementos\n",
        "lista = [\"a\", \"b\", \"c\"]\n",
        "\n",
        "# Desempaquetamos los elementos de la lista en variables individuales\n",
        "variable1, variable2, variable3 = lista\n",
        "\n",
        "# Imprimimos las variables\n",
        "print(\"Variable 1:\", variable1)\n",
        "print(\"Variable 2:\", variable2)\n",
        "print(\"Variable 3:\", variable3)\n"
      ]
    },
    {
      "cell_type": "markdown",
      "id": "48eb6744-5a6c-4761-9b53-894b3049fd57",
      "metadata": {
        "id": "48eb6744-5a6c-4761-9b53-894b3049fd57"
      },
      "source": [
        "Vamos agregando elementos a una lista vacía"
      ]
    },
    {
      "cell_type": "code",
      "execution_count": null,
      "id": "31afa804-ec4b-446c-9718-e9d88c41cc79",
      "metadata": {
        "id": "31afa804-ec4b-446c-9718-e9d88c41cc79"
      },
      "outputs": [],
      "source": [
        "# Definimos una lista con tres elementos\n",
        "datos = [\"Juan\", 25, \"Ingeniero\"]\n",
        "\n",
        "# Desempaquetamos los elementos de la lista en variables individuales\n",
        "nombre, edad, profesion = datos\n",
        "\n",
        "# Imprimimos la información\n",
        "print(\"Nombre:\", nombre)\n",
        "print(\"Edad:\", edad)\n",
        "print(\"Profesión:\", profesion)\n"
      ]
    },
    {
      "cell_type": "markdown",
      "id": "8e8ecac4-5a0a-472a-9db9-ada0d66b1184",
      "metadata": {
        "id": "8e8ecac4-5a0a-472a-9db9-ada0d66b1184"
      },
      "source": [
        "Y es totalmente viable concatenar 2 listas"
      ]
    },
    {
      "cell_type": "code",
      "execution_count": null,
      "id": "e6b83da1-84cd-49ff-833c-ea19b020e4a9",
      "metadata": {
        "id": "e6b83da1-84cd-49ff-833c-ea19b020e4a9"
      },
      "outputs": [],
      "source": [
        "# Definimos dos listas\n",
        "lista1 = [1, 2, 3]\n",
        "lista2 = [4, 5, 6]\n",
        "\n",
        "# Concatenamos las dos listas usando el operador +\n",
        "concatenacion1 = lista1 + lista2\n",
        "\n",
        "# Concatenamos las dos listas usando el método extend()\n",
        "lista1.extend(lista2)\n",
        "concatenacion2 = lista1\n",
        "\n",
        "# Imprimimos los resultados\n",
        "print(\"Concatenación usando el operador +:\", concatenacion1)\n",
        "print(\"Concatenación usando el método extend():\", concatenacion2)\n"
      ]
    },
    {
      "cell_type": "markdown",
      "id": "94ef821c-02c9-442b-bbbc-88ec86166b61",
      "metadata": {
        "id": "94ef821c-02c9-442b-bbbc-88ec86166b61"
      },
      "source": [
        "#### Por tu cuenta\n",
        "\n",
        "Arma un programa que eleve al cuadrado dotos los elementos de una lista. Prueba con una lista con todos los numeros pares del 2 al 20."
      ]
    },
    {
      "cell_type": "code",
      "execution_count": null,
      "id": "45b5299d-36b9-4134-b278-73181a0d81cb",
      "metadata": {
        "id": "45b5299d-36b9-4134-b278-73181a0d81cb"
      },
      "outputs": [],
      "source": [
        "#Acá va la solución"
      ]
    },
    {
      "cell_type": "markdown",
      "id": "63872edc-c46c-4e26-bb75-f52bb342ac88",
      "metadata": {
        "id": "63872edc-c46c-4e26-bb75-f52bb342ac88"
      },
      "source": [
        "## Tuplas"
      ]
    },
    {
      "cell_type": "code",
      "source": [
        "def verificar_poker(mano):\n",
        "    # Extraer los elementos en posicionesPares\n",
        "    posiciones_impares = mano[::2]#Se salta de 2 en 2\n",
        "    # Verificar si todos los elementos en posiciones impares son iguales\n",
        "\n",
        " #Cuando utilizas set() en un iterable,\n",
        " #se eliminan todos los elementos duplicados y se devuelven los elementos únicos.\n",
        " # Esto es útil cuando deseas saber si hay duplicados en una colección o cuando solo\n",
        " # necesitas los elementos únicos.\n",
        "\n",
        "    if len(set(posiciones_impares)) == 1:\n",
        "        return \"Es poker\"\n",
        "    else:\n",
        "        return \"No es poker\"\n",
        "\n",
        "\n",
        "import random\n",
        "# Paso 1: Crear la baraja de póker completa\n",
        "numero = ('2', '3', '4', '5', '6', '7', '8', '9', '10', 'J', 'Q', 'K', 'A')\n",
        "tipo = ('c', 'p', 't', 'd')\n",
        "mano=[]\n",
        "\n",
        "for i in range(4):\n",
        "  mano.append(random.choice(numero))\n",
        "  mano.append(random.choice(tipo))\n",
        "print(mano)\n",
        "resultado = verificar_poker(mano)\n",
        "print(resultado)"
      ],
      "metadata": {
        "colab": {
          "base_uri": "https://localhost:8080/"
        },
        "id": "0ltw-zNIChbp",
        "outputId": "374f2003-7683-44cd-88a1-d38dec4f5adb"
      },
      "id": "0ltw-zNIChbp",
      "execution_count": null,
      "outputs": [
        {
          "output_type": "stream",
          "name": "stdout",
          "text": [
            "['2', 'd', '5', 'd', '6', 'c', '7', 't']\n",
            "No es poker\n"
          ]
        }
      ]
    },
    {
      "cell_type": "code",
      "source": [
        "# Seleccionar cartas para la mano\n",
        "mano = random.sample(baraja, 4)  # Seleccionar 4 cartas al azar de la baraja\n",
        "print(mano)\n",
        "\n",
        "# Verificar si la primera posición de cada cadena de texto en posiciones pares es igual\n",
        "def verificar_poker_en_pares(lista_cartas):\n",
        "    # Extraer los números/letras de las cartas en posiciones pares (0, 2, 4, etc.)\n",
        "    primeras_letras = [carta[0] for carta in lista_cartas[::2]]\n",
        "\n",
        "    # Verificar si todas las primeras letras son iguales\n",
        "    if len(set(primeras_letras)) == 1:\n",
        "        return \"Es poker\"\n",
        "    else:\n",
        "        return \"No es poker\"\n",
        "\n",
        "resultado = verificar_poker_en_pares(mano)\n",
        "print(resultado)"
      ],
      "metadata": {
        "id": "P1_-Nm3MoVlx",
        "colab": {
          "base_uri": "https://localhost:8080/"
        },
        "outputId": "acf06199-047f-46fb-b235-c1b054ae84fa"
      },
      "id": "P1_-Nm3MoVlx",
      "execution_count": null,
      "outputs": [
        {
          "output_type": "stream",
          "name": "stdout",
          "text": [
            "['4c', 'Jd', '3t', '2d']\n",
            "No es poker\n"
          ]
        }
      ]
    },
    {
      "cell_type": "markdown",
      "source": [
        "\n",
        "https://openstax.org/books/c%C3%A1lculo-volumen-3/pages/2-3-el-producto-escalar"
      ],
      "metadata": {
        "id": "aUvt5Q6BSzmf"
      },
      "id": "aUvt5Q6BSzmf"
    },
    {
      "cell_type": "code",
      "source": [
        "import math\n",
        "import numpy as np\n",
        "\n",
        "def producto_escalar(vector1, vector2):\n",
        "    # Verificar si los dos vectores tienen el mismo tamaño\n",
        "    if len(vector1) != len(vector2):\n",
        "        raise ValueError(\"Los vectores deben tener el mismo tamaño.\")\n",
        "\n",
        "    # Calcular el producto escalar\n",
        "    producto = sum(a * b for a, b in zip(vector1, vector2))\n",
        "    return producto\n",
        "\n",
        "#Escribir una función que reciba dos vectores y devuelva su producto escalar.\n",
        "\n",
        "def pedir_vectores(tam,nombre):\n",
        "    vector=[]\n",
        "    for i in range(tam):\n",
        "        valor = float(input(f\"Ingrese el valor para la posición {i+1}:del vector{nombre} \"))\n",
        "        vector.append(valor)\n",
        "    return(vector)\n",
        "\n",
        "#Recibir Vectores por Input\n",
        "tamV1=int(input(\"Ingrese el tamaño de los vectores: \"))\n",
        "vector1=pedir_vectores(tamV1,\"1\")\n",
        "print(vector1)\n",
        "vector2=pedir_vectores(tamV1,\"2\")\n",
        "print(vector2)\n",
        "\n",
        "\n",
        "# Calcular el producto escalar y el ángulo entre los vectores\n",
        "resultado_producto = producto_escalar(vector1, vector2)\n",
        "print(\"Producto escalar:\", resultado_producto)\n",
        "\n",
        "#Escribir una función que reciba dos vectores y devuelva si son o no ortogonales.\n",
        "Verificar=resultado_producto==0\n",
        "if Verificar:\n",
        "  print(\"Son ortogonales\")\n",
        "else:\n",
        "  print(\"No son ortogonales\")\n",
        "7\n",
        "#Escribir una función que reciba dos vectores y devuelva su ángulo entre ellos.\n",
        "#Escribir una función que reciba dos vectores y devuelva su ángulo entre ellos.\n",
        "angulo_radianes = math.acos(resultado_producto / (np.linalg.norm(vector1) * np.linalg.norm(vector2))) # Use NumPy's norm function\n",
        "angulo_grados = math.degrees(angulo_radianes)\n",
        "print(\"Ángulo entre los vectores:\", angulo_grados, \"grados\")\n",
        "\n",
        "#Escribir una función que reciba dos vectores y devuelva si son paralelos o no.\n",
        "#puedes utilizar el hecho de que dos vectores son paralelos si uno es un múltiplo escalar del otro.\n",
        "#En otras palabras, si puedes multiplicar todos los elementos de un vector por un mismo número\n",
        "# y obtener el otro vector, entonces los vectores son paralelos.\n",
        "\n",
        "vector1=np.array(vector1)\n",
        "vector2=np.array(vector2)\n",
        "\n",
        "#Producto cruzado\n",
        "producto_cruzado=np.cross(vector1,vector2)\n",
        "print(producto_cruzado)\n",
        "\n",
        "return\n",
        "\n",
        "\n"
      ],
      "metadata": {
        "colab": {
          "base_uri": "https://localhost:8080/"
        },
        "id": "fuvF6_bLSSYW",
        "outputId": "b8913ddc-9d2f-4463-c283-b611bb89c98b"
      },
      "id": "fuvF6_bLSSYW",
      "execution_count": null,
      "outputs": [
        {
          "output_type": "stream",
          "name": "stdout",
          "text": [
            "Ingrese el tamaño de los vectores: 3\n",
            "Ingrese el valor para la posición 1:del vector1 1\n",
            "Ingrese el valor para la posición 2:del vector1 2\n",
            "Ingrese el valor para la posición 3:del vector1 3\n",
            "[1.0, 2.0, 3.0]\n",
            "Ingrese el valor para la posición 1:del vector2 5\n",
            "Ingrese el valor para la posición 2:del vector2 6\n",
            "Ingrese el valor para la posición 3:del vector2 7\n",
            "[5.0, 6.0, 7.0]\n",
            "Producto escalar: 38.0\n",
            "No son ortogonales\n",
            "Ángulo entre los vectores: 14.458287920298085 grados\n"
          ]
        }
      ]
    },
    {
      "cell_type": "markdown",
      "id": "65383d92-ac77-485b-bc79-f1171a79d555",
      "metadata": {
        "id": "65383d92-ac77-485b-bc79-f1171a79d555"
      },
      "source": [
        "Vamos comenzando con una tupla vacia"
      ]
    },
    {
      "cell_type": "code",
      "execution_count": null,
      "id": "f2366bbd-3549-4a16-af7c-85904b3bbf0c",
      "metadata": {
        "id": "f2366bbd-3549-4a16-af7c-85904b3bbf0c"
      },
      "outputs": [],
      "source": [
        "# Creamos una tupla vacía\n",
        "mi_tupla = ()\n",
        "\n",
        "# Verificamos su tipo y longitud\n",
        "print(\"Tipo de mi_tupla:\", type(mi_tupla))\n",
        "print(\"Longitud de mi_tupla:\", len(mi_tupla))\n"
      ]
    },
    {
      "cell_type": "markdown",
      "id": "51fdf97c-476b-417a-9142-d63f6488e351",
      "metadata": {
        "id": "51fdf97c-476b-417a-9142-d63f6488e351"
      },
      "source": [
        "Ahora vamos a añadir 3 elementos a la tupla"
      ]
    },
    {
      "cell_type": "code",
      "execution_count": null,
      "id": "d7ea6549-4285-42ed-9595-141b324b0d8d",
      "metadata": {
        "id": "d7ea6549-4285-42ed-9595-141b324b0d8d"
      },
      "outputs": [],
      "source": [
        "# Creamos una tupla vacía\n",
        "mi_tupla = ()\n",
        "\n",
        "# Añadimos elementos a la tupla\n",
        "mi_tupla = mi_tupla + (1, 2, 3)\n",
        "\n",
        "# Verificamos la tupla actualizada\n",
        "print(\"Tupla actualizada:\", mi_tupla)\n"
      ]
    },
    {
      "cell_type": "code",
      "source": [
        "new_tupla=(1,3,[3,2],\"a\")\n",
        "print(new_tupla)\n",
        "print(new_tupla*2)"
      ],
      "metadata": {
        "colab": {
          "base_uri": "https://localhost:8080/"
        },
        "id": "KVIowz7Mh59I",
        "outputId": "8a727639-f59b-440f-c639-1cacff93e41d"
      },
      "id": "KVIowz7Mh59I",
      "execution_count": null,
      "outputs": [
        {
          "output_type": "stream",
          "name": "stdout",
          "text": [
            "(1, 3, [3, 2], 'a')\n",
            "(1, 3, [3, 2], 'a', 1, 3, [3, 2], 'a')\n"
          ]
        }
      ]
    },
    {
      "cell_type": "code",
      "source": [],
      "metadata": {
        "id": "japBDz_Pi9bN"
      },
      "id": "japBDz_Pi9bN",
      "execution_count": null,
      "outputs": []
    },
    {
      "cell_type": "code",
      "source": [
        "new_tupla[0]=5\n",
        "print(new_tupla)"
      ],
      "metadata": {
        "colab": {
          "base_uri": "https://localhost:8080/"
        },
        "id": "ks5VQo3ziHsJ",
        "outputId": "cc52af09-c198-4415-f700-89637bb44cd0"
      },
      "id": "ks5VQo3ziHsJ",
      "execution_count": null,
      "outputs": [
        {
          "output_type": "stream",
          "name": "stdout",
          "text": [
            "[5, 3, [3, 2], 'a']\n"
          ]
        }
      ]
    },
    {
      "cell_type": "markdown",
      "source": [
        "En este ejemplo, primero creamos una tupla vacía mi_tupla. Luego, añadimos tres elementos a la tupla utilizando el operador de concatenación +. Esto crea una nueva tupla que contiene los elementos originales de mi_tupla más los nuevos elementos (1, 2, 3)"
      ],
      "metadata": {
        "id": "lqXP0fpUwjiz"
      },
      "id": "lqXP0fpUwjiz"
    },
    {
      "cell_type": "markdown",
      "id": "7a75137d-205b-43d6-b9a3-d73b61c4f383",
      "metadata": {
        "id": "7a75137d-205b-43d6-b9a3-d73b61c4f383"
      },
      "source": [
        "Puedes llamar a los elementos individuales, arma un print que nos diga en que año nació Patricia (tiene 23 años al 2021)"
      ]
    },
    {
      "cell_type": "code",
      "execution_count": null,
      "id": "451ff4ad-e817-4f00-b48e-3291b5e47618",
      "metadata": {
        "id": "451ff4ad-e817-4f00-b48e-3291b5e47618"
      },
      "outputs": [],
      "source": [
        "# Definimos la información de Patricia\n",
        "patricia_info = (2021, 23)\n",
        "\n",
        "# Calculamos el año de nacimiento de Patricia\n",
        "ano_nacimiento = patricia_info[0] - patricia_info[1]\n",
        "\n",
        "# Imprimimos el resultado\n",
        "print(\"Patricia nació en el año:\", ano_nacimiento)\n"
      ]
    },
    {
      "cell_type": "markdown",
      "id": "5d282773-6fc3-4056-b784-14e5ef195d07",
      "metadata": {
        "id": "5d282773-6fc3-4056-b784-14e5ef195d07"
      },
      "source": [
        "Es posible acceder a cualquier secuencia de elementos, asignando cada elemnto de la secuencia con una variable separada por comas"
      ]
    },
    {
      "cell_type": "code",
      "execution_count": null,
      "id": "1f4b9f03-8cc1-47a4-b60c-a9faced7fcd0",
      "metadata": {
        "id": "1f4b9f03-8cc1-47a4-b60c-a9faced7fcd0"
      },
      "outputs": [],
      "source": [
        "# Definimos una lista con tres elementos\n",
        "mi_lista = [10, 20, 30]\n",
        "\n",
        "# Desempaquetamos los elementos de la lista en variables individuales\n",
        "x, y, z = mi_lista\n",
        "\n",
        "# Imprimimos los valores de las variables\n",
        "print(\"Valor de x:\", x)\n",
        "print(\"Valor de y:\", y)\n",
        "print(\"Valor de z:\", z)\n"
      ]
    },
    {
      "cell_type": "markdown",
      "id": "5969742f-1fbf-4624-9ad2-ee0d93ef8bdf",
      "metadata": {
        "id": "5969742f-1fbf-4624-9ad2-ee0d93ef8bdf"
      },
      "source": [
        "Si en la tupla solo hay caracteres, vamos a armar un print que nos de cada letra por separado"
      ]
    },
    {
      "cell_type": "code",
      "execution_count": null,
      "id": "9d72b043-b0c5-49cb-b7c5-650d0d2d9687",
      "metadata": {
        "id": "9d72b043-b0c5-49cb-b7c5-650d0d2d9687"
      },
      "outputs": [],
      "source": [
        "# Definimos una tupla con cadenas de texto\n",
        "mi_tupla = (\"Hola\", \"Mundo\")\n",
        "\n",
        "# Iteramos sobre la tupla\n",
        "for elemento in mi_tupla:\n",
        "    # Iteramos sobre cada caracter de cada elemento de la tupla\n",
        "    for letra in elemento:\n",
        "        # Imprimimos cada letra\n",
        "        print(letra)\n"
      ]
    },
    {
      "cell_type": "markdown",
      "id": "9af5b414-23c0-4dea-b56e-2b50bf54ad79",
      "metadata": {
        "id": "9af5b414-23c0-4dea-b56e-2b50bf54ad79"
      },
      "source": [
        "Y si son valores..."
      ]
    },
    {
      "cell_type": "code",
      "execution_count": null,
      "id": "53fe6f63-23f3-4fcb-81ee-f1932d4adfe8",
      "metadata": {
        "id": "53fe6f63-23f3-4fcb-81ee-f1932d4adfe8"
      },
      "outputs": [],
      "source": [
        "# Definimos una tupla con valores numéricos\n",
        "mi_tupla = (10, 20, 30)\n",
        "\n",
        "# Iteramos sobre la tupla\n",
        "for valor in mi_tupla:\n",
        "    # Imprimimos cada valor\n",
        "    print(valor)\n"
      ]
    },
    {
      "cell_type": "markdown",
      "id": "d0b039d7-3b85-4de4-b1df-27455f1d59fa",
      "metadata": {
        "id": "d0b039d7-3b85-4de4-b1df-27455f1d59fa"
      },
      "source": [
        "También se puede acceder un valor al indexarlo - vamos  arecibir una lista con 3 estudiantes y convertirlo en una tupla enumerada"
      ]
    },
    {
      "cell_type": "code",
      "execution_count": null,
      "id": "04495cc6-7468-4d22-b572-f035bdb6695d",
      "metadata": {
        "id": "04495cc6-7468-4d22-b572-f035bdb6695d"
      },
      "outputs": [],
      "source": [
        "# Definimos una lista de estudiantes\n",
        "lista_estudiantes = [\"Juan\", \"María\", \"Pedro\"]\n",
        "\n",
        "# Convertimos la lista en una tupla enumerada\n",
        "tupla_enumerada = tuple(enumerate(lista_estudiantes))\n",
        "\n",
        "# Imprimimos la tupla enumerada\n",
        "print(\"Tupla enumerada:\", tupla_enumerada)\n"
      ]
    },
    {
      "cell_type": "markdown",
      "id": "320006d7-5524-457c-a61c-5023c62cc322",
      "metadata": {
        "id": "320006d7-5524-457c-a61c-5023c62cc322"
      },
      "source": [
        "#### Por tu cuenta\n",
        "\n",
        "Crea una tupla de un solo elemento con el número 582.4 y luego muestrala"
      ]
    },
    {
      "cell_type": "code",
      "source": [
        "#Acá va la solución"
      ],
      "metadata": {
        "id": "NbOJ1ouhxS75"
      },
      "id": "NbOJ1ouhxS75",
      "execution_count": null,
      "outputs": []
    },
    {
      "cell_type": "markdown",
      "id": "fc8ebfbf-8f9c-4fde-85ce-11839d12e340",
      "metadata": {
        "id": "fc8ebfbf-8f9c-4fde-85ce-11839d12e340"
      },
      "source": [
        "#### Por tu cuenta\n",
        "\n",
        "Muestra que pasa si intentas concatenar una lista de 3 enteros con una tupla de 3 enteros usando +"
      ]
    },
    {
      "cell_type": "code",
      "source": [
        "#Acá va la solución"
      ],
      "metadata": {
        "id": "LZq_fZEWxVJN"
      },
      "id": "LZq_fZEWxVJN",
      "execution_count": null,
      "outputs": []
    },
    {
      "cell_type": "markdown",
      "id": "e735cded-fe6f-48bb-8062-801e0fd6c1b6",
      "metadata": {
        "id": "e735cded-fe6f-48bb-8062-801e0fd6c1b6"
      },
      "source": [
        "## Separando Secuencias"
      ]
    },
    {
      "cell_type": "markdown",
      "id": "268097d6-3300-4929-9981-8b1e55d549ec",
      "metadata": {
        "id": "268097d6-3300-4929-9981-8b1e55d549ec"
      },
      "source": [
        "Crea una secuencia con todas las potencias de 2 - del 2 al 256"
      ]
    },
    {
      "cell_type": "code",
      "execution_count": null,
      "id": "42058ae5-f784-412b-8470-2b7f2c229c3e",
      "metadata": {
        "id": "42058ae5-f784-412b-8470-2b7f2c229c3e"
      },
      "outputs": [],
      "source": [
        "# Inicializamos una lista vacía para almacenar las potencias de 2\n",
        "potencias_de_dos = []\n",
        "\n",
        "# Iteramos sobre el rango de números del 1 al 256 (inclusive)\n",
        "for exponente in range(1, 9):\n",
        "    # Calculamos la potencia de 2 para el exponente actual\n",
        "    potencia = 2 ** exponente\n",
        "    # Agregamos la potencia de 2 a la lista\n",
        "    potencias_de_dos.append(potencia)\n",
        "\n",
        "# Imprimimos la lista de potencias de 2\n",
        "print(\"Potencias de 2 del 2 al 256:\", potencias_de_dos)\n"
      ]
    },
    {
      "cell_type": "markdown",
      "id": "01ebf672-550e-4ca6-abd5-73e8f036aebc",
      "metadata": {
        "id": "01ebf672-550e-4ca6-abd5-73e8f036aebc"
      },
      "source": [
        "Selecciona el 16 y 32"
      ]
    },
    {
      "cell_type": "code",
      "execution_count": null,
      "id": "2ded3131-a702-4467-a906-c8e9821e846c",
      "metadata": {
        "id": "2ded3131-a702-4467-a906-c8e9821e846c"
      },
      "outputs": [],
      "source": [
        "# Potencias de 2 del 2 al 256\n",
        "potencias_de_dos = [2, 4, 8, 16, 32, 64, 128, 256]\n",
        "\n",
        "# Seleccionar el elemento correspondiente a la potencia de 2 de 16 (índice 3) y 32 (índice 4)\n",
        "potencia_16 = potencias_de_dos[3]\n",
        "potencia_32 = potencias_de_dos[4]\n",
        "\n",
        "# Imprimir las potencias de 16 y 32\n",
        "print(\"Potencia de 16:\", potencia_16)\n",
        "print(\"Potencia de 32:\", potencia_32)\n"
      ]
    },
    {
      "cell_type": "markdown",
      "id": "51a7badc-c12d-4df1-9a04-cfac6cccf92b",
      "metadata": {
        "id": "51a7badc-c12d-4df1-9a04-cfac6cccf92b"
      },
      "source": [
        "Ahora selecciona los primeros 5 elementos"
      ]
    },
    {
      "cell_type": "code",
      "execution_count": null,
      "id": "3c5bbac0-ed79-483b-ad46-b1ec64bb76a3",
      "metadata": {
        "id": "3c5bbac0-ed79-483b-ad46-b1ec64bb76a3"
      },
      "outputs": [],
      "source": [
        "# Potencias de 2 del 2 al 256\n",
        "potencias_de_dos = [2, 4, 8, 16, 32, 64, 128, 256]\n",
        "\n",
        "# Seleccionar los primeros 5 elementos\n",
        "primeros_cinco_elementos = potencias_de_dos[:5]\n",
        "\n",
        "# Imprimir los primeros 5 elementos\n",
        "print(\"Primeros 5 elementos:\", primeros_cinco_elementos)\n"
      ]
    },
    {
      "cell_type": "markdown",
      "id": "04f36a0c-af19-441d-ace3-13f19b279292",
      "metadata": {
        "id": "04f36a0c-af19-441d-ace3-13f19b279292"
      },
      "source": [
        "Ahora vamos a seleccionar todos desde el 16 en adelante"
      ]
    },
    {
      "cell_type": "code",
      "execution_count": null,
      "id": "7bcfbdbc-f0f2-44c4-b59b-2c9f8e4ec93d",
      "metadata": {
        "id": "7bcfbdbc-f0f2-44c4-b59b-2c9f8e4ec93d"
      },
      "outputs": [],
      "source": [
        "# Potencias de 2 del 2 al 256\n",
        "potencias_de_dos = [2, 4, 8, 16, 32, 64, 128, 256]\n",
        "\n",
        "# Seleccionar todos los elementos desde el 16 en adelante\n",
        "desde_16_en_adelante = potencias_de_dos[3:]\n",
        "\n",
        "# Imprimir los elementos desde el 16 en adelante\n",
        "print(\"Elementos desde el 16 en adelante:\", desde_16_en_adelante)\n"
      ]
    },
    {
      "cell_type": "markdown",
      "id": "b9bc5f09-3352-4e1e-a560-3e5528197175",
      "metadata": {
        "id": "b9bc5f09-3352-4e1e-a560-3e5528197175"
      },
      "source": [
        "También podemos seleccionar elementos de 2 en 2 o de 3 en 3 o asi, deja :: y luego va el stepfunction"
      ]
    },
    {
      "cell_type": "code",
      "execution_count": null,
      "id": "dc1f41f6-156c-4c75-ba27-ff30655d5d0e",
      "metadata": {
        "id": "dc1f41f6-156c-4c75-ba27-ff30655d5d0e"
      },
      "outputs": [],
      "source": [
        "# Potencias de 2 del 2 al 256\n",
        "potencias_de_dos = [2, 4, 8, 16, 32, 64, 128, 256]\n",
        "\n",
        "# Seleccionar elementos de 2 en 2\n",
        "de_dos_en_dos = potencias_de_dos[::2]\n",
        "\n",
        "# Seleccionar elementos de 3 en 3\n",
        "de_tres_en_tres = potencias_de_dos[::3]\n",
        "\n",
        "# Imprimir los resultados\n",
        "print(\"Elementos de 2 en 2:\", de_dos_en_dos)\n",
        "print(\"Elementos de 3 en 3:\", de_tres_en_tres)\n"
      ]
    },
    {
      "cell_type": "markdown",
      "id": "c2a43c4a-78bc-40bc-9303-4894721a1a11",
      "metadata": {
        "id": "c2a43c4a-78bc-40bc-9303-4894721a1a11"
      },
      "source": [
        "Y si vamos de -3 en -3 significa que empieza desde el final"
      ]
    },
    {
      "cell_type": "code",
      "execution_count": null,
      "id": "67dfc2aa-e7fb-4618-b06d-efc838aaffe8",
      "metadata": {
        "id": "67dfc2aa-e7fb-4618-b06d-efc838aaffe8"
      },
      "outputs": [],
      "source": [
        "# Potencias de 2 del 2 al 256\n",
        "potencias_de_dos = [2, 4, 8, 16, 32, 64, 128, 256]\n",
        "\n",
        "# Seleccionar elementos de -3 en -3\n",
        "de_menos_tres_en_menos_tres = potencias_de_dos[::-3]\n",
        "\n",
        "# Imprimir el resultado\n",
        "print(\"Elementos de -3 en -3:\", de_menos_tres_en_menos_tres)\n"
      ]
    },
    {
      "cell_type": "markdown",
      "id": "21fd3e6f-8f87-4778-a42c-337ab34b6077",
      "metadata": {
        "id": "21fd3e6f-8f87-4778-a42c-337ab34b6077"
      },
      "source": [
        "Ahora modifica los nombres de los primeros 3 elementos, - en vez de numero que sea su nombre en letra"
      ]
    },
    {
      "cell_type": "code",
      "execution_count": null,
      "id": "55433e0e-0d85-44aa-bd82-51b63d02b594",
      "metadata": {
        "id": "55433e0e-0d85-44aa-bd82-51b63d02b594"
      },
      "outputs": [],
      "source": [
        "# Potencias de 2 del 2 al 256\n",
        "potencias_de_dos = [2, 4, 8, 16, 32, 64, 128, 256]\n",
        "\n",
        "# Nombres de los primeros 3 elementos\n",
        "nombres = [\"Dos\", \"Cuatro\", \"Ocho\"]\n",
        "\n",
        "# Modificar los nombres de los primeros 3 elementos\n",
        "potencias_de_dos[:3] = nombres\n",
        "\n",
        "# Imprimir la lista modificada\n",
        "print(\"Potencias de 2 con nombres de los primeros 3 elementos:\", potencias_de_dos)\n"
      ]
    },
    {
      "cell_type": "markdown",
      "id": "270080aa-82c2-4407-b507-8be7a1bf26f7",
      "metadata": {
        "id": "270080aa-82c2-4407-b507-8be7a1bf26f7"
      },
      "source": [
        "#### Por tu cuenta\n",
        "\n",
        "Crea una lista llamada números que contenga los valores del 1 al 15, haz las siguientes operaciones\n",
        "-selecciona los numeros enteros\n",
        "-reemplaza los elementos en indices 5 al 9 por 0s\n",
        "-manten solo los primeros 5 elementos, y muestra la lista resultante\n",
        "-Borra todos los elementos que quedan"
      ]
    },
    {
      "cell_type": "code",
      "execution_count": null,
      "id": "bea74808-8298-4fe0-9c48-457ce0f055b7",
      "metadata": {
        "id": "bea74808-8298-4fe0-9c48-457ce0f055b7"
      },
      "outputs": [],
      "source": [
        "#Acá va la solución"
      ]
    },
    {
      "cell_type": "markdown",
      "id": "e787df57-f04d-460b-ac74-ac76912815e4",
      "metadata": {
        "id": "e787df57-f04d-460b-ac74-ac76912815e4"
      },
      "source": [
        "###Del"
      ]
    },
    {
      "cell_type": "markdown",
      "id": "4efc660f-3092-43d5-a846-6e12b97c98b4",
      "metadata": {
        "id": "4efc660f-3092-43d5-a846-6e12b97c98b4"
      },
      "source": [
        "Ahora arma uan lista con todos los multiples de 10 del 0 al 90"
      ]
    },
    {
      "cell_type": "code",
      "execution_count": null,
      "id": "82dffac8-898a-45ea-b5be-cd6f0ad74f8d",
      "metadata": {
        "id": "82dffac8-898a-45ea-b5be-cd6f0ad74f8d"
      },
      "outputs": [],
      "source": [
        "# Creamos una lista vacía para almacenar los múltiplos de 10\n",
        "multiplos_de_10 = []\n",
        "\n",
        "# Generamos los múltiplos de 10 del 0 al 90\n",
        "for numero in range(0, 91, 10):\n",
        "    multiplos_de_10.append(numero)\n",
        "\n",
        "# Imprimimos la lista de múltiplos de 10\n",
        "print(\"Múltiplos de 10 del 0 al 90:\", multiplos_de_10)\n"
      ]
    },
    {
      "cell_type": "markdown",
      "id": "7f593981-b5fc-4629-9725-72e158c5e6b3",
      "metadata": {
        "id": "7f593981-b5fc-4629-9725-72e158c5e6b3"
      },
      "source": [
        "Borra del 30 al 50"
      ]
    },
    {
      "cell_type": "code",
      "execution_count": null,
      "id": "9b08bf42-1f27-4166-8873-89aef5459e20",
      "metadata": {
        "id": "9b08bf42-1f27-4166-8873-89aef5459e20"
      },
      "outputs": [],
      "source": [
        "# Borramos los elementos del 30 al 50 de la lista de múltiplos de 10\n",
        "del multiplos_de_10[3:6]\n",
        "\n",
        "# Imprimimos la lista actualizada\n",
        "print(\"Lista de múltiplos de 10 después de borrar del 30 al 50:\", multiplos_de_10)\n"
      ]
    },
    {
      "cell_type": "markdown",
      "id": "76350a53-7aab-4c18-9b43-a55f8b0c551d",
      "metadata": {
        "id": "76350a53-7aab-4c18-9b43-a55f8b0c551d"
      },
      "source": [
        "A continuación, rearma la lista y borra cada segundo elemento"
      ]
    },
    {
      "cell_type": "code",
      "execution_count": null,
      "id": "17481723-57af-4e64-9479-9d5d33b9af4d",
      "metadata": {
        "id": "17481723-57af-4e64-9479-9d5d33b9af4d"
      },
      "outputs": [],
      "source": [
        "# Rearmamos la lista de múltiplos de 10\n",
        "multiplos_de_10 = [0, 10, 20, 30, 40, 50, 60, 70, 80, 90]\n",
        "\n",
        "# Borramos cada segundo elemento\n",
        "del multiplos_de_10[1::2]\n",
        "\n",
        "# Imprimimos la lista actualizada\n",
        "print(\"Lista de múltiplos de 10 después de borrar cada segundo elemento:\", multiplos_de_10)\n"
      ]
    },
    {
      "cell_type": "markdown",
      "id": "da7c571a-ba0f-472b-9800-b94b7808ff05",
      "metadata": {
        "id": "da7c571a-ba0f-472b-9800-b94b7808ff05"
      },
      "source": [
        "Y por último, borra la lista completa"
      ]
    },
    {
      "cell_type": "code",
      "execution_count": null,
      "id": "d21a9a28-cca0-436d-becb-c021125b4c55",
      "metadata": {
        "id": "d21a9a28-cca0-436d-becb-c021125b4c55"
      },
      "outputs": [],
      "source": [
        "# Borramos la lista completa de múltiplos de 10\n",
        "del multiplos_de_10\n",
        "\n",
        "# Intentamos imprimir la lista (esto debería resultar en un error ya que la lista ha sido eliminada)\n",
        "print(multiplos_de_10)\n"
      ]
    },
    {
      "cell_type": "markdown",
      "id": "5f383b91-b740-40ed-9904-cfefc90ae7c9",
      "metadata": {
        "id": "5f383b91-b740-40ed-9904-cfefc90ae7c9"
      },
      "source": [
        "#### Por tu cuenta\n",
        "\n",
        "Crea una lista con los numeros del 1 al 15\n",
        "- borra una parte que contenga los primeros 4 elementos, muestra tu resultado\n",
        "- Empezando con el primer elemento, borra cada 2do elemento de la lista."
      ]
    },
    {
      "cell_type": "code",
      "execution_count": null,
      "id": "f242cd81-a228-4ff9-8b6c-dddab8ce1d6c",
      "metadata": {
        "id": "f242cd81-a228-4ff9-8b6c-dddab8ce1d6c"
      },
      "outputs": [],
      "source": [
        "#Acá va la solución"
      ]
    },
    {
      "cell_type": "markdown",
      "id": "6a657591-236e-4a92-8aac-a46d77f57cdb",
      "metadata": {
        "id": "6a657591-236e-4a92-8aac-a46d77f57cdb"
      },
      "source": [
        "##Listas Ordenadas"
      ]
    },
    {
      "cell_type": "markdown",
      "id": "16151e48-3630-4dcd-a3c4-66c374430646",
      "metadata": {
        "id": "16151e48-3630-4dcd-a3c4-66c374430646"
      },
      "source": [
        "Vamos  armar la lista\n",
        "\n",
        "edad = [65,26,28,36,18]"
      ]
    },
    {
      "cell_type": "code",
      "execution_count": null,
      "id": "6637251b-41df-44cc-9e5c-6290dba5cbd4",
      "metadata": {
        "id": "6637251b-41df-44cc-9e5c-6290dba5cbd4"
      },
      "outputs": [],
      "source": [
        "edad = [65, 26, 28, 36, 18]\n"
      ]
    },
    {
      "cell_type": "markdown",
      "id": "bb6aa8e8-9f7d-45f2-a79f-3f32f5db51c9",
      "metadata": {
        "id": "bb6aa8e8-9f7d-45f2-a79f-3f32f5db51c9"
      },
      "source": [
        "Ahora vamos a ordenarla usando sort()"
      ]
    },
    {
      "cell_type": "code",
      "execution_count": null,
      "id": "920cf4e0-e995-4fd5-beaf-20954b074f84",
      "metadata": {
        "id": "920cf4e0-e995-4fd5-beaf-20954b074f84"
      },
      "outputs": [],
      "source": [
        "edad = [65, 26, 28, 36, 18]\n",
        "\n",
        "# Ordenamos la lista en su lugar\n",
        "edad.sort()\n",
        "\n",
        "print(\"Lista ordenada:\", edad)\n"
      ]
    },
    {
      "cell_type": "markdown",
      "id": "8a9575ea-33cd-43cd-9f5d-0b3101e84101",
      "metadata": {
        "id": "8a9575ea-33cd-43cd-9f5d-0b3101e84101"
      },
      "source": [
        "Ahora vamos aordenarla usando sort(reverse=true)"
      ]
    },
    {
      "cell_type": "code",
      "execution_count": null,
      "id": "43c0e69f-6adc-4d7f-83b0-37fabd28bcfe",
      "metadata": {
        "id": "43c0e69f-6adc-4d7f-83b0-37fabd28bcfe"
      },
      "outputs": [],
      "source": [
        "edad = [65, 26, 28, 36, 18]\n",
        "\n",
        "# Ordenamos la lista en su lugar en orden descendente\n",
        "edad.sort(reverse=True)\n",
        "\n",
        "print(\"Lista ordenada en orden descendente:\", edad)\n"
      ]
    },
    {
      "cell_type": "markdown",
      "id": "d4c2de46-6517-4751-b11e-10f58fabb731",
      "metadata": {
        "id": "d4c2de46-6517-4751-b11e-10f58fabb731"
      },
      "source": [
        "También se puede usar la función sorted, que es una función que devuelve otra lista"
      ]
    },
    {
      "cell_type": "code",
      "execution_count": null,
      "id": "d3657f31-4ada-4d22-9644-4110caaa1b24",
      "metadata": {
        "id": "d3657f31-4ada-4d22-9644-4110caaa1b24"
      },
      "outputs": [],
      "source": [
        "edad = [65, 26, 28, 36, 18]\n",
        "\n",
        "# Ordenamos la lista y almacenamos el resultado en una nueva lista\n",
        "edad_ordenada_descendente = sorted(edad, reverse=True)\n",
        "\n",
        "print(\"Lista original:\", edad)\n",
        "print(\"Lista ordenada en orden descendente:\", edad_ordenada_descendente)\n"
      ]
    },
    {
      "cell_type": "markdown",
      "id": "316e7554-d647-4c9c-8c99-356aba8c2688",
      "metadata": {
        "id": "316e7554-d647-4c9c-8c99-356aba8c2688"
      },
      "source": [
        "Se pueden ordenar cadenas de caracters"
      ]
    },
    {
      "cell_type": "code",
      "execution_count": null,
      "id": "a9cbd0df-1f39-4898-b0a4-9c29d00e462b",
      "metadata": {
        "id": "a9cbd0df-1f39-4898-b0a4-9c29d00e462b"
      },
      "outputs": [],
      "source": [
        "#Ordenar una cadena como lista de caracteres\n",
        "cadena = \"python\"\n",
        "cadena_ordenada = ''.join(sorted(cadena))\n",
        "print(\"Cadena ordenada:\", cadena_ordenada)\n"
      ]
    },
    {
      "cell_type": "code",
      "execution_count": null,
      "id": "c287cd7f-580c-495c-81b2-0512294a54c6",
      "metadata": {
        "id": "c287cd7f-580c-495c-81b2-0512294a54c6"
      },
      "outputs": [],
      "source": [
        "#Ordenar una cadena utilizando el método sort()\n",
        "cadena = \"python\"\n",
        "lista_caracteres = list(cadena)\n",
        "lista_caracteres.sort()\n",
        "cadena_ordenada = ''.join(lista_caracteres)\n",
        "print(\"Cadena ordenada:\", cadena_ordenada)\n"
      ]
    },
    {
      "cell_type": "markdown",
      "id": "faf47c21-c6e1-4006-801a-46fcfe875760",
      "metadata": {
        "id": "faf47c21-c6e1-4006-801a-46fcfe875760"
      },
      "source": [
        "Y también las tuplas, pero solo usando sorted"
      ]
    },
    {
      "cell_type": "code",
      "execution_count": null,
      "id": "af686482-c3dc-4979-8891-d30d669e1b0e",
      "metadata": {
        "id": "af686482-c3dc-4979-8891-d30d669e1b0e"
      },
      "outputs": [],
      "source": [
        "tupla = (4, 1, 3, 2, 5)\n",
        "\n",
        "# Ordenamos la tupla y almacenamos el resultado en una nueva lista\n",
        "tupla_ordenada = tuple(sorted(tupla))\n",
        "\n",
        "print(\"Tupla original:\", tupla)\n",
        "print(\"Tupla ordenada:\", tupla_ordenada)\n"
      ]
    },
    {
      "cell_type": "markdown",
      "id": "fd59c820-17fc-4c26-b4bd-d712c0f899e2",
      "metadata": {
        "id": "fd59c820-17fc-4c26-b4bd-d712c0f899e2"
      },
      "source": [
        "### Buscando Secuencias"
      ]
    },
    {
      "cell_type": "markdown",
      "id": "a28823a1-57ce-4a0d-a337-03d44f00d475",
      "metadata": {
        "id": "a28823a1-57ce-4a0d-a337-03d44f00d475"
      },
      "source": [
        "Ahora arma la lista\n",
        "\n",
        "edad = [65,12,19,80,36,28,16,18,36,16,45,32,36,59]    "
      ]
    },
    {
      "cell_type": "code",
      "execution_count": null,
      "id": "b7d8ace3-e89d-4eb3-888c-88b6db252126",
      "metadata": {
        "id": "b7d8ace3-e89d-4eb3-888c-88b6db252126"
      },
      "outputs": [],
      "source": [
        "edad = [65, 12, 19, 80, 36, 28, 16, 18, 36, 16, 45, 32, 36, 59]\n"
      ]
    },
    {
      "cell_type": "markdown",
      "id": "97238422-0f79-4232-abf4-43e27f6a3a32",
      "metadata": {
        "id": "97238422-0f79-4232-abf4-43e27f6a3a32"
      },
      "source": [
        "Y busca en ella la edad 45 usando el método index()"
      ]
    },
    {
      "cell_type": "code",
      "execution_count": null,
      "id": "6f1db40f-a4a5-42b6-9eec-1b038a4c7f5e",
      "metadata": {
        "id": "6f1db40f-a4a5-42b6-9eec-1b038a4c7f5e"
      },
      "outputs": [],
      "source": [
        "edad = [65, 12, 19, 80, 36, 28, 16, 18, 36, 16, 45, 32, 36, 59]\n",
        "\n",
        "# Buscar la edad 45 en la lista\n",
        "indice = edad.index(45)\n",
        "\n",
        "print(\"La edad 45 se encuentra en el índice:\", indice)\n"
      ]
    },
    {
      "cell_type": "markdown",
      "id": "fddd6daa-b6a8-4999-adb0-6663778198cb",
      "metadata": {
        "id": "fddd6daa-b6a8-4999-adb0-6663778198cb"
      },
      "source": [
        "Si buscas algo que no esta, como 43, el resultado es..."
      ]
    },
    {
      "cell_type": "code",
      "execution_count": null,
      "id": "5cdcf524-0249-4af0-b80c-34e35fc4f351",
      "metadata": {
        "id": "5cdcf524-0249-4af0-b80c-34e35fc4f351"
      },
      "outputs": [],
      "source": [
        "edad = [65, 12, 19, 80, 36, 28, 16, 18, 36, 16, 45, 32, 36, 59]\n",
        "\n",
        "# Intentar buscar la edad 43 en la lista\n",
        "try:\n",
        "    indice = edad.index(43)\n",
        "    print(\"La edad 43 se encuentra en el índice:\", indice)\n",
        "except ValueError:\n",
        "    print(\"La edad 43 no está presente en la lista.\")\n"
      ]
    },
    {
      "cell_type": "markdown",
      "id": "5f2ef81e-4b06-4dc0-9448-f9b654934f02",
      "metadata": {
        "id": "5f2ef81e-4b06-4dc0-9448-f9b654934f02"
      },
      "source": [
        "Tambien puedes usar el comando in, checa si 56 está in edad"
      ]
    },
    {
      "cell_type": "code",
      "execution_count": null,
      "id": "d3fc8551-44df-4b27-bd17-5a106650df51",
      "metadata": {
        "id": "d3fc8551-44df-4b27-bd17-5a106650df51"
      },
      "outputs": [],
      "source": [
        "edad = [65, 12, 19, 80, 36, 28, 16, 18, 36, 16, 45, 32, 36, 59]\n",
        "\n",
        "# Verificar si 56 está en la lista\n",
        "if 56 in edad:\n",
        "    print(\"Sí, 56 está presente en la lista.\")\n",
        "else:\n",
        "    print(\"No, 56 no está presente en la lista.\")\n"
      ]
    },
    {
      "cell_type": "markdown",
      "id": "ab18778b-6b0d-486f-ba82-8bd8180e49a5",
      "metadata": {
        "id": "ab18778b-6b0d-486f-ba82-8bd8180e49a5"
      },
      "source": [
        "###Otros Métodos de Lista"
      ]
    },
    {
      "cell_type": "markdown",
      "id": "5d9ef857-0c98-4d81-bc80-d216d7a6569e",
      "metadata": {
        "id": "5d9ef857-0c98-4d81-bc80-d216d7a6569e"
      },
      "source": [
        "vegetales = ['espinaca','apio']"
      ]
    },
    {
      "cell_type": "code",
      "execution_count": null,
      "id": "cbb8406c-a845-48f7-b750-236900ea5cdd",
      "metadata": {
        "id": "cbb8406c-a845-48f7-b750-236900ea5cdd"
      },
      "outputs": [],
      "source": [
        "vegetales = ['espinaca', 'apio']"
      ]
    },
    {
      "cell_type": "markdown",
      "id": "8a58a395-7594-4096-83b4-e1e6c5cdcfb6",
      "metadata": {
        "id": "8a58a395-7594-4096-83b4-e1e6c5cdcfb6"
      },
      "source": [
        "Usa el método insert() para meter 'lechuga' en la posición 0"
      ]
    },
    {
      "cell_type": "code",
      "execution_count": null,
      "id": "d1af9cf7-e8b5-400a-a18f-3196c72e7cc4",
      "metadata": {
        "id": "d1af9cf7-e8b5-400a-a18f-3196c72e7cc4"
      },
      "outputs": [],
      "source": [
        "vegetales = ['espinaca', 'apio']\n",
        "\n",
        "# Insertar 'lechuga' en la posición 0\n",
        "vegetales.insert(0, 'lechuga')\n",
        "\n",
        "print(\"Lista de vegetales después de insertar 'lechuga':\", vegetales)\n"
      ]
    },
    {
      "cell_type": "markdown",
      "id": "52d4166b-d321-4a51-bbdd-978c4ded199e",
      "metadata": {
        "id": "52d4166b-d321-4a51-bbdd-978c4ded199e"
      },
      "source": [
        "Usa el método append() para meter 'esparragos' al final"
      ]
    },
    {
      "cell_type": "code",
      "execution_count": null,
      "id": "2d6855bb-11d3-4d2e-9e5d-599cd6d659cf",
      "metadata": {
        "id": "2d6855bb-11d3-4d2e-9e5d-599cd6d659cf"
      },
      "outputs": [],
      "source": [
        "vegetales = ['lechuga', 'espinaca', 'apio']\n",
        "\n",
        "# Agregar 'esparragos' al final de la lista\n",
        "vegetales.append('esparragos')\n",
        "\n",
        "print(\"Lista de vegetales después de agregar 'esparragos':\", vegetales)\n"
      ]
    },
    {
      "cell_type": "markdown",
      "id": "854f646e-1f1a-4677-90f0-f2b23a679ac9",
      "metadata": {
        "id": "854f646e-1f1a-4677-90f0-f2b23a679ac9"
      },
      "source": [
        "Agrega el precio usando el comando extend\n",
        "\n",
        "Precio = (10,15,8,30)"
      ]
    },
    {
      "cell_type": "code",
      "execution_count": null,
      "id": "0db26dae-3e95-4172-b80b-110bd0caa0ff",
      "metadata": {
        "id": "0db26dae-3e95-4172-b80b-110bd0caa0ff"
      },
      "outputs": [],
      "source": [
        "vegetales = ['lechuga', 'espinaca', 'apio']\n",
        "Precio = (10, 15, 8, 30)\n",
        "\n",
        "# Convertir la tupla Precio en una lista y agregarla al final de la lista vegetales\n",
        "vegetales.extend(list(Precio))\n",
        "\n",
        "print(\"Lista de vegetales después de agregar los precios:\", vegetales)\n"
      ]
    },
    {
      "cell_type": "markdown",
      "id": "c63867c4-9b99-4b19-924a-06a47965ed9e",
      "metadata": {
        "id": "c63867c4-9b99-4b19-924a-06a47965ed9e"
      },
      "source": [
        "Quitale los esparragos a la ensalada usando remove()"
      ]
    },
    {
      "cell_type": "code",
      "execution_count": null,
      "id": "3afd8bbc-d8dd-407d-8d65-cfce2092c590",
      "metadata": {
        "id": "3afd8bbc-d8dd-407d-8d65-cfce2092c590"
      },
      "outputs": [],
      "source": [
        "vegetales = ['lechuga', 'espinaca', 'apio', 'esparragos']\n",
        "\n",
        "# Eliminar 'esparragos' de la lista\n",
        "vegetales.remove('esparragos')\n",
        "\n",
        "print(\"Lista de vegetales después de quitar 'esparragos':\", vegetales)\n"
      ]
    },
    {
      "cell_type": "markdown",
      "id": "15d3c269-5b8a-4f1e-bee7-48bb5ddfb933",
      "metadata": {
        "id": "15d3c269-5b8a-4f1e-bee7-48bb5ddfb933"
      },
      "source": [
        "Tira la ensalada y ve por un platillo de hombre usando vegetales.clear()"
      ]
    },
    {
      "cell_type": "code",
      "execution_count": null,
      "id": "492a21fc-86d6-48f6-b006-b68a2d7a28a8",
      "metadata": {
        "id": "492a21fc-86d6-48f6-b006-b68a2d7a28a8"
      },
      "outputs": [],
      "source": [
        "vegetales = ['lechuga', 'espinaca', 'apio', 'esparragos']\n",
        "\n",
        "# Limpiar la lista de vegetales\n",
        "vegetales.clear()\n",
        "\n",
        "print(\"La ensalada ha sido eliminada. Ahora la lista de vegetales está vacía:\", vegetales)\n"
      ]
    },
    {
      "cell_type": "markdown",
      "id": "61a5a0f1-41b4-48d1-95ee-ee51a29c90bd",
      "metadata": {
        "id": "61a5a0f1-41b4-48d1-95ee-ee51a29c90bd"
      },
      "source": [
        "###Contar"
      ]
    },
    {
      "cell_type": "markdown",
      "id": "3b74c7e6-3015-4bc5-807d-ea567e339a44",
      "metadata": {
        "id": "3b74c7e6-3015-4bc5-807d-ea567e339a44"
      },
      "source": [
        "Arma una lista de edades\n",
        "\n",
        " edades = [15, 21, 16, 19, 20, 16, 19, 15, 21, 17, 18, 24, 20, 24, 21, 19, 18, 16, 19, 16]\n"
      ]
    },
    {
      "cell_type": "code",
      "execution_count": null,
      "id": "1ec19d16-1f35-468e-86b4-be1f9e6c50b4",
      "metadata": {
        "id": "1ec19d16-1f35-468e-86b4-be1f9e6c50b4"
      },
      "outputs": [],
      "source": [
        "edades = [15, 21, 16, 19, 20, 16, 19, 15, 21, 17, 18, 24, 20, 24, 21, 19, 18, 16, 19, 16]\n"
      ]
    },
    {
      "cell_type": "markdown",
      "id": "adc447a8-fe46-4bb5-9fab-f0bd2d03ad0f",
      "metadata": {
        "id": "adc447a8-fe46-4bb5-9fab-f0bd2d03ad0f"
      },
      "source": [
        "Usa count para saber cuantas vecs aparece la edad 16"
      ]
    },
    {
      "cell_type": "code",
      "execution_count": null,
      "id": "73cf7fb6-c511-4fed-9ff0-2dfbcc5bf279",
      "metadata": {
        "id": "73cf7fb6-c511-4fed-9ff0-2dfbcc5bf279"
      },
      "outputs": [],
      "source": [
        "edades = [15, 21, 16, 19, 20, 16, 19, 15, 21, 17, 18, 24, 20, 24, 21, 19, 18, 16, 19, 16]\n",
        "\n",
        "# Contar cuántas veces aparece la edad 16\n",
        "veces_16 = edades.count(16)\n",
        "\n",
        "print(\"La edad 16 aparece\", veces_16, \"veces en la lista.\")\n"
      ]
    },
    {
      "cell_type": "markdown",
      "id": "31102168-b3ca-48cf-8868-39ac7befccdd",
      "metadata": {
        "id": "31102168-b3ca-48cf-8868-39ac7befccdd"
      },
      "source": [
        "Arma un for para contar cuantas veces se repite cada edad entre 15 a 25 en la lista\n",
        "\n",
        "imprime tus resultados con la frase\n",
        "La edad 15 se repite 2 veces\n",
        "y asi...\n",
        "\n",
        "\n"
      ]
    },
    {
      "cell_type": "code",
      "execution_count": null,
      "id": "0f90d9b6-590d-4b4e-a702-9b0ecf55a9cb",
      "metadata": {
        "id": "0f90d9b6-590d-4b4e-a702-9b0ecf55a9cb"
      },
      "outputs": [],
      "source": [
        "edades = [15, 21, 16, 19, 20, 16, 19, 15, 21, 17, 18, 24, 20, 24, 21, 19, 18, 16, 19, 16]\n",
        "\n",
        "# Inicializar un diccionario para almacenar el recuento de cada edad\n",
        "recuento_edades = {}\n",
        "\n",
        "# Contar cuántas veces se repite cada edad entre 15 y 25\n",
        "for edad in range(15, 26):\n",
        "    veces = edades.count(edad)\n",
        "    recuento_edades[edad] = veces\n",
        "\n",
        "# Imprimir los resultados\n",
        "for edad, veces in recuento_edades.items():\n",
        "    print(f\"La edad {edad} se repite {veces} veces.\")\n"
      ]
    },
    {
      "cell_type": "markdown",
      "id": "4d099cfc-d40a-43f6-9ad3-9dbd6954f1b1",
      "metadata": {
        "id": "4d099cfc-d40a-43f6-9ad3-9dbd6954f1b1"
      },
      "source": [
        "Arma tu ensalada de nuevo\n",
        "\n",
        " vegetales = ['lechuga','espinaca','apio','pepinillo']"
      ]
    },
    {
      "cell_type": "code",
      "execution_count": null,
      "id": "bfed5d68-3c2d-4145-aa56-d1254aa3db0b",
      "metadata": {
        "id": "bfed5d68-3c2d-4145-aa56-d1254aa3db0b"
      },
      "outputs": [],
      "source": [
        "vegetales = ['lechuga', 'espinaca', 'apio', 'pepinillo']"
      ]
    },
    {
      "cell_type": "markdown",
      "id": "839085b2-372b-4050-b521-e8d7917295f2",
      "metadata": {
        "id": "839085b2-372b-4050-b521-e8d7917295f2"
      },
      "source": [
        "Usa reverse para darle la vuelta"
      ]
    },
    {
      "cell_type": "code",
      "execution_count": null,
      "id": "9ca9cbff-a4ba-4f71-bdd8-1d8b54e8d465",
      "metadata": {
        "id": "9ca9cbff-a4ba-4f71-bdd8-1d8b54e8d465"
      },
      "outputs": [],
      "source": [
        "vegetales = ['lechuga', 'espinaca', 'apio', 'pepinillo']\n",
        "\n",
        "# Invertir el orden de los elementos en la lista\n",
        "vegetales.reverse()\n",
        "\n",
        "print(\"Lista de vegetales después de invertir el orden:\", vegetales)\n"
      ]
    },
    {
      "cell_type": "markdown",
      "id": "26ef156d-9e86-431b-addd-6ad0225ecc17",
      "metadata": {
        "id": "26ef156d-9e86-431b-addd-6ad0225ecc17"
      },
      "source": [
        "Prepara una seguna ensalada usando copy"
      ]
    },
    {
      "cell_type": "code",
      "execution_count": null,
      "id": "87e898e6-7355-4388-ad4f-4d441d91a80a",
      "metadata": {
        "id": "87e898e6-7355-4388-ad4f-4d441d91a80a"
      },
      "outputs": [],
      "source": [
        "# Copiar la lista de vegetales para la segunda ensalada\n",
        "segunda_ensalada = vegetales.copy()\n",
        "\n",
        "# Agregar ingredientes adicionales a la segunda ensalada\n",
        "segunda_ensalada.append('tomate')\n",
        "segunda_ensalada.append('zanahoria')\n",
        "\n",
        "print(\"Segunda ensalada:\", segunda_ensalada)\n"
      ]
    },
    {
      "cell_type": "markdown",
      "id": "7ff36166-8379-4e4d-8c02-c465f958ad05",
      "metadata": {
        "id": "7ff36166-8379-4e4d-8c02-c465f958ad05"
      },
      "source": [
        "##Comprensión de Listas"
      ]
    },
    {
      "cell_type": "markdown",
      "id": "a83d69a6-c578-4d91-b13b-6ae1676c78b4",
      "metadata": {
        "id": "a83d69a6-c578-4d91-b13b-6ae1676c78b4"
      },
      "source": [
        "Vamos a armar una lista con todos los numeros del 1 al 10. Empeiza con lista vacia, y luego un for que haga un append de todos los numeros del 1 al 10"
      ]
    },
    {
      "cell_type": "code",
      "execution_count": null,
      "id": "6bfdc08b-9d0e-44d3-bdae-64df3eaaa3ef",
      "metadata": {
        "id": "6bfdc08b-9d0e-44d3-bdae-64df3eaaa3ef"
      },
      "outputs": [],
      "source": [
        "# Crear una lista vacía para almacenar los números del 1 al 10\n",
        "numeros = []\n",
        "\n",
        "# Agregar números del 1 al 10 a la lista utilizando un bucle for\n",
        "for i in range(1, 11):\n",
        "    numeros.append(i)\n",
        "\n",
        "print(\"Lista de números del 1 al 10:\", numeros)\n"
      ]
    },
    {
      "cell_type": "markdown",
      "id": "25bb7da9-eda4-4b25-b861-06f78a991d5d",
      "metadata": {
        "id": "25bb7da9-eda4-4b25-b861-06f78a991d5d"
      },
      "source": [
        "Ahora hacemos lo mismo con la comprensión de listas"
      ]
    },
    {
      "cell_type": "code",
      "execution_count": null,
      "id": "3df8af71-0695-4081-98ac-270841f5a624",
      "metadata": {
        "id": "3df8af71-0695-4081-98ac-270841f5a624"
      },
      "outputs": [],
      "source": [
        "# Utilizar comprensión de listas para crear la lista de números del 1 al 10\n",
        "numeros = [i for i in range(1, 11)]\n",
        "\n",
        "print(\"Lista de números del 1 al 10:\", numeros)\n"
      ]
    },
    {
      "cell_type": "markdown",
      "id": "987b7ef2-3686-42e5-89b4-03b93f28a91c",
      "metadata": {
        "id": "987b7ef2-3686-42e5-89b4-03b93f28a91c"
      },
      "source": [
        "Tambien de plano podemos reemplazar todo eso por range"
      ]
    },
    {
      "cell_type": "code",
      "execution_count": null,
      "id": "d7ec16e5-10ad-4e76-a963-83533cf330c1",
      "metadata": {
        "id": "d7ec16e5-10ad-4e76-a963-83533cf330c1"
      },
      "outputs": [],
      "source": [
        "# Generar una secuencia de números del 1 al 10 usando range() y convertirla en una lista\n",
        "numeros = list(range(1, 11))\n",
        "\n",
        "print(\"Lista de números del 1 al 10:\", numeros)\n"
      ]
    },
    {
      "cell_type": "markdown",
      "id": "fe5ab5de-8071-47e9-9b38-6dce775c8958",
      "metadata": {
        "id": "fe5ab5de-8071-47e9-9b38-6dce775c8958"
      },
      "source": [
        "Ahora vamos a mapear - hacer calculos dentro de la comprension de listas, en este caso todos los cuadrados del 1 al 10"
      ]
    },
    {
      "cell_type": "code",
      "execution_count": null,
      "id": "a6883d8b-4ec2-4f67-95f9-4f3f22dfe0ea",
      "metadata": {
        "id": "a6883d8b-4ec2-4f67-95f9-4f3f22dfe0ea"
      },
      "outputs": [],
      "source": [
        "# Utilizar comprensión de listas junto con la función map para calcular los cuadrados del 1 al 10\n",
        "cuadrados = [x ** 2 for x in range(1, 11)]\n",
        "\n",
        "print(\"Cuadrados del 1 al 10:\", cuadrados)\n"
      ]
    },
    {
      "cell_type": "markdown",
      "id": "f109e962-88d8-420c-90aa-538e4e221239",
      "metadata": {
        "id": "f109e962-88d8-420c-90aa-538e4e221239"
      },
      "source": [
        "Ahora vamos a generar una comprensión de lista con filtro - todos los cuadrados del 1 al 10 siempre y cuando sean menores a 50"
      ]
    },
    {
      "cell_type": "code",
      "execution_count": null,
      "id": "7cde0e96-e7aa-44bf-8c91-1ce790802d33",
      "metadata": {
        "id": "7cde0e96-e7aa-44bf-8c91-1ce790802d33"
      },
      "outputs": [],
      "source": [
        "# Utilizar comprensión de listas con filtro para calcular los cuadrados del 1 al 10 menores a 50\n",
        "cuadrados_menores_a_50 = [x ** 2 for x in range(1, 11) if x ** 2 < 50]\n",
        "\n",
        "print(\"Cuadrados del 1 al 10 menores a 50:\", cuadrados_menores_a_50)\n"
      ]
    },
    {
      "cell_type": "markdown",
      "id": "4aa8c85a-f86c-4e9a-be7c-79eb3a72c482",
      "metadata": {
        "id": "4aa8c85a-f86c-4e9a-be7c-79eb3a72c482"
      },
      "source": [
        "Que tal que queremos una comprension de lista d etodos los cuadrados pares del 1 al 10?"
      ]
    },
    {
      "cell_type": "code",
      "execution_count": null,
      "id": "8c22dd51-3455-4106-b5c6-782d11643529",
      "metadata": {
        "id": "8c22dd51-3455-4106-b5c6-782d11643529"
      },
      "outputs": [],
      "source": [
        "# Utilizar comprensión de listas para obtener los cuadrados de los números pares del 1 al 10\n",
        "cuadrados_pares = [x ** 2 for x in range(1, 11) if x % 2 == 0]\n",
        "\n",
        "print(\"Cuadrados de los números pares del 1 al 10:\", cuadrados_pares)\n"
      ]
    },
    {
      "cell_type": "markdown",
      "id": "6519a6e2-f7db-4902-bce7-66bddcf01da0",
      "metadata": {
        "id": "6519a6e2-f7db-4902-bce7-66bddcf01da0"
      },
      "source": [
        "Vuelve a armar tu ensalada\n",
        "\n",
        " vegetales = ['apio','brocoli','lechuga']\n",
        "    "
      ]
    },
    {
      "cell_type": "code",
      "execution_count": null,
      "id": "2bbef5ac-54a5-446c-a7eb-629a420c5b50",
      "metadata": {
        "id": "2bbef5ac-54a5-446c-a7eb-629a420c5b50"
      },
      "outputs": [],
      "source": [
        "vegetales = ['apio', 'brócoli', 'lechuga']\n"
      ]
    },
    {
      "cell_type": "markdown",
      "id": "34ffd820-5dee-4b73-83e1-b9bcd9cbe96d",
      "metadata": {
        "id": "34ffd820-5dee-4b73-83e1-b9bcd9cbe96d"
      },
      "source": [
        "Arma una comprensión de lista que cambie todos estos a mayusculas"
      ]
    },
    {
      "cell_type": "code",
      "execution_count": null,
      "id": "e469e624-c61a-43f4-b7aa-669491edc9cb",
      "metadata": {
        "id": "e469e624-c61a-43f4-b7aa-669491edc9cb"
      },
      "outputs": [],
      "source": [
        "vegetales = ['apio', 'brócoli', 'lechuga']\n",
        "\n",
        "vegetales_mayusculas = [vegetal.upper() for vegetal in vegetales]\n",
        "\n",
        "print(\"Lista de vegetales en mayúsculas:\", vegetales_mayusculas)\n"
      ]
    },
    {
      "cell_type": "markdown",
      "id": "f4ec2120-193b-42e5-bdee-c6cf00796808",
      "metadata": {
        "id": "f4ec2120-193b-42e5-bdee-c6cf00796808"
      },
      "source": [
        "#### Por tu cuenta\n",
        "\n",
        "Arma una comprensión de lista que te devuelva tuplas de todos los numeros del 1 al 6 y sus cubos"
      ]
    },
    {
      "cell_type": "code",
      "execution_count": null,
      "id": "9cf8e3c1-bbf5-420d-ab2b-497ba1bc35ab",
      "metadata": {
        "id": "9cf8e3c1-bbf5-420d-ab2b-497ba1bc35ab"
      },
      "outputs": [],
      "source": [
        "#Acá va la solución"
      ]
    },
    {
      "cell_type": "markdown",
      "id": "e8638d69-e268-429c-b2fa-c78ead6334a6",
      "metadata": {
        "id": "e8638d69-e268-429c-b2fa-c78ead6334a6"
      },
      "source": [
        "#### Por tu cuenta\n",
        "\n",
        "Arma una comprensión de lista que te devuelva todos los mutliples de 3 menores a 60"
      ]
    },
    {
      "cell_type": "code",
      "execution_count": null,
      "id": "83306e4f-539d-4691-aaa7-4dc513824561",
      "metadata": {
        "id": "83306e4f-539d-4691-aaa7-4dc513824561"
      },
      "outputs": [],
      "source": [
        "#Acá va la solución"
      ]
    },
    {
      "cell_type": "markdown",
      "id": "4faf8456-53ff-4a5a-8a5e-0a9c5871cc02",
      "metadata": {
        "id": "4faf8456-53ff-4a5a-8a5e-0a9c5871cc02"
      },
      "source": [
        "###Generador de Expresiones"
      ]
    },
    {
      "cell_type": "markdown",
      "id": "371fd199-f5a1-43ba-af06-6d52f3d453d4",
      "metadata": {
        "id": "371fd199-f5a1-43ba-af06-6d52f3d453d4"
      },
      "source": [
        "Arma esta lista\n",
        "\n",
        "lista = [-3,5,8,4,1,-6,7,10]"
      ]
    },
    {
      "cell_type": "code",
      "execution_count": null,
      "id": "1e690475-ea47-444f-9a11-9f6254daaf51",
      "metadata": {
        "id": "1e690475-ea47-444f-9a11-9f6254daaf51"
      },
      "outputs": [],
      "source": [
        "lista = [-3, 5, 8, 4, 1, -6, 7, 10]\n"
      ]
    },
    {
      "cell_type": "markdown",
      "id": "7b2acc02-9db6-4c97-8c60-e244d9b63c96",
      "metadata": {
        "id": "7b2acc02-9db6-4c97-8c60-e244d9b63c96"
      },
      "source": [
        "Arma un for que te muestre los cuadrados pares de esta lista"
      ]
    },
    {
      "cell_type": "code",
      "source": [
        "lista = [-3, 5, 8, 4, 1, -6, 7, 10]\n",
        "\n",
        "# Iterar sobre los elementos de la lista\n",
        "for num in lista:\n",
        "    # Verificar si el número es par\n",
        "    if num % 2 == 0:\n",
        "        # Calcular el cuadrado del número par y mostrarlo\n",
        "        cuadrado = num ** 2\n",
        "        print(f\"El cuadrado de {num} es {cuadrado}\")\n"
      ],
      "metadata": {
        "id": "y0El4kut2AOk"
      },
      "id": "y0El4kut2AOk",
      "execution_count": null,
      "outputs": []
    },
    {
      "cell_type": "markdown",
      "id": "e9164aa8-25bb-436b-8bb4-f6827b674404",
      "metadata": {
        "id": "e9164aa8-25bb-436b-8bb4-f6827b674404"
      },
      "source": [
        "`Ahora revisa como podemos hacer lo mismo con el generador de expresiones`"
      ]
    },
    {
      "cell_type": "code",
      "execution_count": null,
      "id": "7c867d37-c1f8-45e1-8c5d-2c2cc7ae4d98",
      "metadata": {
        "id": "7c867d37-c1f8-45e1-8c5d-2c2cc7ae4d98"
      },
      "outputs": [],
      "source": [
        "lista = [-3, 5, 8, 4, 1, -6, 7, 10]\n",
        "\n",
        "# Generador de expresiones para calcular los cuadrados de los números pares\n",
        "cuadrados_pares = (num ** 2 for num in lista if num % 2 == 0)\n",
        "\n",
        "# Iterar sobre los cuadrados pares y mostrarlos\n",
        "for cuadrado in cuadrados_pares:\n",
        "    print(cuadrado)\n"
      ]
    },
    {
      "cell_type": "markdown",
      "id": "c290a61b-6c18-41eb-9c15-4ad27e8f90a8",
      "metadata": {
        "id": "c290a61b-6c18-41eb-9c15-4ad27e8f90a8"
      },
      "source": [
        "Y para ver los resultados usa list()"
      ]
    },
    {
      "cell_type": "code",
      "execution_count": null,
      "id": "030dbd25-49ee-441d-9058-6adb1cb034e6",
      "metadata": {
        "id": "030dbd25-49ee-441d-9058-6adb1cb034e6"
      },
      "outputs": [],
      "source": [
        "lista = [-3, 5, 8, 4, 1, -6, 7, 10]\n",
        "\n",
        "# Generador de expresiones para calcular los cuadrados de los números pares\n",
        "cuadrados_pares = (num ** 2 for num in lista if num % 2 == 0)\n",
        "\n",
        "# Convertir el generador de expresiones en una lista y mostrar los resultados\n",
        "resultados = list(cuadrados_pares)\n",
        "print(\"Cuadrados de los números pares:\", resultados)\n"
      ]
    },
    {
      "cell_type": "markdown",
      "id": "9311748b-4e6a-4176-8f7f-4ab6a47a17f0",
      "metadata": {
        "id": "9311748b-4e6a-4176-8f7f-4ab6a47a17f0"
      },
      "source": [
        "#### Por tu cuenta\n",
        "\n",
        "Crea una expresion generadora que eleve al cubo los enteros pares en uan lista que contiene 10,3,7,1,9,4"
      ]
    },
    {
      "cell_type": "code",
      "source": [
        "#Acá va la solución"
      ],
      "metadata": {
        "id": "nXFz5aKK2Q7A"
      },
      "id": "nXFz5aKK2Q7A",
      "execution_count": null,
      "outputs": []
    },
    {
      "cell_type": "markdown",
      "id": "d785037d-ccf0-4b18-8d70-f63c7cd3135d",
      "metadata": {
        "id": "d785037d-ccf0-4b18-8d70-f63c7cd3135d"
      },
      "source": [
        "###Filtrar, mapear y reducir"
      ]
    },
    {
      "cell_type": "markdown",
      "id": "39194aec-910a-492e-91eb-6b6fb1b5eb83",
      "metadata": {
        "id": "39194aec-910a-492e-91eb-6b6fb1b5eb83"
      },
      "source": [
        "Primero vamos a definir una funcion que compruebe si un numero es par\n",
        "\n",
        "usaremos la lista lista=[-3,5,8,4,1,-6,7,10]"
      ]
    },
    {
      "cell_type": "code",
      "execution_count": null,
      "id": "4df31406-2bb0-49c6-a3f5-e49460b29fac",
      "metadata": {
        "id": "4df31406-2bb0-49c6-a3f5-e49460b29fac"
      },
      "outputs": [],
      "source": [
        "lista = [-3, 5, 8, 4, 1, -6, 7, 10]\n"
      ]
    },
    {
      "cell_type": "markdown",
      "id": "a9ad5688-aac8-4549-b9c5-6425775085e8",
      "metadata": {
        "id": "a9ad5688-aac8-4549-b9c5-6425775085e8"
      },
      "source": [
        "Ahoa vamos a filtrar la lista usando esta nueva función"
      ]
    },
    {
      "cell_type": "code",
      "execution_count": null,
      "id": "6a441c8e-29f8-4c80-a388-a2ca3be63530",
      "metadata": {
        "id": "6a441c8e-29f8-4c80-a388-a2ca3be63530"
      },
      "outputs": [],
      "source": [
        "lista = [-3, 5, 8, 4, 1, -6, 7, 10]\n",
        "\n",
        "# Función para verificar si un número es par\n",
        "def es_par(numero):\n",
        "    return numero % 2 == 0\n",
        "\n",
        "# Filtrar los números pares de la lista\n",
        "numeros_pares = filter(es_par, lista)\n",
        "\n",
        "# Convertir el resultado en una lista y mostrarlo\n",
        "numeros_pares_lista = list(numeros_pares)\n",
        "print(\"Números pares:\", numeros_pares_lista)\n"
      ]
    },
    {
      "cell_type": "markdown",
      "id": "fb4f69f6-f7f8-49f1-94a2-51f481ea137d",
      "metadata": {
        "id": "fb4f69f6-f7f8-49f1-94a2-51f481ea137d"
      },
      "source": [
        "Podemos usar la comprensión de listas y nuestra nueva función para armar una lista"
      ]
    },
    {
      "cell_type": "code",
      "execution_count": null,
      "id": "e94eaa15-2e37-482b-a69d-28d95d002f06",
      "metadata": {
        "id": "e94eaa15-2e37-482b-a69d-28d95d002f06"
      },
      "outputs": [],
      "source": [
        "lista = [-3, 5, 8, 4, 1, -6, 7, 10]\n",
        "\n",
        "# Función para verificar si un número es par\n",
        "def es_par(numero):\n",
        "    return numero % 2 == 0\n",
        "\n",
        "# Utilizar comprensión de listas para filtrar los números pares de la lista\n",
        "numeros_pares = [num for num in lista if es_par(num)]\n",
        "\n",
        "print(\"Números pares:\", numeros_pares)\n"
      ]
    },
    {
      "cell_type": "markdown",
      "id": "f0be8bcf-9b9e-4fb6-93cc-f0f30314f1b8",
      "metadata": {
        "id": "f0be8bcf-9b9e-4fb6-93cc-f0f30314f1b8"
      },
      "source": [
        "Cuando la funcion es tan sencilla, es mejor usar un lambda que andarla definiendo, como en este caso que hacemos lo mismo pero con lambda"
      ]
    },
    {
      "cell_type": "code",
      "execution_count": null,
      "id": "cdc77c6f-5e42-4d9c-acac-4615f49226f5",
      "metadata": {
        "id": "cdc77c6f-5e42-4d9c-acac-4615f49226f5"
      },
      "outputs": [],
      "source": [
        "lista = [-3, 5, 8, 4, 1, -6, 7, 10]\n",
        "\n",
        "# Utilizar una expresión lambda para verificar si un número es par\n",
        "numeros_pares = filter(lambda x: x % 2 == 0, lista)\n",
        "\n",
        "print(\"Números pares:\", list(numeros_pares))\n"
      ]
    },
    {
      "cell_type": "code",
      "execution_count": null,
      "id": "a13161a1-c80c-4f31-a58f-f2006d6f3996",
      "metadata": {
        "id": "a13161a1-c80c-4f31-a58f-f2006d6f3996"
      },
      "outputs": [],
      "source": []
    },
    {
      "cell_type": "markdown",
      "id": "fb32d7b5-1e45-4906-9905-31dd6d7f94e3",
      "metadata": {
        "id": "fb32d7b5-1e45-4906-9905-31dd6d7f94e3"
      },
      "source": [
        "Vamos a usar lambda y map para mostrar una comprensión de lista que eleva todo al cubo, la lsita a usar sera\n",
        "\n",
        "[-3, 5, 8, 4, 1, -6, 7, 10]\n"
      ]
    },
    {
      "cell_type": "code",
      "execution_count": null,
      "id": "51dd7c09-cb14-48f0-abf3-00cc4fea926c",
      "metadata": {
        "id": "51dd7c09-cb14-48f0-abf3-00cc4fea926c"
      },
      "outputs": [],
      "source": [
        "lista = [-3, 5, 8, 4, 1, -6, 7, 10]\n",
        "\n",
        "# Utilizar una expresión lambda con map para elevar todos los elementos al cubo\n",
        "cubos = map(lambda x: x ** 3, lista)\n",
        "\n",
        "# Convertir el resultado en una lista y mostrarlo\n",
        "resultado = list(cubos)\n",
        "print(\"Lista elevada al cubo:\", resultado)\n"
      ]
    },
    {
      "cell_type": "markdown",
      "id": "5678af85-cfcf-470f-b443-5fc8905421e6",
      "metadata": {
        "id": "5678af85-cfcf-470f-b443-5fc8905421e6"
      },
      "source": [
        "#### Por tu cuenta\n",
        "\n",
        "Crea una lista con numeros del 1 al 15 y luego\n",
        "- crea una nueva lista de los elementos impares\n",
        "- crea una nueva lista usando map y lambda para elevar al cuadrado a todos\n",
        "- filtra los elementos impares y luego mapealos a sus cuadrados"
      ]
    },
    {
      "cell_type": "code",
      "execution_count": null,
      "id": "195e11af-3382-4c54-93e1-9ffc012c7fd5",
      "metadata": {
        "id": "195e11af-3382-4c54-93e1-9ffc012c7fd5"
      },
      "outputs": [],
      "source": [
        "#Acá va la solución"
      ]
    }
  ],
  "metadata": {
    "kernelspec": {
      "display_name": "Python 3",
      "language": "python",
      "name": "python3"
    },
    "language_info": {
      "codemirror_mode": {
        "name": "ipython",
        "version": 3
      },
      "file_extension": ".py",
      "mimetype": "text/x-python",
      "name": "python",
      "nbconvert_exporter": "python",
      "pygments_lexer": "ipython3",
      "version": "3.8.8"
    },
    "colab": {
      "provenance": [],
      "include_colab_link": true
    }
  },
  "nbformat": 4,
  "nbformat_minor": 5
}