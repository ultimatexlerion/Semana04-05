{
  "cells": [
    {
      "cell_type": "markdown",
      "metadata": {
        "id": "view-in-github",
        "colab_type": "text"
      },
      "source": [
        "<a href=\"https://colab.research.google.com/github/ultimatexlerion/Semana04-05/blob/main/Avance_Taller_S5_A_Explorador_IA.ipynb\" target=\"_parent\"><img src=\"https://colab.research.google.com/assets/colab-badge.svg\" alt=\"Open In Colab\"/></a>"
      ]
    },
    {
      "cell_type": "code",
      "source": [
        "#Funciones\n",
        "def suma(a,b):\n",
        "  return a+b\n"
      ],
      "metadata": {
        "id": "NIpY9p9EkJdF"
      },
      "id": "NIpY9p9EkJdF",
      "execution_count": null,
      "outputs": []
    },
    {
      "cell_type": "code",
      "source": [
        "a=suma(2,3)\n",
        "print(a)\n",
        "b=suma(4,5)\n",
        "print(b)\n",
        "c=suma(a,b)\n",
        "print(c)"
      ],
      "metadata": {
        "colab": {
          "base_uri": "https://localhost:8080/"
        },
        "id": "GuJNhxAVkZAo",
        "outputId": "c1443e55-c680-48c8-bfff-b3207fd94ccc"
      },
      "id": "GuJNhxAVkZAo",
      "execution_count": null,
      "outputs": [
        {
          "output_type": "stream",
          "name": "stdout",
          "text": [
            "5\n",
            "9\n",
            "14\n"
          ]
        }
      ]
    },
    {
      "cell_type": "code",
      "source": [
        "# Crear la secuencia original\n",
        "tupla_original = ('1c', '2c', '3c', '5c', '6c', '7c', '1p', '2p', '3p', '1t', '2t', '3t')\n",
        "\n",
        "# Crear un objeto slice para obtener los primeros 4 elementos\n",
        "mi_slice = slice(0, 4)\n",
        "\n",
        "# Aplicar el slice a la tupla\n",
        "subtupla = tupla_original[mi_slice]\n",
        "print(subtupla)"
      ],
      "metadata": {
        "colab": {
          "base_uri": "https://localhost:8080/"
        },
        "id": "emETmk84mLlj",
        "outputId": "ee759e0c-8c0b-4add-a65b-47b2c93abdd0"
      },
      "id": "emETmk84mLlj",
      "execution_count": null,
      "outputs": [
        {
          "output_type": "stream",
          "name": "stdout",
          "text": [
            "('1c', '2c', '3c', '5c')\n"
          ]
        }
      ]
    },
    {
      "cell_type": "code",
      "source": [
        "import math"
      ],
      "metadata": {
        "id": "HvACvNuLSwBl"
      },
      "id": "HvACvNuLSwBl",
      "execution_count": null,
      "outputs": []
    },
    {
      "cell_type": "code",
      "source": [
        "precio1=10\n",
        "precio2=30\n",
        "\n",
        "preciototal=math.factorial(10)\n",
        "print(preciototal)\n",
        "valorpi=math.pi\n",
        "print(valorpi)\n",
        "print(math.sin(180))"
      ],
      "metadata": {
        "colab": {
          "base_uri": "https://localhost:8080/"
        },
        "id": "yUFNIra5SyjD",
        "outputId": "d6ed057f-029e-411b-deb0-4b35b3524928"
      },
      "id": "yUFNIra5SyjD",
      "execution_count": null,
      "outputs": [
        {
          "output_type": "stream",
          "name": "stdout",
          "text": [
            "3628800\n",
            "3.141592653589793\n",
            "-0.8011526357338304\n"
          ]
        }
      ]
    },
    {
      "cell_type": "code",
      "source": [
        "a=[1,2,3,4,5]\n",
        "b=[6,7,8,9,10]\n",
        "a.insert(3,\"texto\")\n",
        "print(a)\n"
      ],
      "metadata": {
        "colab": {
          "base_uri": "https://localhost:8080/"
        },
        "id": "Cx2EKvJugXMB",
        "outputId": "0472e846-0388-40dd-9455-5f7939435bcf"
      },
      "id": "Cx2EKvJugXMB",
      "execution_count": null,
      "outputs": [
        {
          "output_type": "stream",
          "name": "stdout",
          "text": [
            "[1, 2, 3, 'texto', 4, 5]\n"
          ]
        }
      ]
    },
    {
      "cell_type": "markdown",
      "id": "d1a16963-6e72-4bf2-8445-47f8c4950de0",
      "metadata": {
        "id": "d1a16963-6e72-4bf2-8445-47f8c4950de0"
      },
      "source": [
        "#Listas y Tuplas"
      ]
    },
    {
      "cell_type": "markdown",
      "id": "6f9ec23e-0185-492f-bc67-b8a4bb2d4ef0",
      "metadata": {
        "id": "6f9ec23e-0185-492f-bc67-b8a4bb2d4ef0"
      },
      "source": [
        "## Listas"
      ]
    },
    {
      "cell_type": "markdown",
      "id": "6fadf4a8-0173-4be4-8fa8-5a28260a55be",
      "metadata": {
        "id": "6fadf4a8-0173-4be4-8fa8-5a28260a55be"
      },
      "source": [
        "Una lista generalmente tiene datos homogeneos\n",
        "\n",
        "\n"
      ]
    },
    {
      "cell_type": "markdown",
      "source": [
        "En este ejemplo, todos los elementos de la lista numeros son números enteros. Una lista con datos homogéneos significa que todos los elementos de la lista son del mismo tipo de datos, en este caso, enteros. Esto es una característica común de las listas en Python, pero no es una restricción absoluta, ya que Python también permite listas que contienen diferentes tipos de datos. Sin embargo, es más común y recomendable que una lista contenga datos del mismo tipo para facilitar su manipulación y procesamiento."
      ],
      "metadata": {
        "id": "rLRlp4SxvTJA"
      },
      "id": "rLRlp4SxvTJA"
    },
    {
      "cell_type": "code",
      "execution_count": null,
      "id": "ee8b43ec-dc1e-4ab0-ad07-cc689c1aab5f",
      "metadata": {
        "id": "ee8b43ec-dc1e-4ab0-ad07-cc689c1aab5f"
      },
      "outputs": [],
      "source": [
        "numeros = [1, 2, 3, 4, 5]"
      ]
    },
    {
      "cell_type": "code",
      "source": [
        "Lista = ['Python','es']\n",
        "'-'.join(Lista)"
      ],
      "metadata": {
        "colab": {
          "base_uri": "https://localhost:8080/",
          "height": 36
        },
        "id": "G1ek1Mq1Gdux",
        "outputId": "4ee78bbd-8bbd-4f72-8c45-f8ddb24d7eea"
      },
      "id": "G1ek1Mq1Gdux",
      "execution_count": null,
      "outputs": [
        {
          "output_type": "execute_result",
          "data": {
            "text/plain": [
              "'Python-es'"
            ],
            "application/vnd.google.colaboratory.intrinsic+json": {
              "type": "string"
            }
          },
          "metadata": {},
          "execution_count": 4
        }
      ]
    },
    {
      "cell_type": "markdown",
      "id": "228872fa-2eb0-4eff-8f6a-eb7c80ec4be4",
      "metadata": {
        "id": "228872fa-2eb0-4eff-8f6a-eb7c80ec4be4"
      },
      "source": [
        "Tambien puede tener datos heterogeneos, como texto y numeros"
      ]
    },
    {
      "cell_type": "markdown",
      "source": [
        "En esta lista, tenemos una combinación de cadenas de texto (\"Hola\" y \"Mundo\"), un número entero (42) y un número decimal (3.14). Python permite esta flexibilidad en las listas, lo que significa que puedes almacenar una variedad de tipos de datos en una sola lista según tus necesidades. Sin embargo, es importante recordar que, aunque Python permite esta flexibilidad, es posible que desees mantener la coherencia en el tipo de datos de tus listas dependiendo de cómo planeas utilizarlas en tu programa."
      ],
      "metadata": {
        "id": "-oHt2PM8vZmD"
      },
      "id": "-oHt2PM8vZmD"
    },
    {
      "cell_type": "code",
      "execution_count": null,
      "id": "bc1858c1-4645-4ef3-a58c-9caa9b434a73",
      "metadata": {
        "id": "bc1858c1-4645-4ef3-a58c-9caa9b434a73"
      },
      "outputs": [],
      "source": [
        "datos = [\"Hola\", 42, \"Mundo\", 3.14]\n"
      ]
    },
    {
      "cell_type": "markdown",
      "id": "40204270-3b76-4327-9388-eff4bf61efd7",
      "metadata": {
        "id": "40204270-3b76-4327-9388-eff4bf61efd7"
      },
      "source": [
        "El primer elemento siempre es indice 0, y de ahi vas contando"
      ]
    },
    {
      "cell_type": "code",
      "execution_count": null,
      "id": "d8cba557-3e4a-4533-a84b-240686eb0924",
      "metadata": {
        "id": "d8cba557-3e4a-4533-a84b-240686eb0924",
        "colab": {
          "base_uri": "https://localhost:8080/"
        },
        "outputId": "a97a11f0-656b-4b8d-d80d-44c8a29d62a3"
      },
      "outputs": [
        {
          "output_type": "stream",
          "name": "stdout",
          "text": [
            "Primer elemento: a\n",
            "Segundo elemento: b\n",
            "Tercer elemento: c\n",
            "Cuarto elemento: d\n",
            "Quinto elemento: e\n"
          ]
        }
      ],
      "source": [
        "lista = [\"a\", \"b\", \"c\", \"d\", \"e\"]\n",
        "\n",
        "# Accediendo al primer elemento (índice 0)\n",
        "primer_elemento = lista[0]\n",
        "print(\"Primer elemento:\", primer_elemento)\n",
        "\n",
        "# Accediendo al segundo elemento (índice 1)\n",
        "segundo_elemento = lista[1]\n",
        "print(\"Segundo elemento:\", segundo_elemento)\n",
        "\n",
        "# Accediendo al tercer elemento (índice 2)\n",
        "tercer_elemento = lista[2]\n",
        "print(\"Tercer elemento:\", tercer_elemento)\n",
        "\n",
        "# Accediendo al cuarto elemento (índice 3)\n",
        "cuarto_elemento = lista[3]\n",
        "print(\"Cuarto elemento:\", cuarto_elemento)\n",
        "\n",
        "# Accediendo al quinto elemento (índice 4)\n",
        "quinto_elemento = lista[4]\n",
        "print(\"Quinto elemento:\", quinto_elemento)\n"
      ]
    },
    {
      "cell_type": "markdown",
      "id": "a2d96f9a-877b-4e2c-8d3b-acde754d8bca",
      "metadata": {
        "id": "a2d96f9a-877b-4e2c-8d3b-acde754d8bca"
      },
      "source": [
        "Usa len para conocer el numero de elementos en nuestra lista"
      ]
    },
    {
      "cell_type": "code",
      "execution_count": null,
      "id": "c71f62dc-61e3-4c41-aa3a-69766ac5d274",
      "metadata": {
        "id": "c71f62dc-61e3-4c41-aa3a-69766ac5d274",
        "colab": {
          "base_uri": "https://localhost:8080/"
        },
        "outputId": "5ec3b3ec-40c4-49ed-e0a8-f23e4b32724c"
      },
      "outputs": [
        {
          "output_type": "stream",
          "name": "stdout",
          "text": [
            "Número de elementos en la lista: 5\n"
          ]
        }
      ],
      "source": [
        "lista = [\"a\", \"b\", \"c\", \"d\", \"e\"]\n",
        "\n",
        "# Usamos la función len() para obtener el número de elementos en la lista\n",
        "numero_de_elementos = len(lista)\n",
        "print(\"Número de elementos en la lista:\", numero_de_elementos)\n"
      ]
    },
    {
      "cell_type": "markdown",
      "id": "acee545a-8948-47b1-a317-fac6b0fdd123",
      "metadata": {
        "id": "acee545a-8948-47b1-a317-fac6b0fdd123"
      },
      "source": [
        "Los indices siempre deben de ser enteros - y también se vale que sean expresiones"
      ]
    },
    {
      "cell_type": "code",
      "execution_count": null,
      "id": "9db1fa63-ead8-458c-9479-801bd92cbbf9",
      "metadata": {
        "id": "9db1fa63-ead8-458c-9479-801bd92cbbf9",
        "colab": {
          "base_uri": "https://localhost:8080/"
        },
        "outputId": "618fa103-7b09-4ad7-e7f6-c21db3e0e6c8"
      },
      "outputs": [
        {
          "output_type": "stream",
          "name": "stdout",
          "text": [
            "Elemento en el índice 3 : d\n"
          ]
        }
      ],
      "source": [
        "# Definimos una lista\n",
        "lista = [\"a\", \"b\", \"c\", \"d\", \"e\"]\n",
        "\n",
        "# Usamos una expresión para calcular el índice\n",
        "indice = 2 + 1\n",
        "\n",
        "# Accedemos al elemento usando el índice calculado dinámicamente\n",
        "elemento = lista[indice]\n",
        "\n",
        "# Imprimimos el elemento\n",
        "print(\"Elemento en el índice\", indice, \":\", elemento)\n"
      ]
    },
    {
      "cell_type": "markdown",
      "id": "a72c8a51-e531-4f87-9602-99fa2d433e24",
      "metadata": {
        "id": "a72c8a51-e531-4f87-9602-99fa2d433e24"
      },
      "source": [
        "Puedes cambiar elementos en particular"
      ]
    },
    {
      "cell_type": "code",
      "execution_count": null,
      "id": "61ac17b8-eaa1-4fac-9f0c-196f616e4b6a",
      "metadata": {
        "id": "61ac17b8-eaa1-4fac-9f0c-196f616e4b6a",
        "colab": {
          "base_uri": "https://localhost:8080/"
        },
        "outputId": "1736b19a-6950-4cb1-efd3-03b4be5d340c"
      },
      "outputs": [
        {
          "output_type": "stream",
          "name": "stdout",
          "text": [
            "Lista después de cambiar el elemento en el índice 2: ['a', 'b', 'x', 'd', 'e']\n"
          ]
        }
      ],
      "source": [
        "# Definimos una lista\n",
        "lista = [\"a\", \"b\", \"c\", \"d\", \"e\"]\n",
        "\n",
        "# Cambiamos el elemento en el índice 2 (tercer elemento) por \"x\"\n",
        "lista[2] = \"x\"\n",
        "\n",
        "# Imprimimos la lista actualizada\n",
        "print(\"Lista después de cambiar el elemento en el índice 2:\", lista)\n"
      ]
    },
    {
      "cell_type": "markdown",
      "id": "45284c87-094b-421e-8f69-576bcd813c2f",
      "metadata": {
        "id": "45284c87-094b-421e-8f69-576bcd813c2f"
      },
      "source": [
        "¿Que pasa si llamamos un indice fuera de la lista?"
      ]
    },
    {
      "cell_type": "code",
      "execution_count": null,
      "id": "ff5315d3-c051-451e-a9a2-58970f14ff2d",
      "metadata": {
        "id": "ff5315d3-c051-451e-a9a2-58970f14ff2d",
        "colab": {
          "base_uri": "https://localhost:8080/",
          "height": 165
        },
        "outputId": "a4cb40a5-e3fb-4267-d9a8-d94fd36405d9"
      },
      "outputs": [
        {
          "output_type": "error",
          "ename": "IndexError",
          "evalue": "list index out of range",
          "traceback": [
            "\u001b[0;31m---------------------------------------------------------------------------\u001b[0m",
            "\u001b[0;31mIndexError\u001b[0m                                Traceback (most recent call last)",
            "\u001b[0;32m<ipython-input-6-b334e4d36bef>\u001b[0m in \u001b[0;36m<cell line: 2>\u001b[0;34m()\u001b[0m\n\u001b[1;32m      1\u001b[0m \u001b[0;31m#Acá va el ejemplo\u001b[0m\u001b[0;34m\u001b[0m\u001b[0;34m\u001b[0m\u001b[0m\n\u001b[0;32m----> 2\u001b[0;31m \u001b[0merror\u001b[0m\u001b[0;34m=\u001b[0m\u001b[0mlista\u001b[0m\u001b[0;34m[\u001b[0m\u001b[0;36m10\u001b[0m\u001b[0;34m]\u001b[0m\u001b[0;34m\u001b[0m\u001b[0;34m\u001b[0m\u001b[0m\n\u001b[0m",
            "\u001b[0;31mIndexError\u001b[0m: list index out of range"
          ]
        }
      ],
      "source": [
        "#Acá va el ejemplo\n",
        "error=lista[10]"
      ]
    },
    {
      "cell_type": "markdown",
      "id": "fea227c1-ae86-4712-befa-af7107de75d3",
      "metadata": {
        "id": "fea227c1-ae86-4712-befa-af7107de75d3"
      },
      "source": [
        "Cada elemento puede usarse como una variable"
      ]
    },
    {
      "cell_type": "code",
      "execution_count": null,
      "id": "6ffb823c-ab3d-4319-ae31-f7bebcbbeb30",
      "metadata": {
        "id": "6ffb823c-ab3d-4319-ae31-f7bebcbbeb30",
        "colab": {
          "base_uri": "https://localhost:8080/"
        },
        "outputId": "163e17da-5bce-4ae5-aa06-c2fff88fec52"
      },
      "outputs": [
        {
          "output_type": "stream",
          "name": "stdout",
          "text": [
            "Variable 1: a\n",
            "Variable 2: b\n",
            "Variable 3: c\n"
          ]
        }
      ],
      "source": [
        "# Definimos una lista con tres elementos\n",
        "lista = [\"a\", \"b\",\"c\"]\n",
        "\n",
        "# Desempaquetamos los elementos de la lista en variables individuales\n",
        "variable1, variable2, variable3 = lista\n",
        "\n",
        "# Imprimimos las variables\n",
        "print(\"Variable 1:\", variable1)\n",
        "print(\"Variable 2:\", variable2)\n",
        "print(\"Variable 3:\", variable3)\n"
      ]
    },
    {
      "cell_type": "markdown",
      "id": "48eb6744-5a6c-4761-9b53-894b3049fd57",
      "metadata": {
        "id": "48eb6744-5a6c-4761-9b53-894b3049fd57"
      },
      "source": [
        "Vamos agregando elementos a una lista vacía"
      ]
    },
    {
      "cell_type": "code",
      "execution_count": null,
      "id": "31afa804-ec4b-446c-9718-e9d88c41cc79",
      "metadata": {
        "id": "31afa804-ec4b-446c-9718-e9d88c41cc79",
        "colab": {
          "base_uri": "https://localhost:8080/"
        },
        "outputId": "9f689748-27df-43ff-f356-f0f1affc4d63"
      },
      "outputs": [
        {
          "output_type": "stream",
          "name": "stdout",
          "text": [
            "Nombre: Juan\n",
            "Edad: 25.4\n",
            "Profesión: Ingeniero\n"
          ]
        }
      ],
      "source": [
        "# Definimos una lista con tres elementos\n",
        "datos = [\"Juan\", 25.4, \"Ingeniero\"]\n",
        "\n",
        "# Desempaquetamos los elementos de la lista en variables individuales\n",
        "nombre, edad, profesion = datos\n",
        "\n",
        "# Imprimimos la información\n",
        "print(\"Nombre:\", nombre)\n",
        "print(\"Edad:\", edad)\n",
        "print(\"Profesión:\", profesion)\n"
      ]
    },
    {
      "cell_type": "code",
      "source": [
        "type(edad)"
      ],
      "metadata": {
        "colab": {
          "base_uri": "https://localhost:8080/"
        },
        "id": "BL_-o8c2zp6m",
        "outputId": "341518e3-aebd-49df-ae95-cac97e167a68"
      },
      "id": "BL_-o8c2zp6m",
      "execution_count": null,
      "outputs": [
        {
          "output_type": "execute_result",
          "data": {
            "text/plain": [
              "float"
            ]
          },
          "metadata": {},
          "execution_count": 16
        }
      ]
    },
    {
      "cell_type": "markdown",
      "id": "8e8ecac4-5a0a-472a-9db9-ada0d66b1184",
      "metadata": {
        "id": "8e8ecac4-5a0a-472a-9db9-ada0d66b1184"
      },
      "source": [
        "Y es totalmente viable concatenar 2 listas"
      ]
    },
    {
      "cell_type": "code",
      "execution_count": null,
      "id": "e6b83da1-84cd-49ff-833c-ea19b020e4a9",
      "metadata": {
        "id": "e6b83da1-84cd-49ff-833c-ea19b020e4a9",
        "colab": {
          "base_uri": "https://localhost:8080/"
        },
        "outputId": "cf9849d2-2d12-45ae-8abe-9449b768a538"
      },
      "outputs": [
        {
          "output_type": "stream",
          "name": "stdout",
          "text": [
            "Concatenación usando el operador +: [1, 2, 3, 4, 5, 6]\n",
            "Concatenación usando el método extend(): [1, 2, 3, 4, 5, 6]\n"
          ]
        }
      ],
      "source": [
        "# Definimos dos listas\n",
        "lista1 = [1, 2, 3]\n",
        "lista2 = [4, 5, 6]\n",
        "\n",
        "# Concatenamos las dos listas usando el operador +\n",
        "concatenacion1 = lista1 + lista2\n",
        "\n",
        "# Concatenamos las dos listas usando el método extend()\n",
        "lista1.extend(lista2)\n",
        "concatenacion2 = lista1\n",
        "\n",
        "# Imprimimos los resultados\n",
        "print(\"Concatenación usando el operador +:\", concatenacion1)\n",
        "print(\"Concatenación usando el método extend():\", concatenacion2)\n"
      ]
    },
    {
      "cell_type": "markdown",
      "id": "94ef821c-02c9-442b-bbbc-88ec86166b61",
      "metadata": {
        "id": "94ef821c-02c9-442b-bbbc-88ec86166b61"
      },
      "source": [
        "#### Por tu cuenta\n",
        "\n",
        "Arma un programa que eleve al cuadrado todos los elementos de una lista. Prueba con una lista con todos los numeros pares del 2 al 20."
      ]
    },
    {
      "cell_type": "code",
      "execution_count": null,
      "id": "45b5299d-36b9-4134-b278-73181a0d81cb",
      "metadata": {
        "id": "45b5299d-36b9-4134-b278-73181a0d81cb",
        "colab": {
          "base_uri": "https://localhost:8080/"
        },
        "outputId": "cc698ac2-c931-4cb7-d1af-7eed7d06d896"
      },
      "outputs": [
        {
          "output_type": "stream",
          "name": "stdout",
          "text": [
            "[2, 4, 6, 8, 10, 12, 14, 16, 18, 20]\n",
            "Lista al cuadrado: [4, 16, 36, 64, 100, 144, 196, 256, 324, 400]\n"
          ]
        }
      ],
      "source": [
        "#Acá va la solución\n",
        "#Generar lista del 2-20\n",
        "Lista=list(range(2,21,2))\n",
        "print(Lista)\n",
        "#Elevar al cuadrado\n",
        "for i in range(len(Lista)):\n",
        "  Lista[i]=Lista[i]**2\n",
        "print(\"Lista al cuadrado:\",Lista)\n"
      ]
    },
    {
      "cell_type": "markdown",
      "id": "63872edc-c46c-4e26-bb75-f52bb342ac88",
      "metadata": {
        "id": "63872edc-c46c-4e26-bb75-f52bb342ac88"
      },
      "source": [
        "## Tuplas"
      ]
    },
    {
      "cell_type": "code",
      "source": [
        "def verificar_poker(mano):\n",
        "    # Extraer los elementos en posicionesPares\n",
        "    posiciones_impares = mano[::2]#Se salta de 2 en 2\n",
        "    # Verificar si todos los elementos en posiciones impares son iguales\n",
        "\n",
        " #Cuando utilizas set() en un iterable,\n",
        " #se eliminan todos los elementos duplicados y se devuelven los elementos únicos.\n",
        " # Esto es útil cuando deseas saber si hay duplicados en una colección o cuando solo\n",
        " # necesitas los elementos únicos.\n",
        "\n",
        "    if len(set(posiciones_impares)) == 1:\n",
        "        return \"Es poker\"\n",
        "    else:\n",
        "        return \"No es poker\"\n",
        "\n",
        "\n",
        "import random\n",
        "# Paso 1: Crear la baraja de póker completa\n",
        "numero = ('2', '3', '4', '5', '6', '7', '8', '9', '10', 'J', 'Q', 'K', 'A')\n",
        "tipo = ('c', 'p', 't', 'd')\n",
        "mano=[]\n",
        "\n",
        "for i in range(4):\n",
        "  mano.append(random.choice(numero))\n",
        "  mano.append(random.choice(tipo))\n",
        "print(mano)\n",
        "resultado = verificar_poker(mano)\n",
        "print(resultado)"
      ],
      "metadata": {
        "colab": {
          "base_uri": "https://localhost:8080/"
        },
        "id": "0ltw-zNIChbp",
        "outputId": "374f2003-7683-44cd-88a1-d38dec4f5adb"
      },
      "id": "0ltw-zNIChbp",
      "execution_count": null,
      "outputs": [
        {
          "output_type": "stream",
          "name": "stdout",
          "text": [
            "['2', 'd', '5', 'd', '6', 'c', '7', 't']\n",
            "No es poker\n"
          ]
        }
      ]
    },
    {
      "cell_type": "code",
      "source": [
        "# Seleccionar cartas para la mano\n",
        "mano = random.sample(baraja, 4)  # Seleccionar 4 cartas al azar de la baraja\n",
        "print(mano)\n",
        "\n",
        "# Verificar si la primera posición de cada cadena de texto en posiciones pares es igual\n",
        "def verificar_poker_en_pares(lista_cartas):\n",
        "    # Extraer los números/letras de las cartas en posiciones pares (0, 2, 4, etc.)\n",
        "    primeras_letras = [carta[0] for carta in lista_cartas[::2]]\n",
        "\n",
        "    # Verificar si todas las primeras letras son iguales\n",
        "    if len(set(primeras_letras)) == 1:\n",
        "        return \"Es poker\"\n",
        "    else:\n",
        "        return \"No es poker\"\n",
        "\n",
        "resultado = verificar_poker_en_pares(mano)\n",
        "print(resultado)"
      ],
      "metadata": {
        "id": "P1_-Nm3MoVlx",
        "colab": {
          "base_uri": "https://localhost:8080/"
        },
        "outputId": "acf06199-047f-46fb-b235-c1b054ae84fa"
      },
      "id": "P1_-Nm3MoVlx",
      "execution_count": null,
      "outputs": [
        {
          "output_type": "stream",
          "name": "stdout",
          "text": [
            "['4c', 'Jd', '3t', '2d']\n",
            "No es poker\n"
          ]
        }
      ]
    },
    {
      "cell_type": "markdown",
      "source": [
        "\n",
        "https://openstax.org/books/c%C3%A1lculo-volumen-3/pages/2-3-el-producto-escalar"
      ],
      "metadata": {
        "id": "aUvt5Q6BSzmf"
      },
      "id": "aUvt5Q6BSzmf"
    },
    {
      "cell_type": "code",
      "source": [
        "import math\n",
        "import numpy as np\n",
        "\n",
        "def producto_escalar(vector1, vector2):\n",
        "    # Verificar si los dos vectores tienen el mismo tamaño\n",
        "    if len(vector1) != len(vector2):\n",
        "        raise ValueError(\"Los vectores deben tener el mismo tamaño.\")\n",
        "\n",
        "    # Calcular el producto escalar\n",
        "    producto = sum(a * b for a, b in zip(vector1, vector2))\n",
        "    return producto\n",
        "\n",
        "#Escribir una función que reciba dos vectores y devuelva su producto escalar.\n",
        "\n",
        "def pedir_vectores(tam,nombre):\n",
        "    vector=[]\n",
        "    for i in range(tam):\n",
        "        valor = float(input(f\"Ingrese el valor para la posición {i+1}:del vector{nombre} \"))\n",
        "        vector.append(valor)\n",
        "    return(vector)\n",
        "\n",
        "#Recibir Vectores por Input\n",
        "tamV1=int(input(\"Ingrese el tamaño de los vectores: \"))\n",
        "vector1=pedir_vectores(tamV1,\"1\")\n",
        "print(vector1)\n",
        "vector2=pedir_vectores(tamV1,\"2\")\n",
        "print(vector2)\n",
        "\n",
        "\n",
        "# Calcular el producto escalar y el ángulo entre los vectores\n",
        "resultado_producto = producto_escalar(vector1, vector2)\n",
        "print(\"Producto escalar:\", resultado_producto)\n",
        "\n",
        "#Escribir una función que reciba dos vectores y devuelva si son o no ortogonales.\n",
        "Verificar=resultado_producto==0\n",
        "if Verificar:\n",
        "  print(\"Son ortogonales\")\n",
        "else:\n",
        "  print(\"No son ortogonales\")\n",
        "7\n",
        "#Escribir una función que reciba dos vectores y devuelva su ángulo entre ellos.\n",
        "#Escribir una función que reciba dos vectores y devuelva su ángulo entre ellos.\n",
        "angulo_radianes = math.acos(resultado_producto / (np.linalg.norm(vector1) * np.linalg.norm(vector2))) # Use NumPy's norm function\n",
        "angulo_grados = math.degrees(angulo_radianes)\n",
        "print(\"Ángulo entre los vectores:\", angulo_grados, \"grados\")\n",
        "\n",
        "#Escribir una función que reciba dos vectores y devuelva si son paralelos o no.\n",
        "#puedes utilizar el hecho de que dos vectores son paralelos si uno es un múltiplo escalar del otro.\n",
        "#En otras palabras, si puedes multiplicar todos los elementos de un vector por un mismo número\n",
        "# y obtener el otro vector, entonces los vectores son paralelos.\n",
        "\n",
        "vector1=np.array(vector1)\n",
        "vector2=np.array(vector2)\n",
        "\n",
        "#Producto cruzado\n",
        "producto_cruzado=np.cross(vector1,vector2)\n",
        "es_paralelo=np.all(producto_cruzado==0)\n",
        "\n",
        "print(\"Producto cruzado\",producto_cruzado)\n",
        "if es_paralelo:\n",
        "  print(\"Son paralelos\")\n",
        "else:\n",
        "  print(\"No son paralelos\")\n",
        "\n",
        "\n",
        "\n",
        "\n",
        "\n"
      ],
      "metadata": {
        "colab": {
          "base_uri": "https://localhost:8080/"
        },
        "id": "fuvF6_bLSSYW",
        "outputId": "8dd6b820-0aaa-4232-bd8b-6e1f363c4300"
      },
      "id": "fuvF6_bLSSYW",
      "execution_count": null,
      "outputs": [
        {
          "output_type": "stream",
          "name": "stdout",
          "text": [
            "Ingrese el tamaño de los vectores: 3\n",
            "Ingrese el valor para la posición 1:del vector1 1\n",
            "Ingrese el valor para la posición 2:del vector1 2\n",
            "Ingrese el valor para la posición 3:del vector1 3\n",
            "[1.0, 2.0, 3.0]\n",
            "Ingrese el valor para la posición 1:del vector2 1\n",
            "Ingrese el valor para la posición 2:del vector2 2\n",
            "Ingrese el valor para la posición 3:del vector2 3\n",
            "[1.0, 2.0, 3.0]\n",
            "Producto escalar: 14.0\n",
            "No son ortogonales\n",
            "Ángulo entre los vectores: 0.0 grados\n",
            "Producto cruzado [0. 0. 0.]\n",
            "Son paralelos\n"
          ]
        }
      ]
    },
    {
      "cell_type": "markdown",
      "id": "65383d92-ac77-485b-bc79-f1171a79d555",
      "metadata": {
        "id": "65383d92-ac77-485b-bc79-f1171a79d555"
      },
      "source": [
        "Vamos comenzando con una tupla vacia"
      ]
    },
    {
      "cell_type": "code",
      "execution_count": 11,
      "id": "f2366bbd-3549-4a16-af7c-85904b3bbf0c",
      "metadata": {
        "id": "f2366bbd-3549-4a16-af7c-85904b3bbf0c",
        "colab": {
          "base_uri": "https://localhost:8080/"
        },
        "outputId": "9709e465-a31f-4197-d0d2-071d6572b6d7"
      },
      "outputs": [
        {
          "output_type": "stream",
          "name": "stdout",
          "text": [
            "Tipo de mi_tupla: <class 'tuple'>\n",
            "Longitud de mi_tupla: 0\n"
          ]
        }
      ],
      "source": [
        "# Creamos una tupla vacía\n",
        "mi_tupla = ()\n",
        "\n",
        "# Verificamos su tipo y longitud\n",
        "print(\"Tipo de mi_tupla:\", type(mi_tupla))\n",
        "print(\"Longitud de mi_tupla:\", len(mi_tupla))\n"
      ]
    },
    {
      "cell_type": "markdown",
      "id": "51fdf97c-476b-417a-9142-d63f6488e351",
      "metadata": {
        "id": "51fdf97c-476b-417a-9142-d63f6488e351"
      },
      "source": [
        "Ahora vamos a añadir 3 elementos a la tupla"
      ]
    },
    {
      "cell_type": "code",
      "execution_count": 13,
      "id": "d7ea6549-4285-42ed-9595-141b324b0d8d",
      "metadata": {
        "id": "d7ea6549-4285-42ed-9595-141b324b0d8d",
        "colab": {
          "base_uri": "https://localhost:8080/"
        },
        "outputId": "5f27b551-6645-46b3-e711-12e0145b488a"
      },
      "outputs": [
        {
          "output_type": "stream",
          "name": "stdout",
          "text": [
            "Tupla actualizada: (1, 2, 3, 4, 5, 6)\n"
          ]
        }
      ],
      "source": [
        "# Creamos una tupla vacía\n",
        "mi_tupla = ()\n",
        "tupla1=()\n",
        "\n",
        "# Añadimos elementos a la tupla\n",
        "mi_tupla = mi_tupla + (1, 2, 3)\n",
        "tupla1= tupla1+(4,5,6)\n",
        "# Verificamos la tupla actualizada\n",
        "print(\"Tupla actualizada:\", mi_tupla + tupla1)\n"
      ]
    },
    {
      "cell_type": "code",
      "source": [
        "new_tupla=(1,3,[3,2],\"a\")\n",
        "print(new_tupla)\n",
        "print(new_tupla*2)"
      ],
      "metadata": {
        "colab": {
          "base_uri": "https://localhost:8080/"
        },
        "id": "KVIowz7Mh59I",
        "outputId": "54315af7-7ed0-4f27-c8e7-8b4bc2b5c6a6"
      },
      "id": "KVIowz7Mh59I",
      "execution_count": 15,
      "outputs": [
        {
          "output_type": "stream",
          "name": "stdout",
          "text": [
            "(1, 3, [3, 2], 'a')\n",
            "(1, 3, [3, 2], 'a', 1, 3, [3, 2], 'a')\n"
          ]
        }
      ]
    },
    {
      "cell_type": "code",
      "source": [
        "new_tupla=([0, 5])\n",
        "print(new_tupla)\n",
        "type(new_tupla)"
      ],
      "metadata": {
        "colab": {
          "base_uri": "https://localhost:8080/"
        },
        "id": "ks5VQo3ziHsJ",
        "outputId": "897cb068-5701-4585-c1e4-c5e2200cd6b6"
      },
      "id": "ks5VQo3ziHsJ",
      "execution_count": 22,
      "outputs": [
        {
          "output_type": "stream",
          "name": "stdout",
          "text": [
            "[0, 5]\n"
          ]
        },
        {
          "output_type": "execute_result",
          "data": {
            "text/plain": [
              "list"
            ]
          },
          "metadata": {},
          "execution_count": 22
        }
      ]
    },
    {
      "cell_type": "markdown",
      "source": [
        "En este ejemplo, primero creamos una tupla vacía mi_tupla. Luego, añadimos tres elementos a la tupla utilizando el operador de concatenación +. Esto crea una nueva tupla que contiene los elementos originales de mi_tupla más los nuevos elementos (1, 2, 3)"
      ],
      "metadata": {
        "id": "lqXP0fpUwjiz"
      },
      "id": "lqXP0fpUwjiz"
    },
    {
      "cell_type": "markdown",
      "id": "7a75137d-205b-43d6-b9a3-d73b61c4f383",
      "metadata": {
        "id": "7a75137d-205b-43d6-b9a3-d73b61c4f383"
      },
      "source": [
        "Puedes llamar a los elementos individuales, arma un print que nos diga en que año nació Patricia (tiene 23 años al 2021)"
      ]
    },
    {
      "cell_type": "code",
      "execution_count": 23,
      "id": "451ff4ad-e817-4f00-b48e-3291b5e47618",
      "metadata": {
        "id": "451ff4ad-e817-4f00-b48e-3291b5e47618",
        "colab": {
          "base_uri": "https://localhost:8080/"
        },
        "outputId": "f487c502-9e6d-446e-e77e-3ebfc7e58a69"
      },
      "outputs": [
        {
          "output_type": "stream",
          "name": "stdout",
          "text": [
            "Patricia nació en el año: 1998\n"
          ]
        }
      ],
      "source": [
        "# Definimos la información de Patricia\n",
        "patricia_info = (2021, 23)\n",
        "\n",
        "# Calculamos el año de nacimiento de Patricia\n",
        "ano_nacimiento = patricia_info[0] - patricia_info[1]\n",
        "\n",
        "# Imprimimos el resultado\n",
        "print(\"Patricia nació en el año:\", ano_nacimiento)\n"
      ]
    },
    {
      "cell_type": "markdown",
      "id": "5d282773-6fc3-4056-b784-14e5ef195d07",
      "metadata": {
        "id": "5d282773-6fc3-4056-b784-14e5ef195d07"
      },
      "source": [
        "Es posible acceder a cualquier secuencia de elementos, asignando cada elemnto de la secuencia con una variable separada por comas"
      ]
    },
    {
      "cell_type": "code",
      "execution_count": 24,
      "id": "1f4b9f03-8cc1-47a4-b60c-a9faced7fcd0",
      "metadata": {
        "id": "1f4b9f03-8cc1-47a4-b60c-a9faced7fcd0",
        "colab": {
          "base_uri": "https://localhost:8080/"
        },
        "outputId": "076adb5f-9bbf-4565-f8ac-e6b5514a0378"
      },
      "outputs": [
        {
          "output_type": "stream",
          "name": "stdout",
          "text": [
            "Valor de x: 10\n",
            "Valor de y: 20\n",
            "Valor de z: 30\n"
          ]
        }
      ],
      "source": [
        "# Definimos una lista con tres elementos\n",
        "mi_lista = [10, 20, 30]\n",
        "\n",
        "# Desempaquetamos los elementos de la lista en variables individuales\n",
        "x, y, z = mi_lista\n",
        "\n",
        "# Imprimimos los valores de las variables\n",
        "print(\"Valor de x:\", x)\n",
        "print(\"Valor de y:\", y)\n",
        "print(\"Valor de z:\", z)\n"
      ]
    },
    {
      "cell_type": "markdown",
      "id": "5969742f-1fbf-4624-9ad2-ee0d93ef8bdf",
      "metadata": {
        "id": "5969742f-1fbf-4624-9ad2-ee0d93ef8bdf"
      },
      "source": [
        "Si en la tupla solo hay caracteres, vamos a armar un print que nos de cada letra por separado"
      ]
    },
    {
      "cell_type": "code",
      "execution_count": null,
      "id": "9d72b043-b0c5-49cb-b7c5-650d0d2d9687",
      "metadata": {
        "id": "9d72b043-b0c5-49cb-b7c5-650d0d2d9687",
        "outputId": "9250b3c5-53cc-41ba-9f64-549b6f97d08c",
        "colab": {
          "base_uri": "https://localhost:8080/"
        }
      },
      "outputs": [
        {
          "output_type": "stream",
          "name": "stdout",
          "text": [
            "H\n",
            "o\n",
            "l\n",
            "a\n",
            "M\n",
            "u\n",
            "n\n",
            "d\n",
            "o\n"
          ]
        }
      ],
      "source": [
        "# Definimos una tupla con cadenas de texto\n",
        "mi_tupla = (\"Hola\", \"Mundo\")\n",
        "\n",
        "# Iteramos sobre la tupla\n",
        "for elemento in mi_tupla:\n",
        "    # Iteramos sobre cada caracter de cada elemento de la tupla\n",
        "    for letra in elemento:\n",
        "        # Imprimimos cada letra\n",
        "        print(letra)\n"
      ]
    },
    {
      "cell_type": "markdown",
      "id": "9af5b414-23c0-4dea-b56e-2b50bf54ad79",
      "metadata": {
        "id": "9af5b414-23c0-4dea-b56e-2b50bf54ad79"
      },
      "source": [
        "Y si son valores..."
      ]
    },
    {
      "cell_type": "code",
      "execution_count": 25,
      "id": "53fe6f63-23f3-4fcb-81ee-f1932d4adfe8",
      "metadata": {
        "id": "53fe6f63-23f3-4fcb-81ee-f1932d4adfe8",
        "colab": {
          "base_uri": "https://localhost:8080/"
        },
        "outputId": "f5fd9445-58ef-45ad-a473-3d3ffd1b2618"
      },
      "outputs": [
        {
          "output_type": "stream",
          "name": "stdout",
          "text": [
            "10\n",
            "20\n",
            "30\n"
          ]
        }
      ],
      "source": [
        "# Definimos una tupla con valores numéricos\n",
        "mi_tupla = (10, 20, 30)\n",
        "\n",
        "# Iteramos sobre la tupla\n",
        "for valor in mi_tupla:\n",
        "    # Imprimimos cada valor\n",
        "    print(valor)\n"
      ]
    },
    {
      "cell_type": "markdown",
      "id": "d0b039d7-3b85-4de4-b1df-27455f1d59fa",
      "metadata": {
        "id": "d0b039d7-3b85-4de4-b1df-27455f1d59fa"
      },
      "source": [
        "También se puede acceder un valor al indexarlo - vamos  arecibir una lista con 3 estudiantes y convertirlo en una tupla enumerada"
      ]
    },
    {
      "cell_type": "code",
      "execution_count": 2,
      "id": "04495cc6-7468-4d22-b572-f035bdb6695d",
      "metadata": {
        "id": "04495cc6-7468-4d22-b572-f035bdb6695d",
        "colab": {
          "base_uri": "https://localhost:8080/"
        },
        "outputId": "e7bd603c-e9e5-4ca1-b036-d02b3a1b99ed"
      },
      "outputs": [
        {
          "output_type": "stream",
          "name": "stdout",
          "text": [
            "Tupla enumerada: ((0, 'Juan'), (1, 'María'), (2, 'Pedro'))\n"
          ]
        }
      ],
      "source": [
        "# Definimos una lista de estudiantes\n",
        "lista_estudiantes = [\"Juan\", \"María\", \"Pedro\"]\n",
        "\n",
        "# Convertimos la lista en una tupla enumerada\n",
        "tupla_enumerada = tuple(enumerate(lista_estudiantes))\n",
        "\n",
        "# Imprimimos la tupla enumerada\n",
        "print(\"Tupla enumerada:\", tupla_enumerada)\n"
      ]
    },
    {
      "cell_type": "markdown",
      "id": "320006d7-5524-457c-a61c-5023c62cc322",
      "metadata": {
        "id": "320006d7-5524-457c-a61c-5023c62cc322"
      },
      "source": [
        "#### Por tu cuenta\n",
        "\n",
        "Crea una tupla de un solo elemento con el número 582.4 y luego muestrala"
      ]
    },
    {
      "cell_type": "code",
      "source": [
        "#Acá va la solución\n",
        "un_numero = [(582.4)]\n",
        "tupla = tuple(un_numero)\n",
        "print(un_numero)\n",
        "un_numero\n",
        "type(un_numero)"
      ],
      "metadata": {
        "id": "NbOJ1ouhxS75",
        "colab": {
          "base_uri": "https://localhost:8080/"
        },
        "outputId": "e81b7a08-c288-47a9-cb57-49e5b614a0a7"
      },
      "id": "NbOJ1ouhxS75",
      "execution_count": 32,
      "outputs": [
        {
          "output_type": "stream",
          "name": "stdout",
          "text": [
            "[582.4]\n"
          ]
        },
        {
          "output_type": "execute_result",
          "data": {
            "text/plain": [
              "list"
            ]
          },
          "metadata": {},
          "execution_count": 32
        }
      ]
    },
    {
      "cell_type": "markdown",
      "id": "fc8ebfbf-8f9c-4fde-85ce-11839d12e340",
      "metadata": {
        "id": "fc8ebfbf-8f9c-4fde-85ce-11839d12e340"
      },
      "source": [
        "#### Por tu cuenta\n",
        "\n",
        "Muestra que pasa si intentas concatenar una lista de 3 enteros con una tupla de 3 enteros usando +"
      ]
    },
    {
      "cell_type": "code",
      "source": [
        "#Acá va la solución\n",
        "enteros1 = [1, 2, 3] #tupla\n",
        "enteros2 = (4, 5, 6) #lista\n",
        "\n",
        "concatenacion = enteros1 + list(enteros2)\n",
        "\n",
        "print(\"Concatenación:\", concatenacion)"
      ],
      "metadata": {
        "id": "LZq_fZEWxVJN",
        "colab": {
          "base_uri": "https://localhost:8080/"
        },
        "outputId": "39825c73-f0b0-4703-9087-160cc57761e3"
      },
      "id": "LZq_fZEWxVJN",
      "execution_count": 35,
      "outputs": [
        {
          "output_type": "stream",
          "name": "stdout",
          "text": [
            "Concatenación: [1, 2, 3, 4, 5, 6]\n"
          ]
        }
      ]
    },
    {
      "cell_type": "markdown",
      "id": "e735cded-fe6f-48bb-8062-801e0fd6c1b6",
      "metadata": {
        "id": "e735cded-fe6f-48bb-8062-801e0fd6c1b6"
      },
      "source": [
        "## Separando Secuencias"
      ]
    },
    {
      "cell_type": "markdown",
      "id": "268097d6-3300-4929-9981-8b1e55d549ec",
      "metadata": {
        "id": "268097d6-3300-4929-9981-8b1e55d549ec"
      },
      "source": [
        "Crea una secuencia con todas las potencias de 2 - del 2 al 256"
      ]
    },
    {
      "cell_type": "code",
      "execution_count": 37,
      "id": "42058ae5-f784-412b-8470-2b7f2c229c3e",
      "metadata": {
        "id": "42058ae5-f784-412b-8470-2b7f2c229c3e",
        "colab": {
          "base_uri": "https://localhost:8080/"
        },
        "outputId": "2358737d-cd6e-44b0-f1a3-c961259deecd"
      },
      "outputs": [
        {
          "output_type": "stream",
          "name": "stdout",
          "text": [
            "Potencias de 2 del 2 al 256: [8, 16, 32, 64, 128, 256, 512, 1024, 2048, 4096, 8192, 16384, 32768, 65536, 131072, 262144, 524288, 1048576, 2097152, 4194304, 8388608, 16777216, 33554432, 67108864, 134217728, 268435456, 536870912, 1073741824, 2147483648, 4294967296, 8589934592, 17179869184, 34359738368, 68719476736, 137438953472, 274877906944, 549755813888, 1099511627776, 2199023255552, 4398046511104, 8796093022208, 17592186044416, 35184372088832, 70368744177664, 140737488355328, 281474976710656, 562949953421312, 1125899906842624, 2251799813685248, 4503599627370496, 9007199254740992, 18014398509481984, 36028797018963968, 72057594037927936, 144115188075855872, 288230376151711744, 576460752303423488, 1152921504606846976, 2305843009213693952, 4611686018427387904, 9223372036854775808, 18446744073709551616, 36893488147419103232, 73786976294838206464, 147573952589676412928, 295147905179352825856, 590295810358705651712, 1180591620717411303424, 2361183241434822606848, 4722366482869645213696, 9444732965739290427392, 18889465931478580854784, 37778931862957161709568, 75557863725914323419136, 151115727451828646838272, 302231454903657293676544, 604462909807314587353088, 1208925819614629174706176, 2417851639229258349412352, 4835703278458516698824704, 9671406556917033397649408, 19342813113834066795298816, 38685626227668133590597632, 77371252455336267181195264, 154742504910672534362390528, 309485009821345068724781056, 618970019642690137449562112, 1237940039285380274899124224, 2475880078570760549798248448, 4951760157141521099596496896, 9903520314283042199192993792, 19807040628566084398385987584, 39614081257132168796771975168, 79228162514264337593543950336, 158456325028528675187087900672, 316912650057057350374175801344, 633825300114114700748351602688, 1267650600228229401496703205376, 2535301200456458802993406410752, 5070602400912917605986812821504, 10141204801825835211973625643008, 20282409603651670423947251286016, 40564819207303340847894502572032, 81129638414606681695789005144064, 162259276829213363391578010288128, 324518553658426726783156020576256, 649037107316853453566312041152512, 1298074214633706907132624082305024, 2596148429267413814265248164610048, 5192296858534827628530496329220096, 10384593717069655257060992658440192, 20769187434139310514121985316880384, 41538374868278621028243970633760768, 83076749736557242056487941267521536, 166153499473114484112975882535043072, 332306998946228968225951765070086144, 664613997892457936451903530140172288, 1329227995784915872903807060280344576, 2658455991569831745807614120560689152, 5316911983139663491615228241121378304, 10633823966279326983230456482242756608, 21267647932558653966460912964485513216, 42535295865117307932921825928971026432, 85070591730234615865843651857942052864, 170141183460469231731687303715884105728, 340282366920938463463374607431768211456, 680564733841876926926749214863536422912, 1361129467683753853853498429727072845824, 2722258935367507707706996859454145691648, 5444517870735015415413993718908291383296, 10889035741470030830827987437816582766592, 21778071482940061661655974875633165533184, 43556142965880123323311949751266331066368, 87112285931760246646623899502532662132736, 174224571863520493293247799005065324265472, 348449143727040986586495598010130648530944, 696898287454081973172991196020261297061888, 1393796574908163946345982392040522594123776, 2787593149816327892691964784081045188247552, 5575186299632655785383929568162090376495104, 11150372599265311570767859136324180752990208, 22300745198530623141535718272648361505980416, 44601490397061246283071436545296723011960832, 89202980794122492566142873090593446023921664, 178405961588244985132285746181186892047843328, 356811923176489970264571492362373784095686656, 713623846352979940529142984724747568191373312, 1427247692705959881058285969449495136382746624, 2854495385411919762116571938898990272765493248, 5708990770823839524233143877797980545530986496, 11417981541647679048466287755595961091061972992, 22835963083295358096932575511191922182123945984, 45671926166590716193865151022383844364247891968, 91343852333181432387730302044767688728495783936, 182687704666362864775460604089535377456991567872, 365375409332725729550921208179070754913983135744, 730750818665451459101842416358141509827966271488, 1461501637330902918203684832716283019655932542976, 2923003274661805836407369665432566039311865085952, 5846006549323611672814739330865132078623730171904, 11692013098647223345629478661730264157247460343808, 23384026197294446691258957323460528314494920687616, 46768052394588893382517914646921056628989841375232, 93536104789177786765035829293842113257979682750464, 187072209578355573530071658587684226515959365500928, 374144419156711147060143317175368453031918731001856, 748288838313422294120286634350736906063837462003712, 1496577676626844588240573268701473812127674924007424, 2993155353253689176481146537402947624255349848014848, 5986310706507378352962293074805895248510699696029696, 11972621413014756705924586149611790497021399392059392, 23945242826029513411849172299223580994042798784118784, 47890485652059026823698344598447161988085597568237568, 95780971304118053647396689196894323976171195136475136, 191561942608236107294793378393788647952342390272950272, 383123885216472214589586756787577295904684780545900544, 766247770432944429179173513575154591809369561091801088, 1532495540865888858358347027150309183618739122183602176, 3064991081731777716716694054300618367237478244367204352, 6129982163463555433433388108601236734474956488734408704, 12259964326927110866866776217202473468949912977468817408, 24519928653854221733733552434404946937899825954937634816, 49039857307708443467467104868809893875799651909875269632, 98079714615416886934934209737619787751599303819750539264, 196159429230833773869868419475239575503198607639501078528, 392318858461667547739736838950479151006397215279002157056, 784637716923335095479473677900958302012794430558004314112, 1569275433846670190958947355801916604025588861116008628224, 3138550867693340381917894711603833208051177722232017256448, 6277101735386680763835789423207666416102355444464034512896, 12554203470773361527671578846415332832204710888928069025792, 25108406941546723055343157692830665664409421777856138051584, 50216813883093446110686315385661331328818843555712276103168, 100433627766186892221372630771322662657637687111424552206336, 200867255532373784442745261542645325315275374222849104412672, 401734511064747568885490523085290650630550748445698208825344, 803469022129495137770981046170581301261101496891396417650688, 1606938044258990275541962092341162602522202993782792835301376, 3213876088517980551083924184682325205044405987565585670602752, 6427752177035961102167848369364650410088811975131171341205504, 12855504354071922204335696738729300820177623950262342682411008, 25711008708143844408671393477458601640355247900524685364822016, 51422017416287688817342786954917203280710495801049370729644032, 102844034832575377634685573909834406561420991602098741459288064, 205688069665150755269371147819668813122841983204197482918576128, 411376139330301510538742295639337626245683966408394965837152256, 822752278660603021077484591278675252491367932816789931674304512, 1645504557321206042154969182557350504982735865633579863348609024, 3291009114642412084309938365114701009965471731267159726697218048, 6582018229284824168619876730229402019930943462534319453394436096, 13164036458569648337239753460458804039861886925068638906788872192, 26328072917139296674479506920917608079723773850137277813577744384, 52656145834278593348959013841835216159447547700274555627155488768, 105312291668557186697918027683670432318895095400549111254310977536, 210624583337114373395836055367340864637790190801098222508621955072, 421249166674228746791672110734681729275580381602196445017243910144, 842498333348457493583344221469363458551160763204392890034487820288, 1684996666696914987166688442938726917102321526408785780068975640576, 3369993333393829974333376885877453834204643052817571560137951281152, 6739986666787659948666753771754907668409286105635143120275902562304, 13479973333575319897333507543509815336818572211270286240551805124608, 26959946667150639794667015087019630673637144422540572481103610249216, 53919893334301279589334030174039261347274288845081144962207220498432, 107839786668602559178668060348078522694548577690162289924414440996864, 215679573337205118357336120696157045389097155380324579848828881993728, 431359146674410236714672241392314090778194310760649159697657763987456, 862718293348820473429344482784628181556388621521298319395315527974912, 1725436586697640946858688965569256363112777243042596638790631055949824, 3450873173395281893717377931138512726225554486085193277581262111899648, 6901746346790563787434755862277025452451108972170386555162524223799296, 13803492693581127574869511724554050904902217944340773110325048447598592, 27606985387162255149739023449108101809804435888681546220650096895197184, 55213970774324510299478046898216203619608871777363092441300193790394368, 110427941548649020598956093796432407239217743554726184882600387580788736, 220855883097298041197912187592864814478435487109452369765200775161577472, 441711766194596082395824375185729628956870974218904739530401550323154944, 883423532389192164791648750371459257913741948437809479060803100646309888, 1766847064778384329583297500742918515827483896875618958121606201292619776, 3533694129556768659166595001485837031654967793751237916243212402585239552, 7067388259113537318333190002971674063309935587502475832486424805170479104, 14134776518227074636666380005943348126619871175004951664972849610340958208, 28269553036454149273332760011886696253239742350009903329945699220681916416, 56539106072908298546665520023773392506479484700019806659891398441363832832, 113078212145816597093331040047546785012958969400039613319782796882727665664, 226156424291633194186662080095093570025917938800079226639565593765455331328, 452312848583266388373324160190187140051835877600158453279131187530910662656, 904625697166532776746648320380374280103671755200316906558262375061821325312, 1809251394333065553493296640760748560207343510400633813116524750123642650624, 3618502788666131106986593281521497120414687020801267626233049500247285301248, 7237005577332262213973186563042994240829374041602535252466099000494570602496, 14474011154664524427946373126085988481658748083205070504932198000989141204992, 28948022309329048855892746252171976963317496166410141009864396001978282409984, 57896044618658097711785492504343953926634992332820282019728792003956564819968, 115792089237316195423570985008687907853269984665640564039457584007913129639936]\n"
          ]
        }
      ],
      "source": [
        "# Inicializamos una lista vacía para almacenar las potencias de 2\n",
        "potencias_de_dos = []\n",
        "\n",
        "# Iteramos sobre el rango de números del 1 al 256 (inclusive)\n",
        "for exponente in range(3, 257):\n",
        "    # Calculamos la potencia de 2 para el exponente actual\n",
        "    potencia = 2 ** exponente\n",
        "    # Agregamos la potencia de 2 a la lista\n",
        "    potencias_de_dos.append(potencia)\n",
        "\n",
        "# Imprimimos la lista de potencias de 2\n",
        "print(\"Potencias de 2 del 2 al 256:\", potencias_de_dos)\n"
      ]
    },
    {
      "cell_type": "markdown",
      "id": "01ebf672-550e-4ca6-abd5-73e8f036aebc",
      "metadata": {
        "id": "01ebf672-550e-4ca6-abd5-73e8f036aebc"
      },
      "source": [
        "Selecciona el 16 y 32"
      ]
    },
    {
      "cell_type": "code",
      "execution_count": 38,
      "id": "2ded3131-a702-4467-a906-c8e9821e846c",
      "metadata": {
        "id": "2ded3131-a702-4467-a906-c8e9821e846c",
        "colab": {
          "base_uri": "https://localhost:8080/"
        },
        "outputId": "d7ce3e45-27b8-42fe-ec1d-01bafaa4cc87"
      },
      "outputs": [
        {
          "output_type": "stream",
          "name": "stdout",
          "text": [
            "Potencia de 16: 16\n",
            "Potencia de 32: 32\n"
          ]
        }
      ],
      "source": [
        "# Potencias de 2 del 2 al 256\n",
        "potencias_de_dos = [2, 4, 8, 16, 32, 64, 128, 256]\n",
        "\n",
        "# Seleccionar el elemento correspondiente a la potencia de 2 de 16 (índice 3) y 32 (índice 4)\n",
        "potencia_16 = potencias_de_dos[3]\n",
        "potencia_32 = potencias_de_dos[4]\n",
        "\n",
        "# Imprimir las potencias de 16 y 32\n",
        "print(\"Potencia de 16:\", potencia_16)\n",
        "print(\"Potencia de 32:\", potencia_32)\n"
      ]
    },
    {
      "cell_type": "markdown",
      "id": "51a7badc-c12d-4df1-9a04-cfac6cccf92b",
      "metadata": {
        "id": "51a7badc-c12d-4df1-9a04-cfac6cccf92b"
      },
      "source": [
        "Ahora selecciona los primeros 5 elementos"
      ]
    },
    {
      "cell_type": "code",
      "execution_count": 39,
      "id": "3c5bbac0-ed79-483b-ad46-b1ec64bb76a3",
      "metadata": {
        "id": "3c5bbac0-ed79-483b-ad46-b1ec64bb76a3",
        "colab": {
          "base_uri": "https://localhost:8080/"
        },
        "outputId": "0924014b-af52-4826-cb3e-0c2fdb8e661d"
      },
      "outputs": [
        {
          "output_type": "stream",
          "name": "stdout",
          "text": [
            "Primeros 5 elementos: [2, 4, 8, 16, 32]\n"
          ]
        }
      ],
      "source": [
        "# Potencias de 2 del 2 al 256\n",
        "potencias_de_dos = [2, 4, 8, 16, 32, 64, 128, 256]\n",
        "\n",
        "# Seleccionar los primeros 5 elementos\n",
        "primeros_cinco_elementos = potencias_de_dos[:5]\n",
        "\n",
        "# Imprimir los primeros 5 elementos\n",
        "print(\"Primeros 5 elementos:\", primeros_cinco_elementos)\n"
      ]
    },
    {
      "cell_type": "markdown",
      "id": "04f36a0c-af19-441d-ace3-13f19b279292",
      "metadata": {
        "id": "04f36a0c-af19-441d-ace3-13f19b279292"
      },
      "source": [
        "Ahora vamos a seleccionar todos desde el 16 en adelante"
      ]
    },
    {
      "cell_type": "code",
      "execution_count": 42,
      "id": "7bcfbdbc-f0f2-44c4-b59b-2c9f8e4ec93d",
      "metadata": {
        "id": "7bcfbdbc-f0f2-44c4-b59b-2c9f8e4ec93d",
        "colab": {
          "base_uri": "https://localhost:8080/"
        },
        "outputId": "26c004a6-8917-418f-bdf2-de542cd102aa"
      },
      "outputs": [
        {
          "output_type": "stream",
          "name": "stdout",
          "text": [
            "Elementos desde el 16 en adelante: [16, 32, 64, 128, 256]\n"
          ]
        }
      ],
      "source": [
        "# Potencias de 2 del 2 al 256\n",
        "potencias_de_dos = [2, 4, 8, 16, 32, 64, 128, 256]\n",
        "\n",
        "# Seleccionar todos los elementos desde el 16 en adelante\n",
        "desde_16_en_adelante = potencias_de_dos[3:]\n",
        "\n",
        "# Imprimir los elementos desde el 16 en adelante\n",
        "print(\"Elementos desde el 16 en adelante:\", desde_16_en_adelante)\n"
      ]
    },
    {
      "cell_type": "markdown",
      "id": "b9bc5f09-3352-4e1e-a560-3e5528197175",
      "metadata": {
        "id": "b9bc5f09-3352-4e1e-a560-3e5528197175"
      },
      "source": [
        "También podemos seleccionar elementos de 2 en 2 o de 3 en 3 o asi, deja :: y luego va el stepfunction"
      ]
    },
    {
      "cell_type": "code",
      "execution_count": 43,
      "id": "dc1f41f6-156c-4c75-ba27-ff30655d5d0e",
      "metadata": {
        "id": "dc1f41f6-156c-4c75-ba27-ff30655d5d0e",
        "colab": {
          "base_uri": "https://localhost:8080/"
        },
        "outputId": "b76dec18-40d5-4fd0-9e40-821569d8074c"
      },
      "outputs": [
        {
          "output_type": "stream",
          "name": "stdout",
          "text": [
            "Elementos de 2 en 2: [2, 8, 32, 128]\n",
            "Elementos de 3 en 3: [2, 16, 128]\n"
          ]
        }
      ],
      "source": [
        "# Potencias de 2 del 2 al 256\n",
        "potencias_de_dos = [2, 4, 8, 16, 32, 64, 128, 256]\n",
        "\n",
        "# Seleccionar elementos de 2 en 2\n",
        "de_dos_en_dos = potencias_de_dos[::2]\n",
        "\n",
        "# Seleccionar elementos de 3 en 3\n",
        "de_tres_en_tres = potencias_de_dos[::3]\n",
        "\n",
        "# Imprimir los resultados\n",
        "print(\"Elementos de 2 en 2:\", de_dos_en_dos)\n",
        "print(\"Elementos de 3 en 3:\", de_tres_en_tres)\n"
      ]
    },
    {
      "cell_type": "markdown",
      "id": "c2a43c4a-78bc-40bc-9303-4894721a1a11",
      "metadata": {
        "id": "c2a43c4a-78bc-40bc-9303-4894721a1a11"
      },
      "source": [
        "Y si vamos de -3 en -3 significa que empieza desde el final"
      ]
    },
    {
      "cell_type": "code",
      "execution_count": 44,
      "id": "67dfc2aa-e7fb-4618-b06d-efc838aaffe8",
      "metadata": {
        "id": "67dfc2aa-e7fb-4618-b06d-efc838aaffe8",
        "colab": {
          "base_uri": "https://localhost:8080/"
        },
        "outputId": "de17b04e-4eba-4e0c-9a3a-fa3a3cc7568c"
      },
      "outputs": [
        {
          "output_type": "stream",
          "name": "stdout",
          "text": [
            "Elementos de -3 en -3: [256, 32, 4]\n"
          ]
        }
      ],
      "source": [
        "# Potencias de 2 del 2 al 256\n",
        "potencias_de_dos = [2, 4, 8, 16, 32, 64, 128, 256]\n",
        "\n",
        "# Seleccionar elementos de -3 en -3\n",
        "de_menos_tres_en_menos_tres = potencias_de_dos[::-3]\n",
        "\n",
        "# Imprimir el resultado\n",
        "print(\"Elementos de -3 en -3:\", de_menos_tres_en_menos_tres)\n"
      ]
    },
    {
      "cell_type": "markdown",
      "id": "21fd3e6f-8f87-4778-a42c-337ab34b6077",
      "metadata": {
        "id": "21fd3e6f-8f87-4778-a42c-337ab34b6077"
      },
      "source": [
        "Ahora modifica los nombres de los primeros 3 elementos, - en vez de numero que sea su nombre en letra"
      ]
    },
    {
      "cell_type": "code",
      "execution_count": 45,
      "id": "55433e0e-0d85-44aa-bd82-51b63d02b594",
      "metadata": {
        "id": "55433e0e-0d85-44aa-bd82-51b63d02b594",
        "colab": {
          "base_uri": "https://localhost:8080/"
        },
        "outputId": "a76eb43f-d1ce-4a9d-a247-87048b49dde0"
      },
      "outputs": [
        {
          "output_type": "stream",
          "name": "stdout",
          "text": [
            "Potencias de 2 con nombres de los primeros 3 elementos: ['Dos', 'Cuatro', 'Ocho', 16, 32, 64, 128, 256]\n"
          ]
        }
      ],
      "source": [
        "# Potencias de 2 del 2 al 256\n",
        "potencias_de_dos = [2, 4, 8, 16, 32, 64, 128, 256]\n",
        "\n",
        "# Nombres de los primeros 3 elementos\n",
        "nombres = [\"Dos\", \"Cuatro\", \"Ocho\"]\n",
        "\n",
        "# Modificar los nombres de los primeros 3 elementos\n",
        "potencias_de_dos[:3] = nombres\n",
        "\n",
        "# Imprimir la lista modificada\n",
        "print(\"Potencias de 2 con nombres de los primeros 3 elementos:\", potencias_de_dos)\n"
      ]
    },
    {
      "cell_type": "markdown",
      "id": "270080aa-82c2-4407-b507-8be7a1bf26f7",
      "metadata": {
        "id": "270080aa-82c2-4407-b507-8be7a1bf26f7"
      },
      "source": [
        "#### Por tu cuenta\n",
        "\n",
        "Crea una lista llamada números que contenga los valores del 1 al 15, haz las siguientes operaciones\n",
        "-selecciona los numeros enteros\n",
        "-reemplaza los elementos en indices 5 al 9 por 0s\n",
        "-manten solo los primeros 5 elementos, y muestra la lista resultante\n",
        "-Borra todos los elementos que quedan"
      ]
    },
    {
      "cell_type": "code",
      "execution_count": 57,
      "id": "bea74808-8298-4fe0-9c48-457ce0f055b7",
      "metadata": {
        "id": "bea74808-8298-4fe0-9c48-457ce0f055b7",
        "colab": {
          "base_uri": "https://localhost:8080/"
        },
        "outputId": "07cba98e-1662-41b7-d454-a872e9c493de"
      },
      "outputs": [
        {
          "output_type": "stream",
          "name": "stdout",
          "text": [
            "[1, 2, 3, 4, 5, 6, 0, 0, 0, 0, 0, 11, 12, 13, 14, 15]\n"
          ]
        }
      ],
      "source": [
        "#Acá va la solución\n",
        "numeros = ([1, 2, 3, 4, 5, 6, 7, 8, 9, 10, 11, 12, 13, 14, 15])\n",
        "numeros_enteros = numeros[::1]\n",
        "ceros = [0, 0, 0, 0, 0]\n",
        "numeros[6:10] = ceros\n",
        "\n",
        "print(numeros)\n"
      ]
    },
    {
      "cell_type": "markdown",
      "id": "e787df57-f04d-460b-ac74-ac76912815e4",
      "metadata": {
        "id": "e787df57-f04d-460b-ac74-ac76912815e4"
      },
      "source": [
        "###Del"
      ]
    },
    {
      "cell_type": "markdown",
      "id": "4efc660f-3092-43d5-a846-6e12b97c98b4",
      "metadata": {
        "id": "4efc660f-3092-43d5-a846-6e12b97c98b4"
      },
      "source": [
        "Ahora arma uan lista con todos los multiples de 10 del 0 al 90"
      ]
    },
    {
      "cell_type": "code",
      "execution_count": 58,
      "id": "82dffac8-898a-45ea-b5be-cd6f0ad74f8d",
      "metadata": {
        "id": "82dffac8-898a-45ea-b5be-cd6f0ad74f8d",
        "colab": {
          "base_uri": "https://localhost:8080/"
        },
        "outputId": "e2c57db7-f66f-44d1-dbed-499608b047ca"
      },
      "outputs": [
        {
          "output_type": "stream",
          "name": "stdout",
          "text": [
            "Múltiplos de 10 del 0 al 90: [0, 10, 20, 30, 40, 50, 60, 70, 80, 90]\n"
          ]
        }
      ],
      "source": [
        "# Creamos una lista vacía para almacenar los múltiplos de 10\n",
        "multiplos_de_10 = []\n",
        "\n",
        "# Generamos los múltiplos de 10 del 0 al 90\n",
        "for numero in range(0, 91, 10):\n",
        "    multiplos_de_10.append(numero)\n",
        "\n",
        "# Imprimimos la lista de múltiplos de 10\n",
        "print(\"Múltiplos de 10 del 0 al 90:\", multiplos_de_10)\n"
      ]
    },
    {
      "cell_type": "markdown",
      "id": "7f593981-b5fc-4629-9725-72e158c5e6b3",
      "metadata": {
        "id": "7f593981-b5fc-4629-9725-72e158c5e6b3"
      },
      "source": [
        "Borra del 30 al 50"
      ]
    },
    {
      "cell_type": "code",
      "execution_count": 59,
      "id": "9b08bf42-1f27-4166-8873-89aef5459e20",
      "metadata": {
        "id": "9b08bf42-1f27-4166-8873-89aef5459e20",
        "colab": {
          "base_uri": "https://localhost:8080/"
        },
        "outputId": "435a2fc0-fea7-482b-f83e-4fde921449b7"
      },
      "outputs": [
        {
          "output_type": "stream",
          "name": "stdout",
          "text": [
            "Lista de múltiplos de 10 después de borrar del 30 al 50: [0, 10, 20, 60, 70, 80, 90]\n"
          ]
        }
      ],
      "source": [
        "# Borramos los elementos del 30 al 50 de la lista de múltiplos de 10\n",
        "del multiplos_de_10[3:6]\n",
        "\n",
        "# Imprimimos la lista actualizada\n",
        "print(\"Lista de múltiplos de 10 después de borrar del 30 al 50:\", multiplos_de_10)\n"
      ]
    },
    {
      "cell_type": "markdown",
      "id": "76350a53-7aab-4c18-9b43-a55f8b0c551d",
      "metadata": {
        "id": "76350a53-7aab-4c18-9b43-a55f8b0c551d"
      },
      "source": [
        "A continuación, rearma la lista y borra cada segundo elemento"
      ]
    },
    {
      "cell_type": "code",
      "execution_count": 60,
      "id": "17481723-57af-4e64-9479-9d5d33b9af4d",
      "metadata": {
        "id": "17481723-57af-4e64-9479-9d5d33b9af4d",
        "colab": {
          "base_uri": "https://localhost:8080/"
        },
        "outputId": "9fce3fbb-6694-4af7-fbe3-9eb40d066217"
      },
      "outputs": [
        {
          "output_type": "stream",
          "name": "stdout",
          "text": [
            "Lista de múltiplos de 10 después de borrar cada segundo elemento: [0, 20, 40, 60, 80]\n"
          ]
        }
      ],
      "source": [
        "# Rearmamos la lista de múltiplos de 10\n",
        "multiplos_de_10 = [0, 10, 20, 30, 40, 50, 60, 70, 80, 90]\n",
        "\n",
        "# Borramos cada segundo elemento\n",
        "del multiplos_de_10[1::2]\n",
        "\n",
        "# Imprimimos la lista actualizada\n",
        "print(\"Lista de múltiplos de 10 después de borrar cada segundo elemento:\", multiplos_de_10)\n"
      ]
    },
    {
      "cell_type": "markdown",
      "id": "da7c571a-ba0f-472b-9800-b94b7808ff05",
      "metadata": {
        "id": "da7c571a-ba0f-472b-9800-b94b7808ff05"
      },
      "source": [
        "Y por último, borra la lista completa"
      ]
    },
    {
      "cell_type": "code",
      "execution_count": 61,
      "id": "d21a9a28-cca0-436d-becb-c021125b4c55",
      "metadata": {
        "id": "d21a9a28-cca0-436d-becb-c021125b4c55",
        "colab": {
          "base_uri": "https://localhost:8080/",
          "height": 182
        },
        "outputId": "ad991aba-d1b7-42e1-a5fe-f0c9cac63812"
      },
      "outputs": [
        {
          "output_type": "error",
          "ename": "NameError",
          "evalue": "name 'multiplos_de_10' is not defined",
          "traceback": [
            "\u001b[0;31m---------------------------------------------------------------------------\u001b[0m",
            "\u001b[0;31mNameError\u001b[0m                                 Traceback (most recent call last)",
            "\u001b[0;32m<ipython-input-61-7d9c7a8e8289>\u001b[0m in \u001b[0;36m<cell line: 5>\u001b[0;34m()\u001b[0m\n\u001b[1;32m      3\u001b[0m \u001b[0;34m\u001b[0m\u001b[0m\n\u001b[1;32m      4\u001b[0m \u001b[0;31m# Intentamos imprimir la lista (esto debería resultar en un error ya que la lista ha sido eliminada)\u001b[0m\u001b[0;34m\u001b[0m\u001b[0;34m\u001b[0m\u001b[0m\n\u001b[0;32m----> 5\u001b[0;31m \u001b[0mprint\u001b[0m\u001b[0;34m(\u001b[0m\u001b[0mmultiplos_de_10\u001b[0m\u001b[0;34m)\u001b[0m\u001b[0;34m\u001b[0m\u001b[0;34m\u001b[0m\u001b[0m\n\u001b[0m",
            "\u001b[0;31mNameError\u001b[0m: name 'multiplos_de_10' is not defined"
          ]
        }
      ],
      "source": [
        "# Borramos la lista completa de múltiplos de 10\n",
        "del multiplos_de_10\n",
        "\n",
        "# Intentamos imprimir la lista (esto debería resultar en un error ya que la lista ha sido eliminada)\n",
        "print(multiplos_de_10)\n"
      ]
    },
    {
      "cell_type": "markdown",
      "id": "5f383b91-b740-40ed-9904-cfefc90ae7c9",
      "metadata": {
        "id": "5f383b91-b740-40ed-9904-cfefc90ae7c9"
      },
      "source": [
        "#### Por tu cuenta\n",
        "\n",
        "Crea una lista con los numeros del 1 al 15\n",
        "- borra una parte que contenga los primeros 4 elementos, muestra tu resultado\n",
        "- Empezando con el primer elemento, borra cada 2do elemento de la lista."
      ]
    },
    {
      "cell_type": "code",
      "execution_count": 62,
      "id": "f242cd81-a228-4ff9-8b6c-dddab8ce1d6c",
      "metadata": {
        "id": "f242cd81-a228-4ff9-8b6c-dddab8ce1d6c",
        "colab": {
          "base_uri": "https://localhost:8080/"
        },
        "outputId": "8575cd9e-cfc7-4bd3-aa28-803f74e8564f"
      },
      "outputs": [
        {
          "output_type": "stream",
          "name": "stdout",
          "text": [
            "[5, 6, 7, 8, 9, 10, 11, 12, 13, 14, 15]\n",
            "[5, 7, 9, 11, 13, 15]\n"
          ]
        }
      ],
      "source": [
        "#Acá va la solución\n",
        "lista = [1, 2, 3, 4, 5, 6, 7, 8, 9, 10, 11, 12, 13, 14, 15]\n",
        "del lista[:4]\n",
        "print(lista)\n",
        "del lista[1::2]\n",
        "print(lista)"
      ]
    },
    {
      "cell_type": "markdown",
      "id": "6a657591-236e-4a92-8aac-a46d77f57cdb",
      "metadata": {
        "id": "6a657591-236e-4a92-8aac-a46d77f57cdb"
      },
      "source": [
        "##Listas Ordenadas"
      ]
    },
    {
      "cell_type": "markdown",
      "id": "16151e48-3630-4dcd-a3c4-66c374430646",
      "metadata": {
        "id": "16151e48-3630-4dcd-a3c4-66c374430646"
      },
      "source": [
        "Vamos  armar la lista\n",
        "\n",
        "edad = [65,26,28,36,18]"
      ]
    },
    {
      "cell_type": "code",
      "execution_count": 63,
      "id": "6637251b-41df-44cc-9e5c-6290dba5cbd4",
      "metadata": {
        "id": "6637251b-41df-44cc-9e5c-6290dba5cbd4"
      },
      "outputs": [],
      "source": [
        "edad = [65, 26, 28, 36, 18]\n"
      ]
    },
    {
      "cell_type": "markdown",
      "id": "bb6aa8e8-9f7d-45f2-a79f-3f32f5db51c9",
      "metadata": {
        "id": "bb6aa8e8-9f7d-45f2-a79f-3f32f5db51c9"
      },
      "source": [
        "Ahora vamos a ordenarla usando sort()"
      ]
    },
    {
      "cell_type": "code",
      "execution_count": 64,
      "id": "920cf4e0-e995-4fd5-beaf-20954b074f84",
      "metadata": {
        "id": "920cf4e0-e995-4fd5-beaf-20954b074f84",
        "colab": {
          "base_uri": "https://localhost:8080/"
        },
        "outputId": "d69f22ab-af72-4414-d1e4-ec1df4e3ba58"
      },
      "outputs": [
        {
          "output_type": "stream",
          "name": "stdout",
          "text": [
            "Lista ordenada: [18, 26, 28, 36, 65]\n"
          ]
        }
      ],
      "source": [
        "edad = [65, 26, 28, 36, 18]\n",
        "\n",
        "# Ordenamos la lista en su lugar\n",
        "edad.sort()\n",
        "\n",
        "print(\"Lista ordenada:\", edad)\n"
      ]
    },
    {
      "cell_type": "markdown",
      "id": "8a9575ea-33cd-43cd-9f5d-0b3101e84101",
      "metadata": {
        "id": "8a9575ea-33cd-43cd-9f5d-0b3101e84101"
      },
      "source": [
        "Ahora vamos aordenarla usando sort(reverse=true)"
      ]
    },
    {
      "cell_type": "code",
      "execution_count": 65,
      "id": "43c0e69f-6adc-4d7f-83b0-37fabd28bcfe",
      "metadata": {
        "id": "43c0e69f-6adc-4d7f-83b0-37fabd28bcfe",
        "colab": {
          "base_uri": "https://localhost:8080/"
        },
        "outputId": "92ee3f5b-fdeb-4d84-fe3a-5da2ec795327"
      },
      "outputs": [
        {
          "output_type": "stream",
          "name": "stdout",
          "text": [
            "Lista ordenada en orden descendente: [65, 36, 28, 26, 18]\n"
          ]
        }
      ],
      "source": [
        "edad = [65, 26, 28, 36, 18]\n",
        "\n",
        "# Ordenamos la lista en su lugar en orden descendente\n",
        "edad.sort(reverse=True)\n",
        "\n",
        "print(\"Lista ordenada en orden descendente:\", edad)\n"
      ]
    },
    {
      "cell_type": "markdown",
      "id": "d4c2de46-6517-4751-b11e-10f58fabb731",
      "metadata": {
        "id": "d4c2de46-6517-4751-b11e-10f58fabb731"
      },
      "source": [
        "También se puede usar la función sorted, que es una función que devuelve otra lista"
      ]
    },
    {
      "cell_type": "code",
      "execution_count": 66,
      "id": "d3657f31-4ada-4d22-9644-4110caaa1b24",
      "metadata": {
        "id": "d3657f31-4ada-4d22-9644-4110caaa1b24",
        "colab": {
          "base_uri": "https://localhost:8080/"
        },
        "outputId": "49d2bf76-c7f3-47de-c9cd-5582343a3377"
      },
      "outputs": [
        {
          "output_type": "stream",
          "name": "stdout",
          "text": [
            "Lista original: [65, 26, 28, 36, 18]\n",
            "Lista ordenada en orden descendente: [65, 36, 28, 26, 18]\n"
          ]
        }
      ],
      "source": [
        "edad = [65, 26, 28, 36, 18]\n",
        "\n",
        "# Ordenamos la lista y almacenamos el resultado en una nueva lista\n",
        "edad_ordenada_descendente = sorted(edad, reverse=True)\n",
        "\n",
        "print(\"Lista original:\", edad)\n",
        "print(\"Lista ordenada en orden descendente:\", edad_ordenada_descendente)\n"
      ]
    },
    {
      "cell_type": "markdown",
      "id": "316e7554-d647-4c9c-8c99-356aba8c2688",
      "metadata": {
        "id": "316e7554-d647-4c9c-8c99-356aba8c2688"
      },
      "source": [
        "Se pueden ordenar cadenas de caracters"
      ]
    },
    {
      "cell_type": "code",
      "execution_count": 67,
      "id": "a9cbd0df-1f39-4898-b0a4-9c29d00e462b",
      "metadata": {
        "id": "a9cbd0df-1f39-4898-b0a4-9c29d00e462b",
        "colab": {
          "base_uri": "https://localhost:8080/"
        },
        "outputId": "4c40e946-ffcf-45e3-ce4a-3c2c069e9b6b"
      },
      "outputs": [
        {
          "output_type": "stream",
          "name": "stdout",
          "text": [
            "Cadena ordenada: hnopty\n"
          ]
        }
      ],
      "source": [
        "#Ordenar una cadena como lista de caracteres\n",
        "cadena = \"python\"\n",
        "cadena_ordenada = ''.join(sorted(cadena))\n",
        "print(\"Cadena ordenada:\", cadena_ordenada)\n"
      ]
    },
    {
      "cell_type": "code",
      "execution_count": 68,
      "id": "c287cd7f-580c-495c-81b2-0512294a54c6",
      "metadata": {
        "id": "c287cd7f-580c-495c-81b2-0512294a54c6",
        "colab": {
          "base_uri": "https://localhost:8080/"
        },
        "outputId": "5fd8cf07-f45c-4f22-a255-2c73cc6b3513"
      },
      "outputs": [
        {
          "output_type": "stream",
          "name": "stdout",
          "text": [
            "Cadena ordenada: hnopty\n"
          ]
        }
      ],
      "source": [
        "#Ordenar una cadena utilizando el método sort()\n",
        "cadena = \"python\"\n",
        "lista_caracteres = list(cadena)\n",
        "lista_caracteres.sort()\n",
        "cadena_ordenada = ''.join(lista_caracteres)\n",
        "print(\"Cadena ordenada:\", cadena_ordenada)\n"
      ]
    },
    {
      "cell_type": "markdown",
      "id": "faf47c21-c6e1-4006-801a-46fcfe875760",
      "metadata": {
        "id": "faf47c21-c6e1-4006-801a-46fcfe875760"
      },
      "source": [
        "Y también las tuplas, pero solo usando sorted"
      ]
    },
    {
      "cell_type": "code",
      "execution_count": 69,
      "id": "af686482-c3dc-4979-8891-d30d669e1b0e",
      "metadata": {
        "id": "af686482-c3dc-4979-8891-d30d669e1b0e",
        "colab": {
          "base_uri": "https://localhost:8080/"
        },
        "outputId": "51d74efb-137d-46d4-a767-e64b3fff305f"
      },
      "outputs": [
        {
          "output_type": "stream",
          "name": "stdout",
          "text": [
            "Tupla original: (4, 1, 3, 2, 5)\n",
            "Tupla ordenada: (1, 2, 3, 4, 5)\n"
          ]
        }
      ],
      "source": [
        "tupla = (4, 1, 3, 2, 5)\n",
        "\n",
        "# Ordenamos la tupla y almacenamos el resultado en una nueva lista\n",
        "tupla_ordenada = tuple(sorted(tupla))\n",
        "\n",
        "print(\"Tupla original:\", tupla)\n",
        "print(\"Tupla ordenada:\", tupla_ordenada)\n"
      ]
    },
    {
      "cell_type": "markdown",
      "id": "fd59c820-17fc-4c26-b4bd-d712c0f899e2",
      "metadata": {
        "id": "fd59c820-17fc-4c26-b4bd-d712c0f899e2"
      },
      "source": [
        "### Buscando Secuencias"
      ]
    },
    {
      "cell_type": "markdown",
      "id": "a28823a1-57ce-4a0d-a337-03d44f00d475",
      "metadata": {
        "id": "a28823a1-57ce-4a0d-a337-03d44f00d475"
      },
      "source": [
        "Ahora arma la lista\n",
        "\n",
        "edad = [65,12,19,80,36,28,16,18,36,16,45,32,36,59]    "
      ]
    },
    {
      "cell_type": "code",
      "execution_count": 70,
      "id": "b7d8ace3-e89d-4eb3-888c-88b6db252126",
      "metadata": {
        "id": "b7d8ace3-e89d-4eb3-888c-88b6db252126"
      },
      "outputs": [],
      "source": [
        "edad = [65, 12, 19, 80, 36, 28, 16, 18, 36, 16, 45, 32, 36, 59]\n"
      ]
    },
    {
      "cell_type": "markdown",
      "id": "97238422-0f79-4232-abf4-43e27f6a3a32",
      "metadata": {
        "id": "97238422-0f79-4232-abf4-43e27f6a3a32"
      },
      "source": [
        "Y busca en ella la edad 45 usando el método index()"
      ]
    },
    {
      "cell_type": "code",
      "execution_count": 71,
      "id": "6f1db40f-a4a5-42b6-9eec-1b038a4c7f5e",
      "metadata": {
        "id": "6f1db40f-a4a5-42b6-9eec-1b038a4c7f5e",
        "colab": {
          "base_uri": "https://localhost:8080/"
        },
        "outputId": "8d64b166-c4d3-4da6-cf4a-9cf6c74b46bf"
      },
      "outputs": [
        {
          "output_type": "stream",
          "name": "stdout",
          "text": [
            "La edad 45 se encuentra en el índice: 10\n"
          ]
        }
      ],
      "source": [
        "edad = [65, 12, 19, 80, 36, 28, 16, 18, 36, 16, 45, 32, 36, 59]\n",
        "\n",
        "# Buscar la edad 45 en la lista\n",
        "indice = edad.index(45)\n",
        "\n",
        "print(\"La edad 45 se encuentra en el índice:\", indice)\n"
      ]
    },
    {
      "cell_type": "markdown",
      "id": "fddd6daa-b6a8-4999-adb0-6663778198cb",
      "metadata": {
        "id": "fddd6daa-b6a8-4999-adb0-6663778198cb"
      },
      "source": [
        "Si buscas algo que no esta, como 43, el resultado es..."
      ]
    },
    {
      "cell_type": "code",
      "execution_count": 72,
      "id": "5cdcf524-0249-4af0-b80c-34e35fc4f351",
      "metadata": {
        "id": "5cdcf524-0249-4af0-b80c-34e35fc4f351",
        "colab": {
          "base_uri": "https://localhost:8080/"
        },
        "outputId": "1333c7d1-f3ad-4ec6-cc2f-2515076328f5"
      },
      "outputs": [
        {
          "output_type": "stream",
          "name": "stdout",
          "text": [
            "La edad 43 no está presente en la lista.\n"
          ]
        }
      ],
      "source": [
        "edad = [65, 12, 19, 80, 36, 28, 16, 18, 36, 16, 45, 32, 36, 59]\n",
        "\n",
        "# Intentar buscar la edad 43 en la lista\n",
        "try:\n",
        "    indice = edad.index(43)\n",
        "    print(\"La edad 43 se encuentra en el índice:\", indice)\n",
        "except ValueError:\n",
        "    print(\"La edad 43 no está presente en la lista.\")\n"
      ]
    },
    {
      "cell_type": "markdown",
      "id": "5f2ef81e-4b06-4dc0-9448-f9b654934f02",
      "metadata": {
        "id": "5f2ef81e-4b06-4dc0-9448-f9b654934f02"
      },
      "source": [
        "Tambien puedes usar el comando in, checa si 56 está in edad"
      ]
    },
    {
      "cell_type": "code",
      "execution_count": 73,
      "id": "d3fc8551-44df-4b27-bd17-5a106650df51",
      "metadata": {
        "id": "d3fc8551-44df-4b27-bd17-5a106650df51",
        "colab": {
          "base_uri": "https://localhost:8080/"
        },
        "outputId": "ca96c30d-972e-43a7-bdd2-62dffdb47093"
      },
      "outputs": [
        {
          "output_type": "stream",
          "name": "stdout",
          "text": [
            "No, 56 no está presente en la lista.\n"
          ]
        }
      ],
      "source": [
        "edad = [65, 12, 19, 80, 36, 28, 16, 18, 36, 16, 45, 32, 36, 59]\n",
        "\n",
        "# Verificar si 56 está en la lista\n",
        "if 56 in edad:\n",
        "    print(\"Sí, 56 está presente en la lista.\")\n",
        "else:\n",
        "    print(\"No, 56 no está presente en la lista.\")\n"
      ]
    },
    {
      "cell_type": "markdown",
      "id": "ab18778b-6b0d-486f-ba82-8bd8180e49a5",
      "metadata": {
        "id": "ab18778b-6b0d-486f-ba82-8bd8180e49a5"
      },
      "source": [
        "###Otros Métodos de Lista"
      ]
    },
    {
      "cell_type": "markdown",
      "id": "5d9ef857-0c98-4d81-bc80-d216d7a6569e",
      "metadata": {
        "id": "5d9ef857-0c98-4d81-bc80-d216d7a6569e"
      },
      "source": [
        "vegetales = ['espinaca','apio']"
      ]
    },
    {
      "cell_type": "code",
      "execution_count": 74,
      "id": "cbb8406c-a845-48f7-b750-236900ea5cdd",
      "metadata": {
        "id": "cbb8406c-a845-48f7-b750-236900ea5cdd"
      },
      "outputs": [],
      "source": [
        "vegetales = ['espinaca', 'apio']"
      ]
    },
    {
      "cell_type": "markdown",
      "id": "8a58a395-7594-4096-83b4-e1e6c5cdcfb6",
      "metadata": {
        "id": "8a58a395-7594-4096-83b4-e1e6c5cdcfb6"
      },
      "source": [
        "Usa el método insert() para meter 'lechuga' en la posición 0"
      ]
    },
    {
      "cell_type": "code",
      "execution_count": 75,
      "id": "d1af9cf7-e8b5-400a-a18f-3196c72e7cc4",
      "metadata": {
        "id": "d1af9cf7-e8b5-400a-a18f-3196c72e7cc4",
        "colab": {
          "base_uri": "https://localhost:8080/"
        },
        "outputId": "dc4bd1a0-97ab-4037-f82f-5e5e3a4d8e0c"
      },
      "outputs": [
        {
          "output_type": "stream",
          "name": "stdout",
          "text": [
            "Lista de vegetales después de insertar 'lechuga': ['lechuga', 'espinaca', 'apio']\n"
          ]
        }
      ],
      "source": [
        "vegetales = ['espinaca', 'apio']\n",
        "\n",
        "# Insertar 'lechuga' en la posición 0\n",
        "vegetales.insert(0, 'lechuga')\n",
        "\n",
        "print(\"Lista de vegetales después de insertar 'lechuga':\", vegetales)\n"
      ]
    },
    {
      "cell_type": "markdown",
      "id": "52d4166b-d321-4a51-bbdd-978c4ded199e",
      "metadata": {
        "id": "52d4166b-d321-4a51-bbdd-978c4ded199e"
      },
      "source": [
        "Usa el método append() para meter 'esparragos' al final"
      ]
    },
    {
      "cell_type": "code",
      "execution_count": 76,
      "id": "2d6855bb-11d3-4d2e-9e5d-599cd6d659cf",
      "metadata": {
        "id": "2d6855bb-11d3-4d2e-9e5d-599cd6d659cf",
        "colab": {
          "base_uri": "https://localhost:8080/"
        },
        "outputId": "17e19d04-4535-4592-972e-a1ccef948f69"
      },
      "outputs": [
        {
          "output_type": "stream",
          "name": "stdout",
          "text": [
            "Lista de vegetales después de agregar 'esparragos': ['lechuga', 'espinaca', 'apio', 'esparragos']\n"
          ]
        }
      ],
      "source": [
        "vegetales = ['lechuga', 'espinaca', 'apio']\n",
        "\n",
        "# Agregar 'esparragos' al final de la lista\n",
        "vegetales.append('esparragos')\n",
        "\n",
        "print(\"Lista de vegetales después de agregar 'esparragos':\", vegetales)\n"
      ]
    },
    {
      "cell_type": "markdown",
      "id": "854f646e-1f1a-4677-90f0-f2b23a679ac9",
      "metadata": {
        "id": "854f646e-1f1a-4677-90f0-f2b23a679ac9"
      },
      "source": [
        "Agrega el precio usando el comando extend\n",
        "\n",
        "Precio = (10,15,8,30)"
      ]
    },
    {
      "cell_type": "code",
      "execution_count": 77,
      "id": "0db26dae-3e95-4172-b80b-110bd0caa0ff",
      "metadata": {
        "id": "0db26dae-3e95-4172-b80b-110bd0caa0ff",
        "colab": {
          "base_uri": "https://localhost:8080/"
        },
        "outputId": "46e6eab5-bc48-4ef0-f37f-874f16a87b86"
      },
      "outputs": [
        {
          "output_type": "stream",
          "name": "stdout",
          "text": [
            "Lista de vegetales después de agregar los precios: ['lechuga', 'espinaca', 'apio', 10, 15, 8, 30]\n"
          ]
        }
      ],
      "source": [
        "vegetales = ['lechuga', 'espinaca', 'apio']\n",
        "Precio = (10, 15, 8, 30)\n",
        "\n",
        "# Convertir la tupla Precio en una lista y agregarla al final de la lista vegetales\n",
        "vegetales.extend(list(Precio))\n",
        "\n",
        "print(\"Lista de vegetales después de agregar los precios:\", vegetales)\n"
      ]
    },
    {
      "cell_type": "markdown",
      "id": "c63867c4-9b99-4b19-924a-06a47965ed9e",
      "metadata": {
        "id": "c63867c4-9b99-4b19-924a-06a47965ed9e"
      },
      "source": [
        "Quitale los esparragos a la ensalada usando remove()"
      ]
    },
    {
      "cell_type": "code",
      "execution_count": 78,
      "id": "3afd8bbc-d8dd-407d-8d65-cfce2092c590",
      "metadata": {
        "id": "3afd8bbc-d8dd-407d-8d65-cfce2092c590",
        "colab": {
          "base_uri": "https://localhost:8080/"
        },
        "outputId": "31e3d29f-f65a-4efb-f648-57a2df6aa9bc"
      },
      "outputs": [
        {
          "output_type": "stream",
          "name": "stdout",
          "text": [
            "Lista de vegetales después de quitar 'esparragos': ['lechuga', 'espinaca', 'apio']\n"
          ]
        }
      ],
      "source": [
        "vegetales = ['lechuga', 'espinaca', 'apio', 'esparragos']\n",
        "\n",
        "# Eliminar 'esparragos' de la lista\n",
        "vegetales.remove('esparragos')\n",
        "\n",
        "print(\"Lista de vegetales después de quitar 'esparragos':\", vegetales)\n"
      ]
    },
    {
      "cell_type": "markdown",
      "id": "15d3c269-5b8a-4f1e-bee7-48bb5ddfb933",
      "metadata": {
        "id": "15d3c269-5b8a-4f1e-bee7-48bb5ddfb933"
      },
      "source": [
        "Tira la ensalada y ve por un platillo de hombre usando vegetales.clear()"
      ]
    },
    {
      "cell_type": "code",
      "execution_count": 79,
      "id": "492a21fc-86d6-48f6-b006-b68a2d7a28a8",
      "metadata": {
        "id": "492a21fc-86d6-48f6-b006-b68a2d7a28a8",
        "colab": {
          "base_uri": "https://localhost:8080/"
        },
        "outputId": "aec8e426-bc0c-4617-d872-16497e944a7f"
      },
      "outputs": [
        {
          "output_type": "stream",
          "name": "stdout",
          "text": [
            "La ensalada ha sido eliminada. Ahora la lista de vegetales está vacía: []\n"
          ]
        }
      ],
      "source": [
        "vegetales = ['lechuga', 'espinaca', 'apio', 'esparragos']\n",
        "\n",
        "# Limpiar la lista de vegetales\n",
        "vegetales.clear()\n",
        "\n",
        "print(\"La ensalada ha sido eliminada. Ahora la lista de vegetales está vacía:\", vegetales)\n"
      ]
    },
    {
      "cell_type": "markdown",
      "id": "61a5a0f1-41b4-48d1-95ee-ee51a29c90bd",
      "metadata": {
        "id": "61a5a0f1-41b4-48d1-95ee-ee51a29c90bd"
      },
      "source": [
        "###Contar"
      ]
    },
    {
      "cell_type": "markdown",
      "id": "3b74c7e6-3015-4bc5-807d-ea567e339a44",
      "metadata": {
        "id": "3b74c7e6-3015-4bc5-807d-ea567e339a44"
      },
      "source": [
        "Arma una lista de edades\n",
        "\n",
        " edades = [15, 21, 16, 19, 20, 16, 19, 15, 21, 17, 18, 24, 20, 24, 21, 19, 18, 16, 19, 16]\n"
      ]
    },
    {
      "cell_type": "code",
      "execution_count": 80,
      "id": "1ec19d16-1f35-468e-86b4-be1f9e6c50b4",
      "metadata": {
        "id": "1ec19d16-1f35-468e-86b4-be1f9e6c50b4"
      },
      "outputs": [],
      "source": [
        "edades = [15, 21, 16, 19, 20, 16, 19, 15, 21, 17, 18, 24, 20, 24, 21, 19, 18, 16, 19, 16]\n"
      ]
    },
    {
      "cell_type": "markdown",
      "id": "adc447a8-fe46-4bb5-9fab-f0bd2d03ad0f",
      "metadata": {
        "id": "adc447a8-fe46-4bb5-9fab-f0bd2d03ad0f"
      },
      "source": [
        "Usa count para saber cuantas vecs aparece la edad 16"
      ]
    },
    {
      "cell_type": "code",
      "execution_count": 81,
      "id": "73cf7fb6-c511-4fed-9ff0-2dfbcc5bf279",
      "metadata": {
        "id": "73cf7fb6-c511-4fed-9ff0-2dfbcc5bf279",
        "colab": {
          "base_uri": "https://localhost:8080/"
        },
        "outputId": "be555889-37d3-4334-8a96-7a7c6895e38f"
      },
      "outputs": [
        {
          "output_type": "stream",
          "name": "stdout",
          "text": [
            "La edad 16 aparece 4 veces en la lista.\n"
          ]
        }
      ],
      "source": [
        "edades = [15, 21, 16, 19, 20, 16, 19, 15, 21, 17, 18, 24, 20, 24, 21, 19, 18, 16, 19, 16]\n",
        "\n",
        "# Contar cuántas veces aparece la edad 16\n",
        "veces_16 = edades.count(16)\n",
        "\n",
        "print(\"La edad 16 aparece\", veces_16, \"veces en la lista.\")\n"
      ]
    },
    {
      "cell_type": "markdown",
      "id": "31102168-b3ca-48cf-8868-39ac7befccdd",
      "metadata": {
        "id": "31102168-b3ca-48cf-8868-39ac7befccdd"
      },
      "source": [
        "Arma un for para contar cuantas veces se repite cada edad entre 15 a 25 en la lista\n",
        "\n",
        "imprime tus resultados con la frase\n",
        "La edad 15 se repite 2 veces\n",
        "y asi...\n",
        "\n",
        "\n"
      ]
    },
    {
      "cell_type": "code",
      "execution_count": 82,
      "id": "0f90d9b6-590d-4b4e-a702-9b0ecf55a9cb",
      "metadata": {
        "id": "0f90d9b6-590d-4b4e-a702-9b0ecf55a9cb",
        "colab": {
          "base_uri": "https://localhost:8080/"
        },
        "outputId": "9aa83a2a-b4a6-45ec-a34a-0ab82431cb35"
      },
      "outputs": [
        {
          "output_type": "stream",
          "name": "stdout",
          "text": [
            "La edad 15 se repite 2 veces.\n",
            "La edad 16 se repite 4 veces.\n",
            "La edad 17 se repite 1 veces.\n",
            "La edad 18 se repite 2 veces.\n",
            "La edad 19 se repite 4 veces.\n",
            "La edad 20 se repite 2 veces.\n",
            "La edad 21 se repite 3 veces.\n",
            "La edad 22 se repite 0 veces.\n",
            "La edad 23 se repite 0 veces.\n",
            "La edad 24 se repite 2 veces.\n",
            "La edad 25 se repite 0 veces.\n"
          ]
        }
      ],
      "source": [
        "edades = [15, 21, 16, 19, 20, 16, 19, 15, 21, 17, 18, 24, 20, 24, 21, 19, 18, 16, 19, 16]\n",
        "\n",
        "# Inicializar un diccionario para almacenar el recuento de cada edad\n",
        "recuento_edades = {}\n",
        "\n",
        "# Contar cuántas veces se repite cada edad entre 15 y 25\n",
        "for edad in range(15, 26):\n",
        "    veces = edades.count(edad)\n",
        "    recuento_edades[edad] = veces\n",
        "\n",
        "# Imprimir los resultados\n",
        "for edad, veces in recuento_edades.items():\n",
        "    print(f\"La edad {edad} se repite {veces} veces.\")\n"
      ]
    },
    {
      "cell_type": "markdown",
      "id": "4d099cfc-d40a-43f6-9ad3-9dbd6954f1b1",
      "metadata": {
        "id": "4d099cfc-d40a-43f6-9ad3-9dbd6954f1b1"
      },
      "source": [
        "Arma tu ensalada de nuevo\n",
        "\n",
        " vegetales = ['lechuga','espinaca','apio','pepinillo']"
      ]
    },
    {
      "cell_type": "code",
      "execution_count": 83,
      "id": "bfed5d68-3c2d-4145-aa56-d1254aa3db0b",
      "metadata": {
        "id": "bfed5d68-3c2d-4145-aa56-d1254aa3db0b"
      },
      "outputs": [],
      "source": [
        "vegetales = ['lechuga', 'espinaca', 'apio', 'pepinillo']"
      ]
    },
    {
      "cell_type": "markdown",
      "id": "839085b2-372b-4050-b521-e8d7917295f2",
      "metadata": {
        "id": "839085b2-372b-4050-b521-e8d7917295f2"
      },
      "source": [
        "Usa reverse para darle la vuelta"
      ]
    },
    {
      "cell_type": "code",
      "execution_count": 84,
      "id": "9ca9cbff-a4ba-4f71-bdd8-1d8b54e8d465",
      "metadata": {
        "id": "9ca9cbff-a4ba-4f71-bdd8-1d8b54e8d465",
        "colab": {
          "base_uri": "https://localhost:8080/"
        },
        "outputId": "7e49603a-daf0-4e7f-ebab-a684bb85f6d6"
      },
      "outputs": [
        {
          "output_type": "stream",
          "name": "stdout",
          "text": [
            "Lista de vegetales después de invertir el orden: ['pepinillo', 'apio', 'espinaca', 'lechuga']\n"
          ]
        }
      ],
      "source": [
        "vegetales = ['lechuga', 'espinaca', 'apio', 'pepinillo']\n",
        "\n",
        "# Invertir el orden de los elementos en la lista\n",
        "vegetales.reverse()\n",
        "\n",
        "print(\"Lista de vegetales después de invertir el orden:\", vegetales)\n"
      ]
    },
    {
      "cell_type": "markdown",
      "id": "26ef156d-9e86-431b-addd-6ad0225ecc17",
      "metadata": {
        "id": "26ef156d-9e86-431b-addd-6ad0225ecc17"
      },
      "source": [
        "Prepara una seguna ensalada usando copy"
      ]
    },
    {
      "cell_type": "code",
      "execution_count": 85,
      "id": "87e898e6-7355-4388-ad4f-4d441d91a80a",
      "metadata": {
        "id": "87e898e6-7355-4388-ad4f-4d441d91a80a",
        "colab": {
          "base_uri": "https://localhost:8080/"
        },
        "outputId": "32ed82f5-bd4f-4f70-d444-5aa42f3f513b"
      },
      "outputs": [
        {
          "output_type": "stream",
          "name": "stdout",
          "text": [
            "Segunda ensalada: ['pepinillo', 'apio', 'espinaca', 'lechuga', 'tomate', 'zanahoria']\n"
          ]
        }
      ],
      "source": [
        "# Copiar la lista de vegetales para la segunda ensalada\n",
        "segunda_ensalada = vegetales.copy()\n",
        "\n",
        "# Agregar ingredientes adicionales a la segunda ensalada\n",
        "segunda_ensalada.append('tomate')\n",
        "segunda_ensalada.append('zanahoria')\n",
        "\n",
        "print(\"Segunda ensalada:\", segunda_ensalada)\n"
      ]
    },
    {
      "cell_type": "markdown",
      "id": "7ff36166-8379-4e4d-8c02-c465f958ad05",
      "metadata": {
        "id": "7ff36166-8379-4e4d-8c02-c465f958ad05"
      },
      "source": [
        "##Comprensión de Listas"
      ]
    },
    {
      "cell_type": "markdown",
      "id": "a83d69a6-c578-4d91-b13b-6ae1676c78b4",
      "metadata": {
        "id": "a83d69a6-c578-4d91-b13b-6ae1676c78b4"
      },
      "source": [
        "Vamos a armar una lista con todos los numeros del 1 al 10. Empeiza con lista vacia, y luego un for que haga un append de todos los numeros del 1 al 10"
      ]
    },
    {
      "cell_type": "code",
      "execution_count": 86,
      "id": "6bfdc08b-9d0e-44d3-bdae-64df3eaaa3ef",
      "metadata": {
        "id": "6bfdc08b-9d0e-44d3-bdae-64df3eaaa3ef",
        "colab": {
          "base_uri": "https://localhost:8080/"
        },
        "outputId": "15962817-b96b-4fd2-ce88-5f17b6d3601c"
      },
      "outputs": [
        {
          "output_type": "stream",
          "name": "stdout",
          "text": [
            "Lista de números del 1 al 10: [1, 2, 3, 4, 5, 6, 7, 8, 9, 10]\n"
          ]
        }
      ],
      "source": [
        "# Crear una lista vacía para almacenar los números del 1 al 10\n",
        "numeros = []\n",
        "\n",
        "# Agregar números del 1 al 10 a la lista utilizando un bucle for\n",
        "for i in range(1, 11):\n",
        "    numeros.append(i)\n",
        "\n",
        "print(\"Lista de números del 1 al 10:\", numeros)\n"
      ]
    },
    {
      "cell_type": "markdown",
      "id": "25bb7da9-eda4-4b25-b861-06f78a991d5d",
      "metadata": {
        "id": "25bb7da9-eda4-4b25-b861-06f78a991d5d"
      },
      "source": [
        "Ahora hacemos lo mismo con la comprensión de listas"
      ]
    },
    {
      "cell_type": "code",
      "execution_count": 87,
      "id": "3df8af71-0695-4081-98ac-270841f5a624",
      "metadata": {
        "id": "3df8af71-0695-4081-98ac-270841f5a624",
        "colab": {
          "base_uri": "https://localhost:8080/"
        },
        "outputId": "ac44b144-ce40-4325-b9aa-31fd1b399df2"
      },
      "outputs": [
        {
          "output_type": "stream",
          "name": "stdout",
          "text": [
            "Lista de números del 1 al 10: [1, 2, 3, 4, 5, 6, 7, 8, 9, 10]\n"
          ]
        }
      ],
      "source": [
        "# Utilizar comprensión de listas para crear la lista de números del 1 al 10\n",
        "numeros = [i for i in range(1, 11)]\n",
        "\n",
        "print(\"Lista de números del 1 al 10:\", numeros)\n"
      ]
    },
    {
      "cell_type": "markdown",
      "id": "987b7ef2-3686-42e5-89b4-03b93f28a91c",
      "metadata": {
        "id": "987b7ef2-3686-42e5-89b4-03b93f28a91c"
      },
      "source": [
        "Tambien de plano podemos reemplazar todo eso por range"
      ]
    },
    {
      "cell_type": "code",
      "execution_count": 88,
      "id": "d7ec16e5-10ad-4e76-a963-83533cf330c1",
      "metadata": {
        "id": "d7ec16e5-10ad-4e76-a963-83533cf330c1",
        "colab": {
          "base_uri": "https://localhost:8080/"
        },
        "outputId": "ea133438-20a7-4185-9c8f-3a5a149fc6b2"
      },
      "outputs": [
        {
          "output_type": "stream",
          "name": "stdout",
          "text": [
            "Lista de números del 1 al 10: [1, 2, 3, 4, 5, 6, 7, 8, 9, 10]\n"
          ]
        }
      ],
      "source": [
        "# Generar una secuencia de números del 1 al 10 usando range() y convertirla en una lista\n",
        "numeros = list(range(1, 11))\n",
        "\n",
        "print(\"Lista de números del 1 al 10:\", numeros)\n"
      ]
    },
    {
      "cell_type": "markdown",
      "id": "fe5ab5de-8071-47e9-9b38-6dce775c8958",
      "metadata": {
        "id": "fe5ab5de-8071-47e9-9b38-6dce775c8958"
      },
      "source": [
        "Ahora vamos a mapear - hacer calculos dentro de la comprension de listas, en este caso todos los cuadrados del 1 al 10"
      ]
    },
    {
      "cell_type": "code",
      "execution_count": 89,
      "id": "a6883d8b-4ec2-4f67-95f9-4f3f22dfe0ea",
      "metadata": {
        "id": "a6883d8b-4ec2-4f67-95f9-4f3f22dfe0ea",
        "colab": {
          "base_uri": "https://localhost:8080/"
        },
        "outputId": "487abe2a-1403-4bba-e0b6-c1913cf98f43"
      },
      "outputs": [
        {
          "output_type": "stream",
          "name": "stdout",
          "text": [
            "Cuadrados del 1 al 10: [1, 4, 9, 16, 25, 36, 49, 64, 81, 100]\n"
          ]
        }
      ],
      "source": [
        "# Utilizar comprensión de listas junto con la función map para calcular los cuadrados del 1 al 10\n",
        "cuadrados = [x ** 2 for x in range(1, 11)]\n",
        "\n",
        "print(\"Cuadrados del 1 al 10:\", cuadrados)\n"
      ]
    },
    {
      "cell_type": "markdown",
      "id": "f109e962-88d8-420c-90aa-538e4e221239",
      "metadata": {
        "id": "f109e962-88d8-420c-90aa-538e4e221239"
      },
      "source": [
        "Ahora vamos a generar una comprensión de lista con filtro - todos los cuadrados del 1 al 10 siempre y cuando sean menores a 50"
      ]
    },
    {
      "cell_type": "code",
      "execution_count": 90,
      "id": "7cde0e96-e7aa-44bf-8c91-1ce790802d33",
      "metadata": {
        "id": "7cde0e96-e7aa-44bf-8c91-1ce790802d33",
        "colab": {
          "base_uri": "https://localhost:8080/"
        },
        "outputId": "382780d8-67d8-4442-84d5-feed3e95292f"
      },
      "outputs": [
        {
          "output_type": "stream",
          "name": "stdout",
          "text": [
            "Cuadrados del 1 al 10 menores a 50: [1, 4, 9, 16, 25, 36, 49]\n"
          ]
        }
      ],
      "source": [
        "# Utilizar comprensión de listas con filtro para calcular los cuadrados del 1 al 10 menores a 50\n",
        "cuadrados_menores_a_50 = [x ** 2 for x in range(1, 11) if x ** 2 < 50]\n",
        "\n",
        "print(\"Cuadrados del 1 al 10 menores a 50:\", cuadrados_menores_a_50)\n"
      ]
    },
    {
      "cell_type": "markdown",
      "id": "4aa8c85a-f86c-4e9a-be7c-79eb3a72c482",
      "metadata": {
        "id": "4aa8c85a-f86c-4e9a-be7c-79eb3a72c482"
      },
      "source": [
        "Que tal que queremos una comprension de lista d etodos los cuadrados pares del 1 al 10?"
      ]
    },
    {
      "cell_type": "code",
      "execution_count": 91,
      "id": "8c22dd51-3455-4106-b5c6-782d11643529",
      "metadata": {
        "id": "8c22dd51-3455-4106-b5c6-782d11643529",
        "colab": {
          "base_uri": "https://localhost:8080/"
        },
        "outputId": "3ff46887-30ea-4ea7-8eb8-6496cc1fc394"
      },
      "outputs": [
        {
          "output_type": "stream",
          "name": "stdout",
          "text": [
            "Cuadrados de los números pares del 1 al 10: [4, 16, 36, 64, 100]\n"
          ]
        }
      ],
      "source": [
        "# Utilizar comprensión de listas para obtener los cuadrados de los números pares del 1 al 10\n",
        "cuadrados_pares = [x ** 2 for x in range(1, 11) if x % 2 == 0]\n",
        "\n",
        "print(\"Cuadrados de los números pares del 1 al 10:\", cuadrados_pares)\n"
      ]
    },
    {
      "cell_type": "markdown",
      "id": "6519a6e2-f7db-4902-bce7-66bddcf01da0",
      "metadata": {
        "id": "6519a6e2-f7db-4902-bce7-66bddcf01da0"
      },
      "source": [
        "Vuelve a armar tu ensalada\n",
        "\n",
        " vegetales = ['apio','brocoli','lechuga']\n",
        "    "
      ]
    },
    {
      "cell_type": "code",
      "execution_count": 92,
      "id": "2bbef5ac-54a5-446c-a7eb-629a420c5b50",
      "metadata": {
        "id": "2bbef5ac-54a5-446c-a7eb-629a420c5b50"
      },
      "outputs": [],
      "source": [
        "vegetales = ['apio', 'brócoli', 'lechuga']\n"
      ]
    },
    {
      "cell_type": "markdown",
      "id": "34ffd820-5dee-4b73-83e1-b9bcd9cbe96d",
      "metadata": {
        "id": "34ffd820-5dee-4b73-83e1-b9bcd9cbe96d"
      },
      "source": [
        "Arma una comprensión de lista que cambie todos estos a mayusculas"
      ]
    },
    {
      "cell_type": "code",
      "execution_count": 93,
      "id": "e469e624-c61a-43f4-b7aa-669491edc9cb",
      "metadata": {
        "id": "e469e624-c61a-43f4-b7aa-669491edc9cb",
        "colab": {
          "base_uri": "https://localhost:8080/"
        },
        "outputId": "9d92bde0-7fb4-4dfa-fc1a-ae78a9bd9a1e"
      },
      "outputs": [
        {
          "output_type": "stream",
          "name": "stdout",
          "text": [
            "Lista de vegetales en mayúsculas: ['APIO', 'BRÓCOLI', 'LECHUGA']\n"
          ]
        }
      ],
      "source": [
        "vegetales = ['apio', 'brócoli', 'lechuga']\n",
        "\n",
        "vegetales_mayusculas = [vegetal.upper() for vegetal in vegetales]\n",
        "\n",
        "print(\"Lista de vegetales en mayúsculas:\", vegetales_mayusculas)\n"
      ]
    },
    {
      "cell_type": "markdown",
      "id": "f4ec2120-193b-42e5-bdee-c6cf00796808",
      "metadata": {
        "id": "f4ec2120-193b-42e5-bdee-c6cf00796808"
      },
      "source": [
        "#### Por tu cuenta\n",
        "\n",
        "Arma una comprensión de lista que te devuelva tuplas de todos los numeros del 1 al 6 y sus cubos"
      ]
    },
    {
      "cell_type": "code",
      "execution_count": 94,
      "id": "9cf8e3c1-bbf5-420d-ab2b-497ba1bc35ab",
      "metadata": {
        "id": "9cf8e3c1-bbf5-420d-ab2b-497ba1bc35ab",
        "colab": {
          "base_uri": "https://localhost:8080/"
        },
        "outputId": "b763047f-2d60-465e-ebb6-41b0cbb159b8"
      },
      "outputs": [
        {
          "output_type": "stream",
          "name": "stdout",
          "text": [
            "[(1, 1), (2, 8), (3, 27), (4, 64), (5, 125), (6, 216)]\n"
          ]
        }
      ],
      "source": [
        "#Acá va la solución\n",
        "tuplas2 = [(x, x**3) for x in range(1, 7)]\n",
        "print(tuplas2)"
      ]
    },
    {
      "cell_type": "markdown",
      "id": "e8638d69-e268-429c-b2fa-c78ead6334a6",
      "metadata": {
        "id": "e8638d69-e268-429c-b2fa-c78ead6334a6"
      },
      "source": [
        "#### Por tu cuenta\n",
        "\n",
        "Arma una comprensión de lista que te devuelva todos los mutliples de 3 menores a 60"
      ]
    },
    {
      "cell_type": "code",
      "execution_count": 95,
      "id": "83306e4f-539d-4691-aaa7-4dc513824561",
      "metadata": {
        "id": "83306e4f-539d-4691-aaa7-4dc513824561",
        "colab": {
          "base_uri": "https://localhost:8080/"
        },
        "outputId": "15ecacaf-b7dc-4fd7-d1d2-a8250a568310"
      },
      "outputs": [
        {
          "output_type": "stream",
          "name": "stdout",
          "text": [
            "[3, 6, 9, 12, 15, 18, 21, 24, 27, 30, 33, 36, 39, 42, 45, 48, 51, 54, 57]\n"
          ]
        }
      ],
      "source": [
        "#Acá va la solución\n",
        "comprension = [x for x in range(1, 60) if x % 3 == 0]\n",
        "print(comprension)"
      ]
    },
    {
      "cell_type": "markdown",
      "id": "4faf8456-53ff-4a5a-8a5e-0a9c5871cc02",
      "metadata": {
        "id": "4faf8456-53ff-4a5a-8a5e-0a9c5871cc02"
      },
      "source": [
        "###Generador de Expresiones"
      ]
    },
    {
      "cell_type": "markdown",
      "id": "371fd199-f5a1-43ba-af06-6d52f3d453d4",
      "metadata": {
        "id": "371fd199-f5a1-43ba-af06-6d52f3d453d4"
      },
      "source": [
        "Arma esta lista\n",
        "\n",
        "lista = [-3,5,8,4,1,-6,7,10]"
      ]
    },
    {
      "cell_type": "code",
      "execution_count": 96,
      "id": "1e690475-ea47-444f-9a11-9f6254daaf51",
      "metadata": {
        "id": "1e690475-ea47-444f-9a11-9f6254daaf51"
      },
      "outputs": [],
      "source": [
        "lista = [-3, 5, 8, 4, 1, -6, 7, 10]\n"
      ]
    },
    {
      "cell_type": "markdown",
      "id": "7b2acc02-9db6-4c97-8c60-e244d9b63c96",
      "metadata": {
        "id": "7b2acc02-9db6-4c97-8c60-e244d9b63c96"
      },
      "source": [
        "Arma un for que te muestre los cuadrados pares de esta lista"
      ]
    },
    {
      "cell_type": "code",
      "source": [
        "lista = [-3, 5, 8, 4, 1, -6, 7, 10]\n",
        "\n",
        "# Iterar sobre los elementos de la lista\n",
        "for num in lista:\n",
        "    # Verificar si el número es par\n",
        "    if num % 2 == 0:\n",
        "        # Calcular el cuadrado del número par y mostrarlo\n",
        "        cuadrado = num ** 2\n",
        "        print(f\"El cuadrado de {num} es {cuadrado}\")\n"
      ],
      "metadata": {
        "id": "y0El4kut2AOk",
        "colab": {
          "base_uri": "https://localhost:8080/"
        },
        "outputId": "3ef88153-a835-4553-c101-5c8e8a5e0545"
      },
      "id": "y0El4kut2AOk",
      "execution_count": 97,
      "outputs": [
        {
          "output_type": "stream",
          "name": "stdout",
          "text": [
            "El cuadrado de 8 es 64\n",
            "El cuadrado de 4 es 16\n",
            "El cuadrado de -6 es 36\n",
            "El cuadrado de 10 es 100\n"
          ]
        }
      ]
    },
    {
      "cell_type": "markdown",
      "id": "e9164aa8-25bb-436b-8bb4-f6827b674404",
      "metadata": {
        "id": "e9164aa8-25bb-436b-8bb4-f6827b674404"
      },
      "source": [
        "`Ahora revisa como podemos hacer lo mismo con el generador de expresiones`"
      ]
    },
    {
      "cell_type": "code",
      "execution_count": 98,
      "id": "7c867d37-c1f8-45e1-8c5d-2c2cc7ae4d98",
      "metadata": {
        "id": "7c867d37-c1f8-45e1-8c5d-2c2cc7ae4d98",
        "colab": {
          "base_uri": "https://localhost:8080/"
        },
        "outputId": "0dbff7f8-3890-40d4-be99-bff7492304a9"
      },
      "outputs": [
        {
          "output_type": "stream",
          "name": "stdout",
          "text": [
            "64\n",
            "16\n",
            "36\n",
            "100\n"
          ]
        }
      ],
      "source": [
        "lista = [-3, 5, 8, 4, 1, -6, 7, 10]\n",
        "\n",
        "# Generador de expresiones para calcular los cuadrados de los números pares\n",
        "cuadrados_pares = (num ** 2 for num in lista if num % 2 == 0)\n",
        "\n",
        "# Iterar sobre los cuadrados pares y mostrarlos\n",
        "for cuadrado in cuadrados_pares:\n",
        "    print(cuadrado)\n"
      ]
    },
    {
      "cell_type": "markdown",
      "id": "c290a61b-6c18-41eb-9c15-4ad27e8f90a8",
      "metadata": {
        "id": "c290a61b-6c18-41eb-9c15-4ad27e8f90a8"
      },
      "source": [
        "Y para ver los resultados usa list()"
      ]
    },
    {
      "cell_type": "code",
      "execution_count": 99,
      "id": "030dbd25-49ee-441d-9058-6adb1cb034e6",
      "metadata": {
        "id": "030dbd25-49ee-441d-9058-6adb1cb034e6",
        "colab": {
          "base_uri": "https://localhost:8080/"
        },
        "outputId": "56620d56-04fa-4c8f-e6bf-3894e5e5ed90"
      },
      "outputs": [
        {
          "output_type": "stream",
          "name": "stdout",
          "text": [
            "Cuadrados de los números pares: [64, 16, 36, 100]\n"
          ]
        }
      ],
      "source": [
        "lista = [-3, 5, 8, 4, 1, -6, 7, 10]\n",
        "\n",
        "# Generador de expresiones para calcular los cuadrados de los números pares\n",
        "cuadrados_pares = (num ** 2 for num in lista if num % 2 == 0)\n",
        "\n",
        "# Convertir el generador de expresiones en una lista y mostrar los resultados\n",
        "resultados = list(cuadrados_pares)\n",
        "print(\"Cuadrados de los números pares:\", resultados)\n"
      ]
    },
    {
      "cell_type": "markdown",
      "id": "9311748b-4e6a-4176-8f7f-4ab6a47a17f0",
      "metadata": {
        "id": "9311748b-4e6a-4176-8f7f-4ab6a47a17f0"
      },
      "source": [
        "#### Por tu cuenta\n",
        "\n",
        "Crea una expresion generadora que eleve al cubo los enteros pares en uan lista que contiene 10,3,7,1,9,4"
      ]
    },
    {
      "cell_type": "code",
      "source": [
        "#Acá va la solución\n",
        "enteros= [10,3,7,1,9,4]\n",
        "cuadrados_pares = (num ** 3 for num in enteros if num % 2 == 0)\n",
        "resultados = list(cuadrados_pares)\n",
        "print(\"Cuadrados de los números pares:\", resultados)"
      ],
      "metadata": {
        "id": "nXFz5aKK2Q7A",
        "colab": {
          "base_uri": "https://localhost:8080/"
        },
        "outputId": "a843b20d-695a-4f86-e5a5-3594029dc08c"
      },
      "id": "nXFz5aKK2Q7A",
      "execution_count": 100,
      "outputs": [
        {
          "output_type": "stream",
          "name": "stdout",
          "text": [
            "Cuadrados de los números pares: [1000, 64]\n"
          ]
        }
      ]
    },
    {
      "cell_type": "markdown",
      "id": "d785037d-ccf0-4b18-8d70-f63c7cd3135d",
      "metadata": {
        "id": "d785037d-ccf0-4b18-8d70-f63c7cd3135d"
      },
      "source": [
        "###Filtrar, mapear y reducir"
      ]
    },
    {
      "cell_type": "markdown",
      "id": "39194aec-910a-492e-91eb-6b6fb1b5eb83",
      "metadata": {
        "id": "39194aec-910a-492e-91eb-6b6fb1b5eb83"
      },
      "source": [
        "Primero vamos a definir una funcion que compruebe si un numero es par\n",
        "\n",
        "usaremos la lista lista=[-3,5,8,4,1,-6,7,10]"
      ]
    },
    {
      "cell_type": "code",
      "execution_count": 101,
      "id": "4df31406-2bb0-49c6-a3f5-e49460b29fac",
      "metadata": {
        "id": "4df31406-2bb0-49c6-a3f5-e49460b29fac"
      },
      "outputs": [],
      "source": [
        "lista = [-3, 5, 8, 4, 1, -6, 7, 10]\n"
      ]
    },
    {
      "cell_type": "markdown",
      "id": "a9ad5688-aac8-4549-b9c5-6425775085e8",
      "metadata": {
        "id": "a9ad5688-aac8-4549-b9c5-6425775085e8"
      },
      "source": [
        "Ahoa vamos a filtrar la lista usando esta nueva función"
      ]
    },
    {
      "cell_type": "code",
      "execution_count": 102,
      "id": "6a441c8e-29f8-4c80-a388-a2ca3be63530",
      "metadata": {
        "id": "6a441c8e-29f8-4c80-a388-a2ca3be63530",
        "colab": {
          "base_uri": "https://localhost:8080/"
        },
        "outputId": "605a647e-d7b8-4fcf-a573-d207dd10679e"
      },
      "outputs": [
        {
          "output_type": "stream",
          "name": "stdout",
          "text": [
            "Números pares: [8, 4, -6, 10]\n"
          ]
        }
      ],
      "source": [
        "lista = [-3, 5, 8, 4, 1, -6, 7, 10]\n",
        "\n",
        "# Función para verificar si un número es par\n",
        "def es_par(numero):\n",
        "    return numero % 2 == 0\n",
        "\n",
        "# Filtrar los números pares de la lista\n",
        "numeros_pares = filter(es_par, lista)\n",
        "\n",
        "# Convertir el resultado en una lista y mostrarlo\n",
        "numeros_pares_lista = list(numeros_pares)\n",
        "print(\"Números pares:\", numeros_pares_lista)\n"
      ]
    },
    {
      "cell_type": "markdown",
      "id": "fb4f69f6-f7f8-49f1-94a2-51f481ea137d",
      "metadata": {
        "id": "fb4f69f6-f7f8-49f1-94a2-51f481ea137d"
      },
      "source": [
        "Podemos usar la comprensión de listas y nuestra nueva función para armar una lista"
      ]
    },
    {
      "cell_type": "code",
      "execution_count": 103,
      "id": "e94eaa15-2e37-482b-a69d-28d95d002f06",
      "metadata": {
        "id": "e94eaa15-2e37-482b-a69d-28d95d002f06",
        "colab": {
          "base_uri": "https://localhost:8080/"
        },
        "outputId": "5f2e2959-c2b6-4c9d-d1af-3c91c1cae197"
      },
      "outputs": [
        {
          "output_type": "stream",
          "name": "stdout",
          "text": [
            "Números pares: [8, 4, -6, 10]\n"
          ]
        }
      ],
      "source": [
        "lista = [-3, 5, 8, 4, 1, -6, 7, 10]\n",
        "\n",
        "# Función para verificar si un número es par\n",
        "def es_par(numero):\n",
        "    return numero % 2 == 0\n",
        "\n",
        "# Utilizar comprensión de listas para filtrar los números pares de la lista\n",
        "numeros_pares = [num for num in lista if es_par(num)]\n",
        "\n",
        "print(\"Números pares:\", numeros_pares)\n"
      ]
    },
    {
      "cell_type": "markdown",
      "id": "f0be8bcf-9b9e-4fb6-93cc-f0f30314f1b8",
      "metadata": {
        "id": "f0be8bcf-9b9e-4fb6-93cc-f0f30314f1b8"
      },
      "source": [
        "Cuando la funcion es tan sencilla, es mejor usar un lambda que andarla definiendo, como en este caso que hacemos lo mismo pero con lambda"
      ]
    },
    {
      "cell_type": "code",
      "execution_count": 104,
      "id": "cdc77c6f-5e42-4d9c-acac-4615f49226f5",
      "metadata": {
        "id": "cdc77c6f-5e42-4d9c-acac-4615f49226f5",
        "colab": {
          "base_uri": "https://localhost:8080/"
        },
        "outputId": "b8436c2f-3468-4068-b786-9f97093a0b43"
      },
      "outputs": [
        {
          "output_type": "stream",
          "name": "stdout",
          "text": [
            "Números pares: [8, 4, -6, 10]\n"
          ]
        }
      ],
      "source": [
        "lista = [-3, 5, 8, 4, 1, -6, 7, 10]\n",
        "\n",
        "# Utilizar una expresión lambda para verificar si un número es par\n",
        "numeros_pares = filter(lambda x: x % 2 == 0, lista)\n",
        "\n",
        "print(\"Números pares:\", list(numeros_pares))\n"
      ]
    },
    {
      "cell_type": "code",
      "execution_count": null,
      "id": "a13161a1-c80c-4f31-a58f-f2006d6f3996",
      "metadata": {
        "id": "a13161a1-c80c-4f31-a58f-f2006d6f3996"
      },
      "outputs": [],
      "source": []
    },
    {
      "cell_type": "markdown",
      "id": "fb32d7b5-1e45-4906-9905-31dd6d7f94e3",
      "metadata": {
        "id": "fb32d7b5-1e45-4906-9905-31dd6d7f94e3"
      },
      "source": [
        "Vamos a usar lambda y map para mostrar una comprensión de lista que eleva todo al cubo, la lsita a usar sera\n",
        "\n",
        "[-3, 5, 8, 4, 1, -6, 7, 10]\n"
      ]
    },
    {
      "cell_type": "code",
      "execution_count": 105,
      "id": "51dd7c09-cb14-48f0-abf3-00cc4fea926c",
      "metadata": {
        "id": "51dd7c09-cb14-48f0-abf3-00cc4fea926c",
        "colab": {
          "base_uri": "https://localhost:8080/"
        },
        "outputId": "827583be-f3e1-43e8-9972-6dd360ff7892"
      },
      "outputs": [
        {
          "output_type": "stream",
          "name": "stdout",
          "text": [
            "Lista elevada al cubo: [-27, 125, 512, 64, 1, -216, 343, 1000]\n"
          ]
        }
      ],
      "source": [
        "lista = [-3, 5, 8, 4, 1, -6, 7, 10]\n",
        "\n",
        "# Utilizar una expresión lambda con map para elevar todos los elementos al cubo\n",
        "cubos = map(lambda x: x ** 3, lista)\n",
        "\n",
        "# Convertir el resultado en una lista y mostrarlo\n",
        "resultado = list(cubos)\n",
        "print(\"Lista elevada al cubo:\", resultado)\n"
      ]
    },
    {
      "cell_type": "markdown",
      "id": "5678af85-cfcf-470f-b443-5fc8905421e6",
      "metadata": {
        "id": "5678af85-cfcf-470f-b443-5fc8905421e6"
      },
      "source": [
        "#### Por tu cuenta\n",
        "\n",
        "Crea una lista con numeros del 1 al 15 y luego\n",
        "- crea una nueva lista de los elementos impares\n",
        "- crea una nueva lista usando map y lambda para elevar al cuadrado a todos\n",
        "- filtra los elementos impares y luego mapealos a sus cuadrados"
      ]
    },
    {
      "cell_type": "code",
      "execution_count": 112,
      "id": "195e11af-3382-4c54-93e1-9ffc012c7fd5",
      "metadata": {
        "id": "195e11af-3382-4c54-93e1-9ffc012c7fd5",
        "colab": {
          "base_uri": "https://localhost:8080/"
        },
        "outputId": "a1e2f24f-8651-44a5-b197-b775ae391a37"
      },
      "outputs": [
        {
          "output_type": "stream",
          "name": "stdout",
          "text": [
            "[1, 4, 9, 16, 25, 36, 49, 64, 81, 100, 121, 144, 169, 196, 225]\n",
            "[1, 2, 3, 4, 5, 6, 7, 8, 9, 10, 11, 12, 13, 14, 15]\n",
            "impares [3, 6, 9, 12, 15]\n"
          ]
        }
      ],
      "source": [
        "#Acá va la solución\n",
        "numeros_lista = list(range(1, 16))\n",
        "elevar= map(lambda x: x ** 2, numeros_lista)\n",
        "numeros_impares = filter(lambda x: x % 3 == 0, numeros_lista)\n",
        "\n",
        "print(list(elevar))\n",
        "print(numeros_lista)\n",
        "print(f\"impares\",list(numeros_impares))"
      ]
    },
    {
      "cell_type": "code",
      "source": [],
      "metadata": {
        "id": "uT225HmxMQw_"
      },
      "id": "uT225HmxMQw_",
      "execution_count": null,
      "outputs": []
    }
  ],
  "metadata": {
    "kernelspec": {
      "display_name": "Python 3",
      "language": "python",
      "name": "python3"
    },
    "language_info": {
      "codemirror_mode": {
        "name": "ipython",
        "version": 3
      },
      "file_extension": ".py",
      "mimetype": "text/x-python",
      "name": "python",
      "nbconvert_exporter": "python",
      "pygments_lexer": "ipython3",
      "version": "3.8.8"
    },
    "colab": {
      "provenance": [],
      "include_colab_link": true
    }
  },
  "nbformat": 4,
  "nbformat_minor": 5
}