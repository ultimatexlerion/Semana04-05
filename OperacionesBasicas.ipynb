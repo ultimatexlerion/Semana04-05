{
  "nbformat": 4,
  "nbformat_minor": 0,
  "metadata": {
    "colab": {
      "provenance": [],
      "authorship_tag": "ABX9TyNhW/M+EEiHSZ68Wr2QB92i",
      "include_colab_link": true
    },
    "kernelspec": {
      "name": "python3",
      "display_name": "Python 3"
    },
    "language_info": {
      "name": "python"
    }
  },
  "cells": [
    {
      "cell_type": "markdown",
      "metadata": {
        "id": "view-in-github",
        "colab_type": "text"
      },
      "source": [
        "<a href=\"https://colab.research.google.com/github/ultimatexlerion/Semana04-05/blob/main/OperacionesBasicas.ipynb\" target=\"_parent\"><img src=\"https://colab.research.google.com/assets/colab-badge.svg\" alt=\"Open In Colab\"/></a>"
      ]
    },
    {
      "cell_type": "markdown",
      "source": [
        " Realizar un programa que capture dos números enteros ingresados por el usuario y realice las operaciones aritméticas básicas (suma,\n",
        "resta, multiplicación y división)\n"
      ],
      "metadata": {
        "id": "OkJUipLyUWWt"
      }
    },
    {
      "cell_type": "code",
      "execution_count": 69,
      "metadata": {
        "colab": {
          "base_uri": "https://localhost:8080/"
        },
        "id": "506t0wicA8vj",
        "outputId": "e3fac968-4157-4725-e9c7-2f473190c677"
      },
      "outputs": [
        {
          "output_type": "stream",
          "name": "stdout",
          "text": [
            "digite el primer numero\n",
            "2\n",
            "digite el segundo numero\n",
            "85\n",
            "la suma de los numeros es 2 + 85 = 87\n",
            "la resta de los numeros es 2 - 85 = -83\n",
            "la multiplicacion de los numeros es 2 * 85 = 170\n",
            "la division de los numeros es 2 / 85 = 0.023529411764705882\n",
            "[87, -83, 170, 0.023529411764705882]\n"
          ]
        }
      ],
      "source": [
        "print(\"digite el primer numero\")\n",
        "numero1= int(input())\n",
        "print (\"digite el segundo numero\")\n",
        "numero2= int(input())\n",
        "resultado_suma = numero1+numero2\n",
        "print (\"la suma de los numeros es\", numero1, \"+\", numero2, \"=\", resultado_suma)\n",
        "resultado_resta = numero1-numero2\n",
        "print (\"la resta de los numeros es\", numero1, \"-\", numero2, \"=\", resultado_resta)\n",
        "resultado_multiplicacion = numero1*numero2\n",
        "print (\"la multiplicacion de los numeros es\", numero1, \"*\", numero2, \"=\", resultado_multiplicacion)\n",
        "resultado_division = numero1/numero2\n",
        "print (\"la division de los numeros es\", numero1, \"/\", numero2, \"=\", resultado_division)\n",
        "resultados=[resultado_suma, resultado_resta, resultado_multiplicacion, resultado_division]\n",
        "print(resultados)"
      ]
    },
    {
      "cell_type": "code",
      "source": [
        "suma={(int(resultado_suma))}\n",
        "resta={int(resultado_resta)}\n",
        "multiplicacion={int(resultado_multiplicacion)}\n",
        "division={int(resultado_division)}\n",
        "print(suma, resta, multiplicacion, division)"
      ],
      "metadata": {
        "colab": {
          "base_uri": "https://localhost:8080/"
        },
        "id": "VAzM7_ILBRh1",
        "outputId": "033cbcf0-e5df-4943-dbce-5f45833c5dec"
      },
      "execution_count": 70,
      "outputs": [
        {
          "output_type": "stream",
          "name": "stdout",
          "text": [
            "{87} {-83} {170} {0}\n"
          ]
        }
      ]
    },
    {
      "cell_type": "markdown",
      "source": [
        "Realizar un programa que calcule la siguiente expresión:\n",
        "((5 * ((25 mod 13) + 100) / (2 * 13)) // 2)"
      ],
      "metadata": {
        "id": "UAT11aNwUZbX"
      }
    },
    {
      "cell_type": "code",
      "source": [
        "numero1=5\n",
        "numero2=25\n",
        "numero3=13\n",
        "numero4=100\n",
        "numero5=2\n",
        "resultadofinal=((numero1*(numero2%numero3+numero4)/(numero5*numero3))//numero5)\n",
        "print(resultadofinal)"
      ],
      "metadata": {
        "colab": {
          "base_uri": "https://localhost:8080/"
        },
        "id": "GlAL3RaQCstO",
        "outputId": "e86e8956-a576-47fc-822b-63eaff059f47"
      },
      "execution_count": 71,
      "outputs": [
        {
          "output_type": "stream",
          "name": "stdout",
          "text": [
            "10.0\n"
          ]
        }
      ]
    },
    {
      "cell_type": "markdown",
      "source": [
        "Crea un programa que pida al usuario un número real y muestra su raíz cuadrada.\n"
      ],
      "metadata": {
        "id": "BWzD5qxhVWwi"
      }
    },
    {
      "cell_type": "code",
      "source": [
        "import math\n",
        "numeroReal= input(\"ingrese su numero real: \")\n",
        "print(\"la raiz cuadrada de\", numeroReal, \"es\", float(numeroReal)**(1/2))\n",
        "\n",
        "numeroReal\n",
        "\n"
      ],
      "metadata": {
        "colab": {
          "base_uri": "https://localhost:8080/",
          "height": 72
        },
        "id": "6ZlYz1-VVOPG",
        "outputId": "c158fc15-cec3-4ba9-b8d7-40d5ee39193b"
      },
      "execution_count": 78,
      "outputs": [
        {
          "output_type": "stream",
          "name": "stdout",
          "text": [
            "ingrese su numero real: 45\n",
            "la raiz cuadrada de 45 es 6.708203932499369\n"
          ]
        },
        {
          "output_type": "execute_result",
          "data": {
            "text/plain": [
              "'45'"
            ],
            "application/vnd.google.colaboratory.intrinsic+json": {
              "type": "string"
            }
          },
          "metadata": {},
          "execution_count": 78
        }
      ]
    },
    {
      "cell_type": "markdown",
      "source": [
        "Crear un programa que permita solucionar un problema a través del teorema de Pitágoras:\n"
      ],
      "metadata": {
        "id": "CAHtPl0tWNcv"
      }
    },
    {
      "cell_type": "code",
      "source": [
        "print (\"ingrese el valor del cateto adyacente\")\n",
        "cateto_adyacente= int(input())\n",
        "print (\"ingrese el valor del cateto opuesto\")\n",
        "cateto_opuesto= int(input())\n",
        "hipotenusa= (cateto_adyacente**2+cateto_opuesto**2)**(1/2)\n",
        "print (\"el valor de la hipotenusa es\", hipotenusa)"
      ],
      "metadata": {
        "colab": {
          "base_uri": "https://localhost:8080/"
        },
        "id": "euFngLTfVd7E",
        "outputId": "a078d391-930e-4fb3-c615-a5060ec1158d"
      },
      "execution_count": 81,
      "outputs": [
        {
          "output_type": "stream",
          "name": "stdout",
          "text": [
            "ingrese el valor del cateto adyacente\n",
            "5\n",
            "ingrese el valor del cateto opuesto\n",
            "2\n",
            "el valor de la hipotenusa es 5.385164807134504\n"
          ]
        }
      ]
    },
    {
      "cell_type": "markdown",
      "source": [
        " Crea un programa que pida al usuario un número real y muestra su raíz cuarta (la raíz\n",
        "cuadrada de la raíz cuadrada)"
      ],
      "metadata": {
        "id": "ekS5NEnSW39l"
      }
    },
    {
      "cell_type": "code",
      "source": [
        "usernum= input(\"ingrese un numero real: \")\n",
        "print(\"la raiz cuarta de\", usernum, \"es\", float(usernum)**(1/4))"
      ],
      "metadata": {
        "colab": {
          "base_uri": "https://localhost:8080/"
        },
        "id": "RsTxKi9ZWXFz",
        "outputId": "92b9abc2-3fee-4280-8d31-36828f6a5c74"
      },
      "execution_count": 82,
      "outputs": [
        {
          "output_type": "stream",
          "name": "stdout",
          "text": [
            "ingrese un numero real: 25\n",
            "la raiz cuarta de 25 es 2.23606797749979\n"
          ]
        }
      ]
    },
    {
      "cell_type": "markdown",
      "source": [
        "Crear un programa que calcule y escriba el área para un circulo."
      ],
      "metadata": {
        "id": "vrQC-FM3XLE3"
      }
    },
    {
      "cell_type": "code",
      "source": [
        "circulo= input(\"ingrese el radio del circulo: \")\n",
        "print(\"el area del circulo es\", float(circulo)**2*3.14)"
      ],
      "metadata": {
        "colab": {
          "base_uri": "https://localhost:8080/"
        },
        "id": "JEYZJeyrXKzO",
        "outputId": "ef5e16ab-6fde-4af3-ba02-41455af92ed4"
      },
      "execution_count": 83,
      "outputs": [
        {
          "output_type": "stream",
          "name": "stdout",
          "text": [
            "ingrese el radio del circulo: 54\n",
            "el area del circulo es 9156.24\n"
          ]
        }
      ]
    },
    {
      "cell_type": "markdown",
      "source": [
        "Elaborar un programa que calcule y escriba el precio de venta para un artículo, se tiene, el\n",
        "nombre del producto y el costo de producción; el precio de venta se calcula añadiendo el 120\n",
        "% como utilidad y 15 % de impuestos.\n"
      ],
      "metadata": {
        "id": "MkAKa47FXTQM"
      }
    },
    {
      "cell_type": "code",
      "source": [
        "articulo_precio = float('1000000')\n",
        "nombre_articulo = str(\"articulo\")\n",
        "costo_pro= float('280000')\n",
        "utilidad= int(120)\n",
        "impuestos= int(15)\n",
        "resultado_articulo= nombre_articulo, (articulo_precio * (utilidad/100)) + (articulo_precio * (impuestos/100))\n",
        "resultado_articulo"
      ],
      "metadata": {
        "colab": {
          "base_uri": "https://localhost:8080/"
        },
        "id": "zNxxxEBvW9up",
        "outputId": "64d2c91a-4952-4059-8a97-358c36cb75e2"
      },
      "execution_count": 96,
      "outputs": [
        {
          "output_type": "execute_result",
          "data": {
            "text/plain": [
              "('articulo', 1350000.0)"
            ]
          },
          "metadata": {},
          "execution_count": 96
        }
      ]
    },
    {
      "cell_type": "code",
      "source": [],
      "metadata": {
        "id": "yCqEcjh1X2sz"
      },
      "execution_count": null,
      "outputs": []
    }
  ]
}