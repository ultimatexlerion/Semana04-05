{
  "nbformat": 4,
  "nbformat_minor": 0,
  "metadata": {
    "colab": {
      "provenance": [],
      "authorship_tag": "ABX9TyOOG5Y4YYSrbEen8mUsroKe",
      "include_colab_link": true
    },
    "kernelspec": {
      "name": "python3",
      "display_name": "Python 3"
    },
    "language_info": {
      "name": "python"
    }
  },
  "cells": [
    {
      "cell_type": "markdown",
      "metadata": {
        "id": "view-in-github",
        "colab_type": "text"
      },
      "source": [
        "<a href=\"https://colab.research.google.com/github/ultimatexlerion/Semana04-05/blob/main/OperacionesBasicas.ipynb\" target=\"_parent\"><img src=\"https://colab.research.google.com/assets/colab-badge.svg\" alt=\"Open In Colab\"/></a>"
      ]
    },
    {
      "cell_type": "code",
      "execution_count": 57,
      "metadata": {
        "colab": {
          "base_uri": "https://localhost:8080/"
        },
        "id": "506t0wicA8vj",
        "outputId": "822bceb6-e8cb-4c34-c7e0-8d34a2e22173"
      },
      "outputs": [
        {
          "output_type": "stream",
          "name": "stdout",
          "text": [
            "digite el primer numero\n",
            "7\n",
            "digite el segundo numero\n",
            "5\n",
            "la suma de los numeros es 7.0 + 5.0 = 12.0\n",
            "la resta de los numeros es 7.0 - 5.0 = 2.0\n",
            "la multiplicacion de los numeros es 7.0 * 5.0 = 35.0\n",
            "la division de los numeros es 7.0 / 5.0 = 1.4\n",
            "[12.0, 2.0, 35.0, 1.4]\n"
          ]
        }
      ],
      "source": [
        "print(\"digite el primer numero\")\n",
        "numero1= float(input())\n",
        "print (\"digite el segundo numero\")\n",
        "numero2= float(input())\n",
        "resultado_suma = numero1+numero2\n",
        "print (\"la suma de los numeros es\", numero1, \"+\", numero2, \"=\", resultado_suma)\n",
        "resultado_resta = numero1-numero2\n",
        "print (\"la resta de los numeros es\", numero1, \"-\", numero2, \"=\", resultado_resta)\n",
        "resultado_multiplicacion = numero1*numero2\n",
        "print (\"la multiplicacion de los numeros es\", numero1, \"*\", numero2, \"=\", resultado_multiplicacion)\n",
        "resultado_division = numero1/numero2\n",
        "print (\"la division de los numeros es\", numero1, \"/\", numero2, \"=\", resultado_division)\n",
        "resultados=[resultado_suma, resultado_resta, resultado_multiplicacion, resultado_division]\n",
        "print(resultados)"
      ]
    },
    {
      "cell_type": "code",
      "source": [
        "suma={(int(resultado_suma))}\n",
        "resta={int(resultado_resta)}\n",
        "multiplicacion={int(resultado_multiplicacion)}\n",
        "division={int(resultado_division)}\n",
        "print(suma, resta, multiplicacion, division)"
      ],
      "metadata": {
        "colab": {
          "base_uri": "https://localhost:8080/"
        },
        "id": "VAzM7_ILBRh1",
        "outputId": "aac2dd7e-022a-431f-ad7d-4685db66c4db"
      },
      "execution_count": 60,
      "outputs": [
        {
          "output_type": "stream",
          "name": "stdout",
          "text": [
            "{12} {2} {35} {1}\n"
          ]
        }
      ]
    },
    {
      "cell_type": "code",
      "source": [
        "\n"
      ],
      "metadata": {
        "colab": {
          "base_uri": "https://localhost:8080/"
        },
        "id": "gxSXWMoDCapV",
        "outputId": "8cfb7205-ee42-446c-ebe7-4a9840101fe0"
      },
      "execution_count": 63,
      "outputs": [
        {
          "output_type": "stream",
          "name": "stdout",
          "text": [
            "el numero entero fue:  7, 5\n"
          ]
        }
      ]
    },
    {
      "cell_type": "code",
      "source": [],
      "metadata": {
        "id": "GlAL3RaQCstO"
      },
      "execution_count": null,
      "outputs": []
    }
  ]
}